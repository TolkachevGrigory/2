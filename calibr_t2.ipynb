{
 "cells": [
  {
   "cell_type": "code",
   "execution_count": 2,
   "metadata": {},
   "outputs": [],
   "source": [
    "import uproot\n",
    "import matplotlib\n",
    "import numpy\n",
    "import matplotlib.pyplot as plt\n",
    "\n"
   ]
  },
  {
   "cell_type": "code",
   "execution_count": 3,
   "metadata": {},
   "outputs": [],
   "source": [
    "import seaborn as sns; sns.set()\n",
    "from matplotlib import pylab as plt\n",
    "import pandas as pd "
   ]
  },
  {
   "cell_type": "code",
   "execution_count": 4,
   "metadata": {},
   "outputs": [],
   "source": [
    "file = uproot.open(\"/Users/zaret/Desktop/cal/calibration_20111111.tier2.root\")"
   ]
  },
  {
   "cell_type": "code",
   "execution_count": 5,
   "metadata": {
    "scrolled": false
   },
   "outputs": [
    {
     "data": {
      "text/plain": [
       "[b'GEMDFADC_HistCh0;1',\n",
       " b'GEMDFADC_HistCh1;1',\n",
       " b'GEMDFADC_HistCh2;1',\n",
       " b'GEMDFADC_HistCh3;1',\n",
       " b'GEMDFADC_HistCh4;1',\n",
       " b'GEMDFADC_HistCh5;1',\n",
       " b'GEMDFADC_HistCh6;1',\n",
       " b'GEMDFADC_HistCh7;1',\n",
       " b'GEMDFADC_HistCh8;1',\n",
       " b'GEMDFADC_HistCh9;1',\n",
       " b'GEMDFADC_HistCh10;1',\n",
       " b'GEMDEnergyGauss_HistCh0;1',\n",
       " b'GEMDEnergyGauss_HistCh1;1',\n",
       " b'GEMDEnergyGauss_HistCh2;1',\n",
       " b'GEMDEnergyGauss_HistCh3;1',\n",
       " b'GEMDEnergyGauss_HistCh4;1',\n",
       " b'GEMDEnergyGauss_HistCh5;1',\n",
       " b'GEMDEnergyGauss_HistCh6;1',\n",
       " b'GEMDEnergyGauss_HistCh7;1',\n",
       " b'GEMDEnergyGauss_HistCh8;1',\n",
       " b'GEMDEnergyGauss_HistCh9;1',\n",
       " b'GEMDEnergyGauss_HistCh10;1',\n",
       " b'GEMDFADC;1',\n",
       " b'GEMDBaseline;1',\n",
       " b'GEMDTrigger;1',\n",
       " b'GEMDFTTrigger;1',\n",
       " b'GEMDEnergyGauss;1',\n",
       " b'GEMDRiseTime;1',\n",
       " b'GEMDRiseTimeChain2;1',\n",
       " b'GEMDCurrentPSAChain2;1',\n",
       " b'GEMDQuality;1',\n",
       " b'tree;1']"
      ]
     },
     "execution_count": 5,
     "metadata": {},
     "output_type": "execute_result"
    }
   ],
   "source": [
    "file.keys()"
   ]
  },
  {
   "cell_type": "code",
   "execution_count": 6,
   "metadata": {},
   "outputs": [],
   "source": [
    "file1 = uproot.open(\"/Users/zaret/Desktop/cal/calibration_20111109.tier2.root\")[\"GEMDFADC\"]"
   ]
  },
  {
   "cell_type": "code",
   "execution_count": 7,
   "metadata": {},
   "outputs": [],
   "source": [
    "tree1=file1.pandas.df()"
   ]
  },
  {
   "cell_type": "code",
   "execution_count": 7,
   "metadata": {},
   "outputs": [
    {
     "data": {
      "text/plain": [
       "Index(['modList', 'eventNumber', 'channelID', 'timestamp', 'decimalTimestamp',\n",
       "       'vetoFlag', 'vetoSample', 'eventType', 'energy', 'channelStatus',\n",
       "       'waveformTag'],\n",
       "      dtype='object')"
      ]
     },
     "execution_count": 7,
     "metadata": {},
     "output_type": "execute_result"
    }
   ],
   "source": [
    "tree1.keys()"
   ]
  },
  {
   "cell_type": "code",
   "execution_count": 8,
   "metadata": {},
   "outputs": [
    {
     "data": {
      "text/plain": [
       "(array([2.5564051e+07, 5.2000000e+01, 5.1000000e+01, 4.9000000e+01,\n",
       "        4.9000000e+01, 4.7000000e+01, 5.1000000e+01, 5.7000000e+01,\n",
       "        5.7000000e+01, 5.1000000e+01, 5.0000000e+01, 5.6000000e+01,\n",
       "        4.9000000e+01, 5.2000000e+01, 4.8000000e+01, 5.6000000e+01,\n",
       "        5.5000000e+01, 5.5000000e+01, 5.0000000e+01, 5.0000000e+01,\n",
       "        5.9000000e+01, 5.4000000e+01, 5.3000000e+01, 5.2000000e+01,\n",
       "        5.7000000e+01, 5.4000000e+01, 4.5000000e+01, 5.3000000e+01,\n",
       "        4.3000000e+01, 5.2000000e+01, 5.1000000e+01, 5.1000000e+01,\n",
       "        5.6000000e+01, 5.7000000e+01, 5.6000000e+01, 5.0000000e+01,\n",
       "        5.7000000e+01, 5.2000000e+01, 5.2000000e+01, 5.3000000e+01,\n",
       "        5.5000000e+01, 5.3000000e+01, 5.6000000e+01, 5.3000000e+01,\n",
       "        5.8000000e+01, 5.5000000e+01, 4.5000000e+01, 5.2000000e+01,\n",
       "        5.3000000e+01, 5.7000000e+01]),\n",
       " array([   0.,   60.,  120.,  180.,  240.,  300.,  360.,  420.,  480.,\n",
       "         540.,  600.,  660.,  720.,  780.,  840.,  900.,  960., 1020.,\n",
       "        1080., 1140., 1200., 1260., 1320., 1380., 1440., 1500., 1560.,\n",
       "        1620., 1680., 1740., 1800., 1860., 1920., 1980., 2040., 2100.,\n",
       "        2160., 2220., 2280., 2340., 2400., 2460., 2520., 2580., 2640.,\n",
       "        2700., 2760., 2820., 2880., 2940., 3000.]),\n",
       " <a list of 50 Patch objects>)"
      ]
     },
     "execution_count": 8,
     "metadata": {},
     "output_type": "execute_result"
    },
    {
     "data": {
      "image/png": "[encoded data removed]",
      "text/plain": [
       "<Figure size 432x288 with 1 Axes>"
      ]
     },
     "metadata": {},
     "output_type": "display_data"
    }
   ],
   "source": [
    "x=tree1[\"eventNumber\"]\n",
    "plt.hist(x, bins=50, range=(0,3000), color='navy')\n"
   ]
  },
  {
   "cell_type": "code",
   "execution_count": null,
   "metadata": {},
   "outputs": [],
   "source": []
  },
  {
   "cell_type": "code",
   "execution_count": 9,
   "metadata": {},
   "outputs": [
    {
     "data": {
      "text/plain": [
       "(array([      0.,       0.,       0.,       0.,       0.,       0.,\n",
       "              0.,       0.,       0.,       0.,       0.,       0.,\n",
       "              0.,       0.,       0.,       0.,       0., 3174210.,\n",
       "              0.,       0.,       0.,       0.,       0.,       0.,\n",
       "              0.,       0.,       0.,       0.,       0.,       0.,\n",
       "              0.,       0.,       0.,       0.,       0.,       0.,\n",
       "              0.,       0.,       0.,       0.,       0.,       0.,\n",
       "              0.,       0.,       0.,       0.,       0.,       0.,\n",
       "              0.,       0.]),\n",
       " array([1.32000e+09, 1.32006e+09, 1.32012e+09, 1.32018e+09, 1.32024e+09,\n",
       "        1.32030e+09, 1.32036e+09, 1.32042e+09, 1.32048e+09, 1.32054e+09,\n",
       "        1.32060e+09, 1.32066e+09, 1.32072e+09, 1.32078e+09, 1.32084e+09,\n",
       "        1.32090e+09, 1.32096e+09, 1.32102e+09, 1.32108e+09, 1.32114e+09,\n",
       "        1.32120e+09, 1.32126e+09, 1.32132e+09, 1.32138e+09, 1.32144e+09,\n",
       "        1.32150e+09, 1.32156e+09, 1.32162e+09, 1.32168e+09, 1.32174e+09,\n",
       "        1.32180e+09, 1.32186e+09, 1.32192e+09, 1.32198e+09, 1.32204e+09,\n",
       "        1.32210e+09, 1.32216e+09, 1.32222e+09, 1.32228e+09, 1.32234e+09,\n",
       "        1.32240e+09, 1.32246e+09, 1.32252e+09, 1.32258e+09, 1.32264e+09,\n",
       "        1.32270e+09, 1.32276e+09, 1.32282e+09, 1.32288e+09, 1.32294e+09,\n",
       "        1.32300e+09]),\n",
       " <a list of 50 Patch objects>)"
      ]
     },
     "execution_count": 9,
     "metadata": {},
     "output_type": "execute_result"
    },
    {
     "data": {
      "image/png": "[encoded data removed]",
      "text/plain": [
       "<Figure size 432x288 with 1 Axes>"
      ]
     },
     "metadata": {},
     "output_type": "display_data"
    }
   ],
   "source": [
    "x=tree1[\"timestamp\"]\n",
    "plt.hist(x, bins=50, range=(1320*10**6,1323*10**6), color='navy')\n"
   ]
  },
  {
   "cell_type": "code",
   "execution_count": 9,
   "metadata": {},
   "outputs": [
    {
     "data": {
      "text/plain": [
       "(array([   0.,    0.,    0.,    0.,    0.,    0., 1111.,    0.,    0.,\n",
       "           0.,    0.,    0.,    0.,    0.,    0.,    0.,    0.,    0.,\n",
       "           0.,    0.,    0.,    0.,    0.,    0.,    0.,    0.,    0.,\n",
       "           0.,    0.,    0.,    0.,    0.,    0.,    0.,    0.,    0.,\n",
       "           0.,    0.,    0.,    0.,    0.,    0.,    0.,    0.,    0.,\n",
       "           0.,    0.,    0.,    0.,    0.,    0.,    0.,    0.,    0.,\n",
       "           0.,    0.,    0.,    0.,    0.,    0.,    0.,    0.,    0.,\n",
       "           0.,    0.,    0.,    0.,    0.,    0.,    0.,    0.,    0.,\n",
       "           0.,    0.,    0.,    0.,    0.,    0.,    0.,    0.,    0.,\n",
       "           0.,    0.,    0.,    0.,    0.,    0.,    0.,    0.,    0.,\n",
       "           0.,    0.,    0.,    0.,    0.,    0.,    0.,    0.,    0.,\n",
       "           0.,    0.,    0.,    0.,    0.,    0.,    0.,    0.,    0.,\n",
       "           0.,    0.,    0.,    0.,    0.,    0.,    0.,    0.,    0.,\n",
       "           0.,    0.,    0.,    0.,    0.,    0.,    0.,    0.,    0.,\n",
       "           0.,    0.,    0.,    0.,    0.,    0.,    0.,    0.,    0.,\n",
       "           0.,    0.,    0.,    0.,    0.,    0.,    0.,    0.,    0.,\n",
       "           0.,    0.,    0.,    0.,    0.,    0.]),\n",
       " array([ 0.1       ,  0.23266667,  0.36533333,  0.498     ,  0.63066667,\n",
       "         0.76333333,  0.896     ,  1.02866667,  1.16133333,  1.294     ,\n",
       "         1.42666667,  1.55933333,  1.692     ,  1.82466667,  1.95733333,\n",
       "         2.09      ,  2.22266667,  2.35533333,  2.488     ,  2.62066667,\n",
       "         2.75333333,  2.886     ,  3.01866667,  3.15133333,  3.284     ,\n",
       "         3.41666667,  3.54933333,  3.682     ,  3.81466667,  3.94733333,\n",
       "         4.08      ,  4.21266667,  4.34533333,  4.478     ,  4.61066667,\n",
       "         4.74333333,  4.876     ,  5.00866667,  5.14133333,  5.274     ,\n",
       "         5.40666667,  5.53933333,  5.672     ,  5.80466667,  5.93733333,\n",
       "         6.07      ,  6.20266667,  6.33533333,  6.468     ,  6.60066667,\n",
       "         6.73333333,  6.866     ,  6.99866667,  7.13133333,  7.264     ,\n",
       "         7.39666667,  7.52933333,  7.662     ,  7.79466667,  7.92733333,\n",
       "         8.06      ,  8.19266667,  8.32533333,  8.458     ,  8.59066667,\n",
       "         8.72333333,  8.856     ,  8.98866667,  9.12133333,  9.254     ,\n",
       "         9.38666667,  9.51933333,  9.652     ,  9.78466667,  9.91733333,\n",
       "        10.05      , 10.18266667, 10.31533333, 10.448     , 10.58066667,\n",
       "        10.71333333, 10.846     , 10.97866667, 11.11133333, 11.244     ,\n",
       "        11.37666667, 11.50933333, 11.642     , 11.77466667, 11.90733333,\n",
       "        12.04      , 12.17266667, 12.30533333, 12.438     , 12.57066667,\n",
       "        12.70333333, 12.836     , 12.96866667, 13.10133333, 13.234     ,\n",
       "        13.36666667, 13.49933333, 13.632     , 13.76466667, 13.89733333,\n",
       "        14.03      , 14.16266667, 14.29533333, 14.428     , 14.56066667,\n",
       "        14.69333333, 14.826     , 14.95866667, 15.09133333, 15.224     ,\n",
       "        15.35666667, 15.48933333, 15.622     , 15.75466667, 15.88733333,\n",
       "        16.02      , 16.15266667, 16.28533333, 16.418     , 16.55066667,\n",
       "        16.68333333, 16.816     , 16.94866667, 17.08133333, 17.214     ,\n",
       "        17.34666667, 17.47933333, 17.612     , 17.74466667, 17.87733333,\n",
       "        18.01      , 18.14266667, 18.27533333, 18.408     , 18.54066667,\n",
       "        18.67333333, 18.806     , 18.93866667, 19.07133333, 19.204     ,\n",
       "        19.33666667, 19.46933333, 19.602     , 19.73466667, 19.86733333,\n",
       "        20.        ]),\n",
       " <a list of 150 Patch objects>)"
      ]
     },
     "execution_count": 9,
     "metadata": {},
     "output_type": "execute_result"
    },
    {
     "data": {
      "image/png": "[encoded data removed]",
      "text/plain": [
       "<Figure size 432x288 with 1 Axes>"
      ]
     },
     "metadata": {},
     "output_type": "display_data"
    }
   ],
   "source": [
    "x=tree1[\"eventType\"]\n",
    "plt.hist(x, bins=150, range=(0.1,20), color='navy')\n"
   ]
  },
  {
   "cell_type": "code",
   "execution_count": 11,
   "metadata": {},
   "outputs": [
    {
     "data": {
      "text/plain": [
       "(array([3.7782e+04, 8.8680e+03, 3.2200e+02, 2.9000e+02, 2.7200e+02,\n",
       "        3.0000e+02, 2.3200e+02, 2.0300e+02, 1.6200e+02, 1.4800e+02,\n",
       "        1.3600e+02, 1.3300e+02, 1.2100e+02, 8.8000e+01, 1.0300e+02,\n",
       "        8.2000e+01, 6.3000e+01, 6.4000e+01, 4.1000e+01, 4.6000e+01,\n",
       "        1.3100e+02, 3.1000e+01, 2.5000e+01, 8.1000e+01, 1.2000e+01,\n",
       "        7.0000e+00, 8.0000e+00, 1.2000e+01, 1.0000e+01, 7.0000e+00,\n",
       "        1.4000e+01, 6.0000e+00, 5.0000e+00, 4.0000e+00, 1.2000e+01,\n",
       "        3.0000e+00, 4.0000e+00, 5.0000e+00, 5.0000e+00, 4.0000e+00,\n",
       "        4.0000e+00, 7.0000e+00, 4.0000e+00, 3.0000e+00, 3.0000e+00,\n",
       "        2.0000e+00, 3.0000e+00, 3.0000e+00, 2.0000e+00, 2.0000e+00]),\n",
       " array([20000., 20200., 20400., 20600., 20800., 21000., 21200., 21400.,\n",
       "        21600., 21800., 22000., 22200., 22400., 22600., 22800., 23000.,\n",
       "        23200., 23400., 23600., 23800., 24000., 24200., 24400., 24600.,\n",
       "        24800., 25000., 25200., 25400., 25600., 25800., 26000., 26200.,\n",
       "        26400., 26600., 26800., 27000., 27200., 27400., 27600., 27800.,\n",
       "        28000., 28200., 28400., 28600., 28800., 29000., 29200., 29400.,\n",
       "        29600., 29800., 30000.]),\n",
       " <a list of 50 Patch objects>)"
      ]
     },
     "execution_count": 11,
     "metadata": {},
     "output_type": "execute_result"
    },
    {
     "data": {
      "image/png": "[encoded data removed]",
      "text/plain": [
       "<Figure size 432x288 with 1 Axes>"
      ]
     },
     "metadata": {},
     "output_type": "display_data"
    }
   ],
   "source": [
    "x=tree1[\"energy\"]\n",
    "plt.hist(x, bins=50, range=(20000,30000), color='navy')\n"
   ]
  },
  {
   "cell_type": "code",
   "execution_count": 12,
   "metadata": {},
   "outputs": [
    {
     "name": "stderr",
     "output_type": "stream",
     "text": [
      "<string>:6: RuntimeWarning: Converting input from bool to <class 'numpy.uint8'> for compatibility.\n"
     ]
    },
    {
     "data": {
      "text/plain": [
       "(array([25563994.,        0.,        0.,        0.,        0.,        0.,\n",
       "               0.,        0.,        0.,        0.,        0.,        0.,\n",
       "               0.,        0.,        0.,        0.,        0.,        0.,\n",
       "               0.,        0.,  3174210.,        0.,        0.,        0.,\n",
       "               0.,        0.,        0.,        0.,        0.,        0.,\n",
       "               0.,        0.,        0.,        0.,        0.,        0.,\n",
       "               0.,        0.,        0.,        0.,        0.,        0.,\n",
       "               0.,        0.,        0.,        0.,        0.,        0.,\n",
       "               0.,        0.]),\n",
       " array([0.  , 0.05, 0.1 , 0.15, 0.2 , 0.25, 0.3 , 0.35, 0.4 , 0.45, 0.5 ,\n",
       "        0.55, 0.6 , 0.65, 0.7 , 0.75, 0.8 , 0.85, 0.9 , 0.95, 1.  , 1.05,\n",
       "        1.1 , 1.15, 1.2 , 1.25, 1.3 , 1.35, 1.4 , 1.45, 1.5 , 1.55, 1.6 ,\n",
       "        1.65, 1.7 , 1.75, 1.8 , 1.85, 1.9 , 1.95, 2.  , 2.05, 2.1 , 2.15,\n",
       "        2.2 , 2.25, 2.3 , 2.35, 2.4 , 2.45, 2.5 ]),\n",
       " <a list of 50 Patch objects>)"
      ]
     },
     "execution_count": 12,
     "metadata": {},
     "output_type": "execute_result"
    },
    {
     "data": {
      "image/png": "[encoded data removed]",
      "text/plain": [
       "<Figure size 432x288 with 1 Axes>"
      ]
     },
     "metadata": {},
     "output_type": "display_data"
    }
   ],
   "source": [
    "x=tree1[\"channelStatus\"]\n",
    "plt.hist(x, bins=50, range=(0.,2.5), color='navy')\n"
   ]
  },
  {
   "cell_type": "code",
   "execution_count": 13,
   "metadata": {},
   "outputs": [
    {
     "data": {
      "text/plain": [
       "(array([2.8738197e+07, 0.0000000e+00, 0.0000000e+00, 0.0000000e+00,\n",
       "        0.0000000e+00, 0.0000000e+00, 0.0000000e+00, 0.0000000e+00,\n",
       "        0.0000000e+00, 0.0000000e+00, 0.0000000e+00, 0.0000000e+00,\n",
       "        0.0000000e+00, 0.0000000e+00, 0.0000000e+00, 0.0000000e+00,\n",
       "        0.0000000e+00, 0.0000000e+00, 0.0000000e+00, 0.0000000e+00,\n",
       "        0.0000000e+00, 0.0000000e+00, 0.0000000e+00, 0.0000000e+00,\n",
       "        0.0000000e+00, 7.0000000e+00, 0.0000000e+00, 0.0000000e+00,\n",
       "        0.0000000e+00, 0.0000000e+00, 0.0000000e+00, 0.0000000e+00,\n",
       "        0.0000000e+00, 0.0000000e+00, 0.0000000e+00, 0.0000000e+00,\n",
       "        0.0000000e+00, 0.0000000e+00, 0.0000000e+00, 0.0000000e+00,\n",
       "        0.0000000e+00, 0.0000000e+00, 0.0000000e+00, 0.0000000e+00,\n",
       "        0.0000000e+00, 0.0000000e+00, 0.0000000e+00, 0.0000000e+00,\n",
       "        0.0000000e+00, 0.0000000e+00]),\n",
       " array([0.  , 0.08, 0.16, 0.24, 0.32, 0.4 , 0.48, 0.56, 0.64, 0.72, 0.8 ,\n",
       "        0.88, 0.96, 1.04, 1.12, 1.2 , 1.28, 1.36, 1.44, 1.52, 1.6 , 1.68,\n",
       "        1.76, 1.84, 1.92, 2.  , 2.08, 2.16, 2.24, 2.32, 2.4 , 2.48, 2.56,\n",
       "        2.64, 2.72, 2.8 , 2.88, 2.96, 3.04, 3.12, 3.2 , 3.28, 3.36, 3.44,\n",
       "        3.52, 3.6 , 3.68, 3.76, 3.84, 3.92, 4.  ]),\n",
       " <a list of 50 Patch objects>)"
      ]
     },
     "execution_count": 13,
     "metadata": {},
     "output_type": "execute_result"
    },
    {
     "data": {
      "image/png": "[encoded data removed]",
      "text/plain": [
       "<Figure size 432x288 with 1 Axes>"
      ]
     },
     "metadata": {},
     "output_type": "display_data"
    }
   ],
   "source": [
    "x=tree1[\"waveformTag\"]\n",
    "plt.hist(x, bins=50, range=(0,4), color='navy')\n"
   ]
  },
  {
   "cell_type": "code",
   "execution_count": 14,
   "metadata": {},
   "outputs": [],
   "source": [
    "file2 = uproot.open(\"/Users/zaret/Desktop/cal/calibration_20111111.tier2.root\")[\"GEMDBaseline\"]"
   ]
  },
  {
   "cell_type": "code",
   "execution_count": 15,
   "metadata": {},
   "outputs": [],
   "source": [
    "tree2=file2.pandas.df()"
   ]
  },
  {
   "cell_type": "code",
   "execution_count": 16,
   "metadata": {},
   "outputs": [
    {
     "data": {
      "text/plain": [
       "Index(['modList', 'baseline', 'baselineRes', 'baselineSigma', 'fitExpOffset',\n",
       "       'fitExpCoefficient', 'restoredWfBaseline', 'restoredWfBaselineRes',\n",
       "       'restoredWfBaselineSigma'],\n",
       "      dtype='object')"
      ]
     },
     "execution_count": 16,
     "metadata": {},
     "output_type": "execute_result"
    }
   ],
   "source": [
    "tree2.keys()"
   ]
  },
  {
   "cell_type": "code",
   "execution_count": 17,
   "metadata": {},
   "outputs": [
    {
     "data": {
      "text/plain": [
       "(array([0.00000e+00, 0.00000e+00, 0.00000e+00, 0.00000e+00, 0.00000e+00,\n",
       "        0.00000e+00, 0.00000e+00, 0.00000e+00, 0.00000e+00, 0.00000e+00,\n",
       "        0.00000e+00, 9.00000e+00, 5.00000e+00, 6.00000e+00, 2.30000e+01,\n",
       "        3.70000e+01, 5.70000e+01, 2.94000e+02, 2.86325e+05, 1.40760e+05,\n",
       "        5.25625e+05, 9.82332e+05, 5.49249e+05, 3.26431e+05, 1.16202e+05,\n",
       "        2.51210e+04, 1.00240e+04, 6.26500e+03, 4.50000e+03, 3.39100e+03,\n",
       "        2.64200e+03, 2.13300e+03, 1.91100e+03, 1.63300e+03, 1.42200e+03,\n",
       "        1.17300e+03, 1.02100e+03, 9.00000e+02, 7.68000e+02, 6.42000e+02,\n",
       "        5.28000e+02, 5.07000e+02, 4.25000e+02, 3.14000e+02, 2.32000e+02,\n",
       "        1.71000e+02, 1.22000e+02, 6.90000e+01, 4.00000e+01, 2.70000e+01]),\n",
       " array([-70000., -69600., -69200., -68800., -68400., -68000., -67600.,\n",
       "        -67200., -66800., -66400., -66000., -65600., -65200., -64800.,\n",
       "        -64400., -64000., -63600., -63200., -62800., -62400., -62000.,\n",
       "        -61600., -61200., -60800., -60400., -60000., -59600., -59200.,\n",
       "        -58800., -58400., -58000., -57600., -57200., -56800., -56400.,\n",
       "        -56000., -55600., -55200., -54800., -54400., -54000., -53600.,\n",
       "        -53200., -52800., -52400., -52000., -51600., -51200., -50800.,\n",
       "        -50400., -50000.]),\n",
       " <a list of 50 Patch objects>)"
      ]
     },
     "execution_count": 17,
     "metadata": {},
     "output_type": "execute_result"
    },
    {
     "data": {
      "image/png": "[encoded data removed]",
      "text/plain": [
       "<Figure size 432x288 with 1 Axes>"
      ]
     },
     "metadata": {},
     "output_type": "display_data"
    }
   ],
   "source": [
    "x=tree2[\"baseline\"]\n",
    "plt.hist(x, bins=50, range=(-70*10**3,-50*10**3), color='navy')\n"
   ]
  },
  {
   "cell_type": "code",
   "execution_count": 18,
   "metadata": {},
   "outputs": [],
   "source": [
    "file3 = uproot.open(\"/Users/zaret/Desktop/cal/calibration_20111111.tier2.root\")[\"GEMDTrigger\"]"
   ]
  },
  {
   "cell_type": "code",
   "execution_count": 19,
   "metadata": {},
   "outputs": [],
   "source": [
    "tree3=file3.pandas.df()"
   ]
  },
  {
   "cell_type": "code",
   "execution_count": 20,
   "metadata": {},
   "outputs": [
    {
     "data": {
      "text/plain": [
       "(array([2.5815014e+07, 0.0000000e+00, 0.0000000e+00, 0.0000000e+00,\n",
       "        0.0000000e+00, 0.0000000e+00, 0.0000000e+00, 0.0000000e+00,\n",
       "        0.0000000e+00, 0.0000000e+00, 0.0000000e+00, 0.0000000e+00,\n",
       "        0.0000000e+00, 0.0000000e+00, 0.0000000e+00, 0.0000000e+00,\n",
       "        0.0000000e+00, 0.0000000e+00, 0.0000000e+00, 0.0000000e+00,\n",
       "        0.0000000e+00, 0.0000000e+00, 0.0000000e+00, 0.0000000e+00,\n",
       "        0.0000000e+00, 2.9231770e+06, 0.0000000e+00, 0.0000000e+00,\n",
       "        0.0000000e+00, 0.0000000e+00, 0.0000000e+00, 0.0000000e+00,\n",
       "        0.0000000e+00, 0.0000000e+00, 0.0000000e+00, 0.0000000e+00,\n",
       "        0.0000000e+00, 0.0000000e+00, 0.0000000e+00, 0.0000000e+00,\n",
       "        0.0000000e+00, 0.0000000e+00, 0.0000000e+00, 0.0000000e+00,\n",
       "        0.0000000e+00, 0.0000000e+00, 0.0000000e+00, 0.0000000e+00,\n",
       "        0.0000000e+00, 1.3000000e+01]),\n",
       " array([0.  , 0.04, 0.08, 0.12, 0.16, 0.2 , 0.24, 0.28, 0.32, 0.36, 0.4 ,\n",
       "        0.44, 0.48, 0.52, 0.56, 0.6 , 0.64, 0.68, 0.72, 0.76, 0.8 , 0.84,\n",
       "        0.88, 0.92, 0.96, 1.  , 1.04, 1.08, 1.12, 1.16, 1.2 , 1.24, 1.28,\n",
       "        1.32, 1.36, 1.4 , 1.44, 1.48, 1.52, 1.56, 1.6 , 1.64, 1.68, 1.72,\n",
       "        1.76, 1.8 , 1.84, 1.88, 1.92, 1.96, 2.  ]),\n",
       " <a list of 50 Patch objects>)"
      ]
     },
     "execution_count": 20,
     "metadata": {},
     "output_type": "execute_result"
    },
    {
     "data": {
      "image/png": "[encoded data removed]",
      "text/plain": [
       "<Figure size 432x288 with 1 Axes>"
      ]
     },
     "metadata": {},
     "output_type": "display_data"
    }
   ],
   "source": [
    "x=tree3[\"triggerNumber\"]\n",
    "plt.hist(x, bins=50, range=(0,2), color='navy')"
   ]
  },
  {
   "cell_type": "code",
   "execution_count": null,
   "metadata": {},
   "outputs": [],
   "source": []
  },
  {
   "cell_type": "code",
   "execution_count": 21,
   "metadata": {},
   "outputs": [],
   "source": [
    "file4 = uproot.open(\"/Users/zaret/Desktop/cal/calibration_20111111.tier2.root\")[\"GEMDEnergyGauss\"]"
   ]
  },
  {
   "cell_type": "code",
   "execution_count": 22,
   "metadata": {},
   "outputs": [],
   "source": [
    "tree4=file4.pandas.df()"
   ]
  },
  {
   "cell_type": "code",
   "execution_count": 23,
   "metadata": {},
   "outputs": [
    {
     "data": {
      "text/plain": [
       "Index(['modList', 'energy', 'baseline', 'maxAmpTime'], dtype='object')"
      ]
     },
     "execution_count": 23,
     "metadata": {},
     "output_type": "execute_result"
    }
   ],
   "source": [
    "tree4.keys()"
   ]
  },
  {
   "cell_type": "code",
   "execution_count": 24,
   "metadata": {},
   "outputs": [
    {
     "data": {
      "text/plain": [
       "(array([1.1488e+04, 1.5600e+04, 1.1291e+04, 8.4070e+03, 2.8810e+03,\n",
       "        2.1691e+04, 1.3944e+04, 5.4580e+03, 4.0550e+03, 3.7300e+02,\n",
       "        3.0000e+02, 2.3500e+02, 1.7700e+02, 1.8000e+02, 1.3500e+02,\n",
       "        1.0700e+02, 1.0300e+02, 6.6000e+01, 1.3900e+02, 2.4000e+01,\n",
       "        1.7000e+01, 1.4000e+01, 1.8000e+01, 1.5000e+01, 2.1000e+01,\n",
       "        9.0000e+00, 4.0000e+00, 6.0000e+00, 7.0000e+00, 4.0000e+00,\n",
       "        6.0000e+00, 3.0000e+00, 6.0000e+00, 6.0000e+00, 4.0000e+00,\n",
       "        7.0000e+00, 2.0000e+00, 1.0000e+00, 3.0000e+00, 1.0000e+00,\n",
       "        4.0000e+00, 4.0000e+00, 1.0000e+00, 2.0000e+00, 4.0000e+00,\n",
       "        3.0000e+00, 5.0000e+00, 0.0000e+00, 1.0000e+00, 4.0000e+00]),\n",
       " array([ 5000.,  5100.,  5200.,  5300.,  5400.,  5500.,  5600.,  5700.,\n",
       "         5800.,  5900.,  6000.,  6100.,  6200.,  6300.,  6400.,  6500.,\n",
       "         6600.,  6700.,  6800.,  6900.,  7000.,  7100.,  7200.,  7300.,\n",
       "         7400.,  7500.,  7600.,  7700.,  7800.,  7900.,  8000.,  8100.,\n",
       "         8200.,  8300.,  8400.,  8500.,  8600.,  8700.,  8800.,  8900.,\n",
       "         9000.,  9100.,  9200.,  9300.,  9400.,  9500.,  9600.,  9700.,\n",
       "         9800.,  9900., 10000.]),\n",
       " <a list of 50 Patch objects>)"
      ]
     },
     "execution_count": 24,
     "metadata": {},
     "output_type": "execute_result"
    },
    {
     "data": {
      "image/png": "[encoded data removed]",
      "text/plain": [
       "<Figure size 432x288 with 1 Axes>"
      ]
     },
     "metadata": {},
     "output_type": "display_data"
    }
   ],
   "source": [
    "x=tree4[\"energy\"]\n",
    "plt.hist(x, bins=50, range=(5000,10000), color='navy')\n"
   ]
  },
  {
   "cell_type": "code",
   "execution_count": 25,
   "metadata": {},
   "outputs": [
    {
     "data": {
      "text/plain": [
       "(array([0.0000e+00, 1.0000e+00, 2.9000e+01, 6.8800e+02, 4.9190e+03,\n",
       "        3.4820e+04, 1.1062e+04, 3.9000e+03, 2.3150e+03, 1.9250e+03,\n",
       "        1.9970e+03, 2.4300e+03, 2.8480e+03, 3.2060e+03, 3.4880e+03,\n",
       "        3.5910e+03, 3.5940e+03, 3.6390e+03, 3.4980e+03, 3.4400e+03,\n",
       "        3.2790e+03, 3.3000e+03, 3.2980e+03, 3.2920e+03, 3.2580e+03,\n",
       "        3.2300e+03, 3.2230e+03, 3.2390e+03, 3.1810e+03, 3.1000e+03,\n",
       "        3.1950e+03, 3.2590e+03, 3.2070e+03, 3.1630e+03, 3.1250e+03,\n",
       "        3.0550e+03, 3.0140e+03, 2.9200e+03, 3.0020e+03, 2.9070e+03,\n",
       "        2.9520e+03, 2.9380e+03, 2.9250e+03, 2.7740e+03, 2.6910e+03,\n",
       "        2.6390e+03, 2.3690e+03, 2.3440e+03, 2.3090e+03, 2.3940e+03]),\n",
       " array([ 50000.,  51800.,  53600.,  55400.,  57200.,  59000.,  60800.,\n",
       "         62600.,  64400.,  66200.,  68000.,  69800.,  71600.,  73400.,\n",
       "         75200.,  77000.,  78800.,  80600.,  82400.,  84200.,  86000.,\n",
       "         87800.,  89600.,  91400.,  93200.,  95000.,  96800.,  98600.,\n",
       "        100400., 102200., 104000., 105800., 107600., 109400., 111200.,\n",
       "        113000., 114800., 116600., 118400., 120200., 122000., 123800.,\n",
       "        125600., 127400., 129200., 131000., 132800., 134600., 136400.,\n",
       "        138200., 140000.]),\n",
       " <a list of 50 Patch objects>)"
      ]
     },
     "execution_count": 25,
     "metadata": {},
     "output_type": "execute_result"
    },
    {
     "data": {
      "image/png": "[encoded data removed]",
      "text/plain": [
       "<Figure size 432x288 with 1 Axes>"
      ]
     },
     "metadata": {},
     "output_type": "display_data"
    }
   ],
   "source": [
    "x=tree4[\"maxAmpTime\"]\n",
    "plt.hist(x, bins=50, range=(50000,140000), color='navy')\n"
   ]
  },
  {
   "cell_type": "code",
   "execution_count": 26,
   "metadata": {},
   "outputs": [],
   "source": [
    "file5 = uproot.open(\"/Users/zaret/Desktop/cal/calibration_20111111.tier2.root\")[\"GEMDRiseTime\"]"
   ]
  },
  {
   "cell_type": "code",
   "execution_count": 27,
   "metadata": {},
   "outputs": [],
   "source": [
    "tree5=file5.pandas.df()"
   ]
  },
  {
   "cell_type": "code",
   "execution_count": 28,
   "metadata": {},
   "outputs": [
    {
     "data": {
      "text/plain": [
       "Index(['modList', 'risetime', 'maxAmpAverage', 'nPoint', 'maxAmpTime',\n",
       "       'lowEdgeAmp', 'lowEdgeTime', 'highEdgeAmp', 'highEdgeTime'],\n",
       "      dtype='object')"
      ]
     },
     "execution_count": 28,
     "metadata": {},
     "output_type": "execute_result"
    }
   ],
   "source": [
    "tree5.keys()"
   ]
  },
  {
   "cell_type": "code",
   "execution_count": 29,
   "metadata": {},
   "outputs": [
    {
     "data": {
      "text/plain": [
       "(array([3.119740e+05, 1.185816e+06, 5.211290e+05, 2.704980e+05,\n",
       "        2.278290e+05, 1.029350e+05, 6.443400e+04, 4.361500e+04,\n",
       "        3.220400e+04, 2.895200e+04, 2.640300e+04, 2.549100e+04,\n",
       "        2.647100e+04, 2.760400e+04, 2.570800e+04, 2.770500e+04,\n",
       "        3.153400e+04, 3.449300e+04, 3.723200e+04, 3.472900e+04,\n",
       "        3.443400e+04, 2.410700e+04, 2.452800e+04, 1.483000e+03,\n",
       "        8.710000e+02, 5.700000e+02, 4.080000e+02, 1.830000e+02,\n",
       "        1.500000e+02, 1.240000e+02, 9.700000e+01, 8.700000e+01,\n",
       "        6.400000e+01, 8.100000e+01, 5.800000e+01, 5.800000e+01,\n",
       "        3.600000e+01, 3.300000e+01, 3.300000e+01, 2.400000e+01,\n",
       "        9.000000e+00, 9.000000e+00, 5.000000e+00, 2.000000e+00,\n",
       "        0.000000e+00, 0.000000e+00, 0.000000e+00, 0.000000e+00,\n",
       "        0.000000e+00, 0.000000e+00]),\n",
       " array([1.00000e+01, 1.00980e+03, 2.00960e+03, 3.00940e+03, 4.00920e+03,\n",
       "        5.00900e+03, 6.00880e+03, 7.00860e+03, 8.00840e+03, 9.00820e+03,\n",
       "        1.00080e+04, 1.10078e+04, 1.20076e+04, 1.30074e+04, 1.40072e+04,\n",
       "        1.50070e+04, 1.60068e+04, 1.70066e+04, 1.80064e+04, 1.90062e+04,\n",
       "        2.00060e+04, 2.10058e+04, 2.20056e+04, 2.30054e+04, 2.40052e+04,\n",
       "        2.50050e+04, 2.60048e+04, 2.70046e+04, 2.80044e+04, 2.90042e+04,\n",
       "        3.00040e+04, 3.10038e+04, 3.20036e+04, 3.30034e+04, 3.40032e+04,\n",
       "        3.50030e+04, 3.60028e+04, 3.70026e+04, 3.80024e+04, 3.90022e+04,\n",
       "        4.00020e+04, 4.10018e+04, 4.20016e+04, 4.30014e+04, 4.40012e+04,\n",
       "        4.50010e+04, 4.60008e+04, 4.70006e+04, 4.80004e+04, 4.90002e+04,\n",
       "        5.00000e+04]),\n",
       " <a list of 50 Patch objects>)"
      ]
     },
     "execution_count": 29,
     "metadata": {},
     "output_type": "execute_result"
    },
    {
     "data": {
      "image/png": "[encoded data removed]",
      "text/plain": [
       "<Figure size 432x288 with 1 Axes>"
      ]
     },
     "metadata": {},
     "output_type": "display_data"
    }
   ],
   "source": [
    "x=tree5[\"maxAmpAverage\"]\n",
    "plt.hist(x, bins=50, range=(10,50000), color='navy')\n"
   ]
  },
  {
   "cell_type": "code",
   "execution_count": 30,
   "metadata": {},
   "outputs": [
    {
     "data": {
      "text/plain": [
       "(array([3.666960e+05, 1.172557e+06, 4.923720e+05, 2.655490e+05,\n",
       "        2.256740e+05, 1.003220e+05, 6.302400e+04, 4.315700e+04,\n",
       "        3.208100e+04, 2.877900e+04, 2.636500e+04, 2.551700e+04,\n",
       "        2.655500e+04, 2.754200e+04, 2.560400e+04, 2.775700e+04,\n",
       "        3.154700e+04, 3.456400e+04, 3.720300e+04, 3.464400e+04,\n",
       "        3.564000e+04, 2.463800e+04, 2.207900e+04, 1.459000e+03,\n",
       "        8.840000e+02, 5.470000e+02, 4.090000e+02, 1.790000e+02,\n",
       "        1.470000e+02, 1.240000e+02, 9.600000e+01, 8.800000e+01,\n",
       "        6.500000e+01, 7.900000e+01, 5.800000e+01, 5.900000e+01,\n",
       "        3.500000e+01, 3.300000e+01, 3.300000e+01, 2.400000e+01,\n",
       "        9.000000e+00, 9.000000e+00, 5.000000e+00, 2.000000e+00,\n",
       "        0.000000e+00, 0.000000e+00, 0.000000e+00, 0.000000e+00,\n",
       "        0.000000e+00, 0.000000e+00]),\n",
       " array([   5. ,  104.9,  204.8,  304.7,  404.6,  504.5,  604.4,  704.3,\n",
       "         804.2,  904.1, 1004. , 1103.9, 1203.8, 1303.7, 1403.6, 1503.5,\n",
       "        1603.4, 1703.3, 1803.2, 1903.1, 2003. , 2102.9, 2202.8, 2302.7,\n",
       "        2402.6, 2502.5, 2602.4, 2702.3, 2802.2, 2902.1, 3002. , 3101.9,\n",
       "        3201.8, 3301.7, 3401.6, 3501.5, 3601.4, 3701.3, 3801.2, 3901.1,\n",
       "        4001. , 4100.9, 4200.8, 4300.7, 4400.6, 4500.5, 4600.4, 4700.3,\n",
       "        4800.2, 4900.1, 5000. ]),\n",
       " <a list of 50 Patch objects>)"
      ]
     },
     "execution_count": 30,
     "metadata": {},
     "output_type": "execute_result"
    },
    {
     "data": {
      "image/png": "[encoded data removed]",
      "text/plain": [
       "<Figure size 432x288 with 1 Axes>"
      ]
     },
     "metadata": {},
     "output_type": "display_data"
    }
   ],
   "source": [
    "x=tree5[\"lowEdgeAmp\"]\n",
    "plt.hist(x, bins=50, range=(5,5000), color='navy')"
   ]
  },
  {
   "cell_type": "code",
   "execution_count": 31,
   "metadata": {},
   "outputs": [
    {
     "data": {
      "text/plain": [
       "(array([2.5582746e+07, 0.0000000e+00, 0.0000000e+00, 0.0000000e+00,\n",
       "        0.0000000e+00, 0.0000000e+00, 0.0000000e+00, 0.0000000e+00,\n",
       "        0.0000000e+00, 0.0000000e+00, 0.0000000e+00, 0.0000000e+00,\n",
       "        0.0000000e+00, 0.0000000e+00, 0.0000000e+00, 0.0000000e+00,\n",
       "        0.0000000e+00, 0.0000000e+00, 0.0000000e+00, 0.0000000e+00,\n",
       "        0.0000000e+00, 0.0000000e+00, 0.0000000e+00, 0.0000000e+00,\n",
       "        0.0000000e+00, 0.0000000e+00, 0.0000000e+00, 0.0000000e+00,\n",
       "        0.0000000e+00, 0.0000000e+00, 0.0000000e+00, 0.0000000e+00,\n",
       "        0.0000000e+00, 5.0000000e+00, 0.0000000e+00, 0.0000000e+00,\n",
       "        0.0000000e+00, 0.0000000e+00, 0.0000000e+00, 0.0000000e+00,\n",
       "        0.0000000e+00, 0.0000000e+00, 0.0000000e+00, 0.0000000e+00,\n",
       "        0.0000000e+00, 0.0000000e+00, 0.0000000e+00, 0.0000000e+00,\n",
       "        0.0000000e+00, 0.0000000e+00]),\n",
       " array([ 0. ,  1.2,  2.4,  3.6,  4.8,  6. ,  7.2,  8.4,  9.6, 10.8, 12. ,\n",
       "        13.2, 14.4, 15.6, 16.8, 18. , 19.2, 20.4, 21.6, 22.8, 24. , 25.2,\n",
       "        26.4, 27.6, 28.8, 30. , 31.2, 32.4, 33.6, 34.8, 36. , 37.2, 38.4,\n",
       "        39.6, 40.8, 42. , 43.2, 44.4, 45.6, 46.8, 48. , 49.2, 50.4, 51.6,\n",
       "        52.8, 54. , 55.2, 56.4, 57.6, 58.8, 60. ]),\n",
       " <a list of 50 Patch objects>)"
      ]
     },
     "execution_count": 31,
     "metadata": {},
     "output_type": "execute_result"
    },
    {
     "data": {
      "image/png": "[encoded data removed]",
      "text/plain": [
       "<Figure size 432x288 with 1 Axes>"
      ]
     },
     "metadata": {},
     "output_type": "display_data"
    }
   ],
   "source": [
    "x=tree5[\"lowEdgeTime\"]\n",
    "plt.hist(x, bins=50, range=(0,60), color='navy')"
   ]
  },
  {
   "cell_type": "code",
   "execution_count": 32,
   "metadata": {},
   "outputs": [
    {
     "data": {
      "text/plain": [
       "(array([25563994.,        0.,        0.,        0.,        0.,        0.,\n",
       "               0.,        0.,        0.,        0.,        0.,        0.,\n",
       "               0.,        0.,        0.,        0.,        0.,        0.,\n",
       "               0.,        0.,        0.,        0.,        0.,        0.,\n",
       "               0.,        0.,        0.,        0.,        0.,        0.,\n",
       "               0.,        0.,        0.,        0.,        0.,        0.,\n",
       "               0.,        0.,        0.,        0.,        0.,        0.,\n",
       "               0.,        0.,        0.,        0.,        0.,        0.,\n",
       "               0.,        0.]),\n",
       " array([ 0. ,  0.8,  1.6,  2.4,  3.2,  4. ,  4.8,  5.6,  6.4,  7.2,  8. ,\n",
       "         8.8,  9.6, 10.4, 11.2, 12. , 12.8, 13.6, 14.4, 15.2, 16. , 16.8,\n",
       "        17.6, 18.4, 19.2, 20. , 20.8, 21.6, 22.4, 23.2, 24. , 24.8, 25.6,\n",
       "        26.4, 27.2, 28. , 28.8, 29.6, 30.4, 31.2, 32. , 32.8, 33.6, 34.4,\n",
       "        35.2, 36. , 36.8, 37.6, 38.4, 39.2, 40. ]),\n",
       " <a list of 50 Patch objects>)"
      ]
     },
     "execution_count": 32,
     "metadata": {},
     "output_type": "execute_result"
    },
    {
     "data": {
      "image/png": "[encoded data removed]",
      "text/plain": [
       "<Figure size 432x288 with 1 Axes>"
      ]
     },
     "metadata": {},
     "output_type": "display_data"
    }
   ],
   "source": [
    "x=tree5[\"highEdgeAmp\"]\n",
    "plt.hist(x, bins=50, range=(0,40), color='navy')"
   ]
  },
  {
   "cell_type": "code",
   "execution_count": 33,
   "metadata": {
    "scrolled": false
   },
   "outputs": [
    {
     "data": {
      "text/plain": [
       "(array([2.5581152e+07, 0.0000000e+00, 0.0000000e+00, 0.0000000e+00,\n",
       "        0.0000000e+00, 0.0000000e+00, 0.0000000e+00, 0.0000000e+00,\n",
       "        0.0000000e+00, 0.0000000e+00, 0.0000000e+00, 0.0000000e+00,\n",
       "        0.0000000e+00, 0.0000000e+00, 0.0000000e+00, 0.0000000e+00,\n",
       "        0.0000000e+00, 0.0000000e+00, 0.0000000e+00, 0.0000000e+00,\n",
       "        0.0000000e+00, 0.0000000e+00, 0.0000000e+00, 0.0000000e+00,\n",
       "        0.0000000e+00, 0.0000000e+00, 0.0000000e+00, 0.0000000e+00,\n",
       "        0.0000000e+00, 0.0000000e+00, 0.0000000e+00, 0.0000000e+00,\n",
       "        0.0000000e+00, 2.7400000e+02, 0.0000000e+00, 0.0000000e+00,\n",
       "        0.0000000e+00, 0.0000000e+00, 0.0000000e+00, 0.0000000e+00,\n",
       "        0.0000000e+00, 0.0000000e+00, 0.0000000e+00, 0.0000000e+00,\n",
       "        0.0000000e+00, 0.0000000e+00, 0.0000000e+00, 0.0000000e+00,\n",
       "        0.0000000e+00, 0.0000000e+00]),\n",
       " array([ 0. ,  1.2,  2.4,  3.6,  4.8,  6. ,  7.2,  8.4,  9.6, 10.8, 12. ,\n",
       "        13.2, 14.4, 15.6, 16.8, 18. , 19.2, 20.4, 21.6, 22.8, 24. , 25.2,\n",
       "        26.4, 27.6, 28.8, 30. , 31.2, 32.4, 33.6, 34.8, 36. , 37.2, 38.4,\n",
       "        39.6, 40.8, 42. , 43.2, 44.4, 45.6, 46.8, 48. , 49.2, 50.4, 51.6,\n",
       "        52.8, 54. , 55.2, 56.4, 57.6, 58.8, 60. ]),\n",
       " <a list of 50 Patch objects>)"
      ]
     },
     "execution_count": 33,
     "metadata": {},
     "output_type": "execute_result"
    },
    {
     "data": {
      "image/png": "[encoded data removed]",
      "text/plain": [
       "<Figure size 432x288 with 1 Axes>"
      ]
     },
     "metadata": {},
     "output_type": "display_data"
    }
   ],
   "source": [
    "x=tree5[\"highEdgeTime\"]\n",
    "plt.hist(x, bins=50, range=(0,60), color='navy')"
   ]
  },
  {
   "cell_type": "code",
   "execution_count": 34,
   "metadata": {},
   "outputs": [
    {
     "data": {
      "text/plain": [
       "(array([4.700000e+01, 3.300000e+01, 4.200000e+01, 4.500000e+01,\n",
       "        4.800000e+01, 4.200000e+01, 3.500000e+01, 2.900000e+01,\n",
       "        3.600000e+01, 3.200000e+01, 2.300000e+01, 2.400000e+01,\n",
       "        4.100000e+01, 2.600000e+01, 3.000000e+01, 3.400000e+01,\n",
       "        3.200000e+01, 2.500000e+01, 2.100000e+01, 3.000000e+01,\n",
       "        3.200000e+01, 1.800000e+01, 2.200000e+01, 2.400000e+01,\n",
       "        2.900000e+01, 1.800000e+01, 2.000000e+01, 1.300000e+01,\n",
       "        2.100000e+01, 2.000000e+01, 1.600000e+01, 9.000000e+00,\n",
       "        1.500000e+01, 1.100000e+01, 1.100000e+01, 8.000000e+00,\n",
       "        7.000000e+00, 4.000000e+00, 3.000000e+00, 1.000000e+01,\n",
       "        9.051000e+03, 4.774170e+05, 1.101753e+06, 5.559220e+05,\n",
       "        2.689820e+05, 1.233320e+05, 6.576900e+04, 3.842500e+04,\n",
       "        2.451600e+04, 1.739800e+04]),\n",
       " array([40000., 41000., 42000., 43000., 44000., 45000., 46000., 47000.,\n",
       "        48000., 49000., 50000., 51000., 52000., 53000., 54000., 55000.,\n",
       "        56000., 57000., 58000., 59000., 60000., 61000., 62000., 63000.,\n",
       "        64000., 65000., 66000., 67000., 68000., 69000., 70000., 71000.,\n",
       "        72000., 73000., 74000., 75000., 76000., 77000., 78000., 79000.,\n",
       "        80000., 81000., 82000., 83000., 84000., 85000., 86000., 87000.,\n",
       "        88000., 89000., 90000.]),\n",
       " <a list of 50 Patch objects>)"
      ]
     },
     "execution_count": 34,
     "metadata": {},
     "output_type": "execute_result"
    },
    {
     "data": {
      "image/png": "[encoded data removed]",
      "text/plain": [
       "<Figure size 432x288 with 1 Axes>"
      ]
     },
     "metadata": {},
     "output_type": "display_data"
    }
   ],
   "source": [
    "x=tree5[\"maxAmpTime\"]\n",
    "plt.hist(x, bins=50, range=(40000,90000), color='navy')"
   ]
  },
  {
   "cell_type": "code",
   "execution_count": 35,
   "metadata": {},
   "outputs": [],
   "source": [
    "file6 = uproot.open(\"/Users/zaret/Desktop/cal/calibration_20111111.tier2.root\")[\"GEMDRiseTimeChain2\"]"
   ]
  },
  {
   "cell_type": "code",
   "execution_count": null,
   "metadata": {},
   "outputs": [],
   "source": [
    "tree6=file6.pandas.df()"
   ]
  },
  {
   "cell_type": "code",
   "execution_count": 36,
   "metadata": {},
   "outputs": [
    {
     "data": {
      "text/plain": [
       "Index(['modList', 'risetime', 'maxAmpAverage', 'nPoint', 'maxAmpTime',\n",
       "       'lowEdgeAmp', 'lowEdgeTime', 'highEdgeAmp', 'highEdgeTime'],\n",
       "      dtype='object')"
      ]
     },
     "execution_count": 36,
     "metadata": {},
     "output_type": "execute_result"
    }
   ],
   "source": [
    "tree6.keys()"
   ]
  },
  {
   "cell_type": "code",
   "execution_count": 37,
   "metadata": {},
   "outputs": [
    {
     "data": {
      "text/plain": [
       "(array([0.000000e+00, 0.000000e+00, 0.000000e+00, 0.000000e+00,\n",
       "        0.000000e+00, 0.000000e+00, 0.000000e+00, 0.000000e+00,\n",
       "        0.000000e+00, 1.000000e+01, 1.474900e+04, 4.688680e+05,\n",
       "        1.167656e+06, 5.752660e+05, 2.629000e+05, 1.075980e+05,\n",
       "        5.484700e+04, 3.862200e+04, 3.407300e+04, 3.332600e+04,\n",
       "        3.427900e+04, 4.498800e+04, 8.425900e+04, 1.065730e+05,\n",
       "        6.335900e+04, 4.729000e+04, 1.162000e+04, 3.745000e+03,\n",
       "        2.582000e+03, 2.218000e+03, 2.170000e+03, 2.662000e+03,\n",
       "        3.345000e+03, 3.880000e+03, 3.138000e+03, 1.700000e+02,\n",
       "        1.300000e+01, 1.000000e+00, 1.000000e+00, 0.000000e+00,\n",
       "        0.000000e+00, 0.000000e+00, 0.000000e+00, 0.000000e+00,\n",
       "        0.000000e+00, 0.000000e+00, 0.000000e+00, 0.000000e+00,\n",
       "        0.000000e+00, 0.000000e+00]),\n",
       " array([-2.000000e+04, -1.960002e+04, -1.920004e+04, -1.880006e+04,\n",
       "        -1.840008e+04, -1.800010e+04, -1.760012e+04, -1.720014e+04,\n",
       "        -1.680016e+04, -1.640018e+04, -1.600020e+04, -1.560022e+04,\n",
       "        -1.520024e+04, -1.480026e+04, -1.440028e+04, -1.400030e+04,\n",
       "        -1.360032e+04, -1.320034e+04, -1.280036e+04, -1.240038e+04,\n",
       "        -1.200040e+04, -1.160042e+04, -1.120044e+04, -1.080046e+04,\n",
       "        -1.040048e+04, -1.000050e+04, -9.600520e+03, -9.200540e+03,\n",
       "        -8.800560e+03, -8.400580e+03, -8.000600e+03, -7.600620e+03,\n",
       "        -7.200640e+03, -6.800660e+03, -6.400680e+03, -6.000700e+03,\n",
       "        -5.600720e+03, -5.200740e+03, -4.800760e+03, -4.400780e+03,\n",
       "        -4.000800e+03, -3.600820e+03, -3.200840e+03, -2.800860e+03,\n",
       "        -2.400880e+03, -2.000900e+03, -1.600920e+03, -1.200940e+03,\n",
       "        -8.009600e+02, -4.009800e+02, -1.000000e+00]),\n",
       " <a list of 50 Patch objects>)"
      ]
     },
     "execution_count": 37,
     "metadata": {},
     "output_type": "execute_result"
    },
    {
     "data": {
      "image/png": "[encoded data removed]",
      "text/plain": [
       "<Figure size 432x288 with 1 Axes>"
      ]
     },
     "metadata": {},
     "output_type": "display_data"
    }
   ],
   "source": [
    "x=tree6[\"maxAmpAverage\"]\n",
    "plt.hist(x, bins=50, range=(-20000,-1), color='navy')"
   ]
  },
  {
   "cell_type": "code",
   "execution_count": 38,
   "metadata": {},
   "outputs": [
    {
     "data": {
      "text/plain": [
       "(array([  9288.,   9012.,   8875.,   8892.,   8881.,   8927.,   8941.,\n",
       "          9224.,  10043.,  11110.,  12491.,  15085.,  18262.,  22738.,\n",
       "         28440.,  34552.,  42799.,  53210.,  67143.,  77475.,  87673.,\n",
       "        102384., 114480., 129168., 143738., 161898., 170112., 173906.,\n",
       "        173277., 168430., 161043., 167252., 162968., 162070., 165945.,\n",
       "        184995., 143603.,      0.,      0.,      0.,      0.,      0.,\n",
       "             0.,      0.,      0.,      0.,      0.,      0.,      0.,\n",
       "             0.]),\n",
       " array([80000., 80080., 80160., 80240., 80320., 80400., 80480., 80560.,\n",
       "        80640., 80720., 80800., 80880., 80960., 81040., 81120., 81200.,\n",
       "        81280., 81360., 81440., 81520., 81600., 81680., 81760., 81840.,\n",
       "        81920., 82000., 82080., 82160., 82240., 82320., 82400., 82480.,\n",
       "        82560., 82640., 82720., 82800., 82880., 82960., 83040., 83120.,\n",
       "        83200., 83280., 83360., 83440., 83520., 83600., 83680., 83760.,\n",
       "        83840., 83920., 84000.]),\n",
       " <a list of 50 Patch objects>)"
      ]
     },
     "execution_count": 38,
     "metadata": {},
     "output_type": "execute_result"
    },
    {
     "data": {
      "image/png": "[encoded data removed]",
      "text/plain": [
       "<Figure size 432x288 with 1 Axes>"
      ]
     },
     "metadata": {},
     "output_type": "display_data"
    }
   ],
   "source": [
    "x=tree6[\"maxAmpTime\"]\n",
    "plt.hist(x, bins=50, range=(80000,84000), color='navy')"
   ]
  },
  {
   "cell_type": "code",
   "execution_count": 39,
   "metadata": {},
   "outputs": [
    {
     "data": {
      "text/plain": [
       "(array([0.000000e+00, 0.000000e+00, 0.000000e+00, 0.000000e+00,\n",
       "        0.000000e+00, 0.000000e+00, 0.000000e+00, 0.000000e+00,\n",
       "        0.000000e+00, 2.400000e+01, 6.639200e+04, 1.924712e+06,\n",
       "        9.099620e+05, 8.100500e+04, 7.181000e+03, 2.903000e+03,\n",
       "        8.490000e+02, 1.890000e+02, 9.700000e+01, 8.900000e+01,\n",
       "        9.540000e+02, 3.544700e+04, 9.605600e+04, 4.449500e+04,\n",
       "        3.421000e+03, 2.730000e+02, 1.050000e+02, 2.500000e+01,\n",
       "        1.200000e+01, 4.000000e+00, 3.000000e+00, 4.000000e+00,\n",
       "        2.000000e+00, 0.000000e+00, 0.000000e+00, 0.000000e+00,\n",
       "        0.000000e+00, 0.000000e+00, 0.000000e+00, 0.000000e+00,\n",
       "        0.000000e+00, 0.000000e+00, 0.000000e+00, 0.000000e+00,\n",
       "        0.000000e+00, 0.000000e+00, 0.000000e+00, 0.000000e+00,\n",
       "        0.000000e+00, 0.000000e+00]),\n",
       " array([-2.000000e+04, -1.960002e+04, -1.920004e+04, -1.880006e+04,\n",
       "        -1.840008e+04, -1.800010e+04, -1.760012e+04, -1.720014e+04,\n",
       "        -1.680016e+04, -1.640018e+04, -1.600020e+04, -1.560022e+04,\n",
       "        -1.520024e+04, -1.480026e+04, -1.440028e+04, -1.400030e+04,\n",
       "        -1.360032e+04, -1.320034e+04, -1.280036e+04, -1.240038e+04,\n",
       "        -1.200040e+04, -1.160042e+04, -1.120044e+04, -1.080046e+04,\n",
       "        -1.040048e+04, -1.000050e+04, -9.600520e+03, -9.200540e+03,\n",
       "        -8.800560e+03, -8.400580e+03, -8.000600e+03, -7.600620e+03,\n",
       "        -7.200640e+03, -6.800660e+03, -6.400680e+03, -6.000700e+03,\n",
       "        -5.600720e+03, -5.200740e+03, -4.800760e+03, -4.400780e+03,\n",
       "        -4.000800e+03, -3.600820e+03, -3.200840e+03, -2.800860e+03,\n",
       "        -2.400880e+03, -2.000900e+03, -1.600920e+03, -1.200940e+03,\n",
       "        -8.009600e+02, -4.009800e+02, -1.000000e+00]),\n",
       " <a list of 50 Patch objects>)"
      ]
     },
     "execution_count": 39,
     "metadata": {},
     "output_type": "execute_result"
    },
    {
     "data": {
      "image/png": "[encoded data removed]",
      "text/plain": [
       "<Figure size 432x288 with 1 Axes>"
      ]
     },
     "metadata": {},
     "output_type": "display_data"
    }
   ],
   "source": [
    "x=tree6[\"lowEdgeAmp\"]\n",
    "plt.hist(x, bins=50, range=(-20000,-1), color='navy')"
   ]
  },
  {
   "cell_type": "code",
   "execution_count": 40,
   "metadata": {},
   "outputs": [
    {
     "data": {
      "text/plain": [
       "(array([9.45900e+03, 9.83700e+03, 9.88600e+03, 3.89070e+04, 1.08951e+05,\n",
       "        1.33246e+05, 1.47670e+05, 1.64598e+05, 1.89161e+05, 2.22096e+05,\n",
       "        2.68165e+05, 2.71304e+05, 2.61248e+05, 2.75660e+05, 2.47940e+05,\n",
       "        1.89514e+05, 2.70369e+05, 4.83080e+04, 9.99300e+03, 7.36100e+03,\n",
       "        6.09700e+03, 5.37100e+03, 4.93600e+03, 4.29200e+03, 4.09000e+03,\n",
       "        3.97700e+03, 3.74000e+03, 3.61000e+03, 3.38500e+03, 3.30600e+03,\n",
       "        3.18500e+03, 3.16400e+03, 3.00600e+03, 2.81200e+03, 2.37400e+03,\n",
       "        1.23700e+03, 5.20000e+01, 0.00000e+00, 0.00000e+00, 0.00000e+00,\n",
       "        0.00000e+00, 0.00000e+00, 0.00000e+00, 0.00000e+00, 0.00000e+00,\n",
       "        0.00000e+00, 0.00000e+00, 0.00000e+00, 0.00000e+00, 0.00000e+00]),\n",
       " array([80000., 80080., 80160., 80240., 80320., 80400., 80480., 80560.,\n",
       "        80640., 80720., 80800., 80880., 80960., 81040., 81120., 81200.,\n",
       "        81280., 81360., 81440., 81520., 81600., 81680., 81760., 81840.,\n",
       "        81920., 82000., 82080., 82160., 82240., 82320., 82400., 82480.,\n",
       "        82560., 82640., 82720., 82800., 82880., 82960., 83040., 83120.,\n",
       "        83200., 83280., 83360., 83440., 83520., 83600., 83680., 83760.,\n",
       "        83840., 83920., 84000.]),\n",
       " <a list of 50 Patch objects>)"
      ]
     },
     "execution_count": 40,
     "metadata": {},
     "output_type": "execute_result"
    },
    {
     "data": {
      "image/png": "[encoded data removed]",
      "text/plain": [
       "<Figure size 432x288 with 1 Axes>"
      ]
     },
     "metadata": {},
     "output_type": "display_data"
    }
   ],
   "source": [
    "x=tree6[\"lowEdgeTime\"]\n",
    "plt.hist(x, bins=50, range=(80000,84000), color='navy')"
   ]
  },
  {
   "cell_type": "code",
   "execution_count": 41,
   "metadata": {},
   "outputs": [
    {
     "data": {
      "text/plain": [
       "(array([0.00000e+00, 0.00000e+00, 0.00000e+00, 0.00000e+00, 0.00000e+00,\n",
       "        1.00000e+00, 0.00000e+00, 0.00000e+00, 0.00000e+00, 0.00000e+00,\n",
       "        0.00000e+00, 0.00000e+00, 0.00000e+00, 0.00000e+00, 0.00000e+00,\n",
       "        1.00000e+00, 0.00000e+00, 0.00000e+00, 0.00000e+00, 7.00000e+00,\n",
       "        2.40000e+01, 1.73720e+04, 1.18015e+05, 3.95604e+05, 6.35411e+05,\n",
       "        6.06502e+05, 3.33474e+05, 1.97800e+05, 1.48312e+05, 8.58970e+04,\n",
       "        5.18220e+04, 3.68960e+04, 2.57880e+04, 2.26240e+04, 1.98980e+04,\n",
       "        1.88450e+04, 1.88680e+04, 1.82250e+04, 1.98900e+04, 1.82000e+04,\n",
       "        2.02740e+04, 2.06630e+04, 2.52140e+04, 3.15130e+04, 4.20750e+04,\n",
       "        5.50920e+04, 5.02760e+04, 5.32020e+04, 3.11660e+04, 1.53760e+04]),\n",
       " array([-20000., -19800., -19600., -19400., -19200., -19000., -18800.,\n",
       "        -18600., -18400., -18200., -18000., -17800., -17600., -17400.,\n",
       "        -17200., -17000., -16800., -16600., -16400., -16200., -16000.,\n",
       "        -15800., -15600., -15400., -15200., -15000., -14800., -14600.,\n",
       "        -14400., -14200., -14000., -13800., -13600., -13400., -13200.,\n",
       "        -13000., -12800., -12600., -12400., -12200., -12000., -11800.,\n",
       "        -11600., -11400., -11200., -11000., -10800., -10600., -10400.,\n",
       "        -10200., -10000.]),\n",
       " <a list of 50 Patch objects>)"
      ]
     },
     "execution_count": 41,
     "metadata": {},
     "output_type": "execute_result"
    },
    {
     "data": {
      "image/png": "[encoded data removed]",
      "text/plain": [
       "<Figure size 432x288 with 1 Axes>"
      ]
     },
     "metadata": {},
     "output_type": "display_data"
    }
   ],
   "source": [
    "x=tree6[\"highEdgeAmp\"]\n",
    "plt.hist(x, bins=50, range=(-20000,-10000), color='navy')"
   ]
  },
  {
   "cell_type": "code",
   "execution_count": 42,
   "metadata": {
    "scrolled": false
   },
   "outputs": [
    {
     "data": {
      "text/plain": [
       "(array([ 10318.,   9754.,   9584.,   9289.,   9992.,  14886.,  21691.,\n",
       "         28923.,  38130.,  51466.,  70858.,  97419., 132186., 172397.,\n",
       "        222293., 278197., 302947., 299273., 308019., 287592., 215807.,\n",
       "        172120.,  82619.,  30370.,  14585.,   9941.,   7722.,   6150.,\n",
       "          5305.,   4670.,   4414.,   3963.,   3760.,   3457.,   3363.,\n",
       "          3728.,   3034.,      0.,      0.,      0.,      0.,      0.,\n",
       "             0.,      0.,      0.,      0.,      0.,      0.,      0.,\n",
       "             0.]),\n",
       " array([80000., 80080., 80160., 80240., 80320., 80400., 80480., 80560.,\n",
       "        80640., 80720., 80800., 80880., 80960., 81040., 81120., 81200.,\n",
       "        81280., 81360., 81440., 81520., 81600., 81680., 81760., 81840.,\n",
       "        81920., 82000., 82080., 82160., 82240., 82320., 82400., 82480.,\n",
       "        82560., 82640., 82720., 82800., 82880., 82960., 83040., 83120.,\n",
       "        83200., 83280., 83360., 83440., 83520., 83600., 83680., 83760.,\n",
       "        83840., 83920., 84000.]),\n",
       " <a list of 50 Patch objects>)"
      ]
     },
     "execution_count": 42,
     "metadata": {},
     "output_type": "execute_result"
    },
    {
     "data": {
      "image/png": "[encoded data removed]",
      "text/plain": [
       "<Figure size 432x288 with 1 Axes>"
      ]
     },
     "metadata": {},
     "output_type": "display_data"
    }
   ],
   "source": [
    "x=tree6[\"highEdgeTime\"]\n",
    "plt.hist(x, bins=50, range=(80000,84000), color='navy')"
   ]
  },
  {
   "cell_type": "code",
   "execution_count": 43,
   "metadata": {},
   "outputs": [],
   "source": [
    "file7 = uproot.open(\"/Users/zaret/Desktop/cal/calibration_20111111.tier2.root\")[\"GEMDCurrentPSAChain2\"]"
   ]
  },
  {
   "cell_type": "code",
   "execution_count": 44,
   "metadata": {},
   "outputs": [],
   "source": [
    "tree7=file7.pandas.df()"
   ]
  },
  {
   "cell_type": "code",
   "execution_count": 45,
   "metadata": {},
   "outputs": [
    {
     "data": {
      "text/plain": [
       "Index(['modList', 'A', 'ATime', 'leftEdgeTime', 'rightEdgeTime', 'rtL', 'rtR',\n",
       "       'areaL', 'areaR', 'middleAreaL', 'middleAreaR'],\n",
       "      dtype='object')"
      ]
     },
     "execution_count": 45,
     "metadata": {},
     "output_type": "execute_result"
    }
   ],
   "source": [
    "tree7.keys()"
   ]
  },
  {
   "cell_type": "code",
   "execution_count": 46,
   "metadata": {},
   "outputs": [
    {
     "data": {
      "text/plain": [
       "(array([ 11973.,  12443.,  14217.,  19452.,  29512.,  40921.,  55277.,\n",
       "         74095.,  97002., 125966., 158739., 196454., 239040., 277549.,\n",
       "        292548., 278457., 264852., 249723., 174068., 144259.,  85050.,\n",
       "         24485.,  13797.,  10532.,   9122.,   8573.,   8295.,   8140.,\n",
       "          7859.,   7961.,   7802.,   7854.,   7516.,   7691.,   7624.,\n",
       "          7785.,   4571.,      0.,      0.,      0.,      0.,      0.,\n",
       "             0.,      0.,      0.,      0.,      0.,      0.,      0.,\n",
       "             0.]),\n",
       " array([80000., 80080., 80160., 80240., 80320., 80400., 80480., 80560.,\n",
       "        80640., 80720., 80800., 80880., 80960., 81040., 81120., 81200.,\n",
       "        81280., 81360., 81440., 81520., 81600., 81680., 81760., 81840.,\n",
       "        81920., 82000., 82080., 82160., 82240., 82320., 82400., 82480.,\n",
       "        82560., 82640., 82720., 82800., 82880., 82960., 83040., 83120.,\n",
       "        83200., 83280., 83360., 83440., 83520., 83600., 83680., 83760.,\n",
       "        83840., 83920., 84000.]),\n",
       " <a list of 50 Patch objects>)"
      ]
     },
     "execution_count": 46,
     "metadata": {},
     "output_type": "execute_result"
    },
    {
     "data": {
      "image/png": "[encoded data removed]",
      "text/plain": [
       "<Figure size 432x288 with 1 Axes>"
      ]
     },
     "metadata": {},
     "output_type": "display_data"
    }
   ],
   "source": [
    "x=tree7[\"ATime\"]\n",
    "plt.hist(x, bins=50, range=(80000,84000), color='navy')"
   ]
  },
  {
   "cell_type": "code",
   "execution_count": 47,
   "metadata": {},
   "outputs": [
    {
     "data": {
      "text/plain": [
       "(array([ 12076.,  13498.,  18708.,  29711.,  42192.,  60016.,  85244.,\n",
       "        122741., 174166., 248012., 325934., 388908., 388787., 324498.,\n",
       "        262941., 199511., 105687.,  18944.,  15598.,  13780.,  11850.,\n",
       "         10264.,   9555.,   8822.,   8253.,   8239.,   8132.,   7987.,\n",
       "          7902.,   7949.,   7715.,   7757.,   7654.,   7634.,   7613.,\n",
       "          7455.,   1366.,      0.,      0.,      0.,      0.,      0.,\n",
       "             0.,      0.,      0.,      0.,      0.,      0.,      0.,\n",
       "             0.]),\n",
       " array([80000., 80080., 80160., 80240., 80320., 80400., 80480., 80560.,\n",
       "        80640., 80720., 80800., 80880., 80960., 81040., 81120., 81200.,\n",
       "        81280., 81360., 81440., 81520., 81600., 81680., 81760., 81840.,\n",
       "        81920., 82000., 82080., 82160., 82240., 82320., 82400., 82480.,\n",
       "        82560., 82640., 82720., 82800., 82880., 82960., 83040., 83120.,\n",
       "        83200., 83280., 83360., 83440., 83520., 83600., 83680., 83760.,\n",
       "        83840., 83920., 84000.]),\n",
       " <a list of 50 Patch objects>)"
      ]
     },
     "execution_count": 47,
     "metadata": {},
     "output_type": "execute_result"
    },
    {
     "data": {
      "image/png": "[encoded data removed]",
      "text/plain": [
       "<Figure size 432x288 with 1 Axes>"
      ]
     },
     "metadata": {},
     "output_type": "display_data"
    }
   ],
   "source": [
    "x=tree7[\"leftEdgeTime\"]\n",
    "plt.hist(x, bins=50, range=(80000,84000), color='navy')"
   ]
  },
  {
   "cell_type": "code",
   "execution_count": 48,
   "metadata": {},
   "outputs": [
    {
     "data": {
      "text/plain": [
       "(array([ 11910.,  12010.,  12884.,  14566.,  20085.,  29484.,  39567.,\n",
       "         51619.,  66367.,  83897., 104034., 127646., 153513., 181971.,\n",
       "        215731., 241940., 241440., 225804., 235893., 225655., 200213.,\n",
       "        171024., 116918.,  60893.,  43465.,  16993.,  10213.,   8813.,\n",
       "          8123.,   8026.,   8056.,   7696.,   7752.,   7795.,   7520.,\n",
       "          7592.,   3800.,      0.,      0.,      0.,      0.,      0.,\n",
       "             0.,      0.,      0.,      0.,      0.,      0.,      0.,\n",
       "             0.]),\n",
       " array([80000., 80080., 80160., 80240., 80320., 80400., 80480., 80560.,\n",
       "        80640., 80720., 80800., 80880., 80960., 81040., 81120., 81200.,\n",
       "        81280., 81360., 81440., 81520., 81600., 81680., 81760., 81840.,\n",
       "        81920., 82000., 82080., 82160., 82240., 82320., 82400., 82480.,\n",
       "        82560., 82640., 82720., 82800., 82880., 82960., 83040., 83120.,\n",
       "        83200., 83280., 83360., 83440., 83520., 83600., 83680., 83760.,\n",
       "        83840., 83920., 84000.]),\n",
       " <a list of 50 Patch objects>)"
      ]
     },
     "execution_count": 48,
     "metadata": {},
     "output_type": "execute_result"
    },
    {
     "data": {
      "image/png": "[encoded data removed]",
      "text/plain": [
       "<Figure size 432x288 with 1 Axes>"
      ]
     },
     "metadata": {},
     "output_type": "display_data"
    }
   ],
   "source": [
    "x=tree7[\"rightEdgeTime\"]\n",
    "plt.hist(x, bins=50, range=(80000,84000), color='navy')"
   ]
  },
  {
   "cell_type": "code",
   "execution_count": 49,
   "metadata": {},
   "outputs": [
    {
     "data": {
      "text/plain": [
       "(array([25568336.,        0.,   101372.,        0.,        0.,   190540.,\n",
       "               0.,   173589.,        0.,        0.,   139179.,        0.,\n",
       "          101553.,        0.,        0.,   108653.,        0.,    93330.,\n",
       "               0.,        0.,    69873.,        0.,    77037.,        0.,\n",
       "               0.,    92067.,        0.,   101504.,        0.,        0.,\n",
       "           88195.,        0.,    87310.,        0.,        0.,   102084.,\n",
       "               0.,    97269.,        0.,        0.,    84217.,        0.,\n",
       "           80684.,        0.,        0.,    77216.,        0.,    83806.,\n",
       "               0.,    75156.]),\n",
       " array([  0.,   4.,   8.,  12.,  16.,  20.,  24.,  28.,  32.,  36.,  40.,\n",
       "         44.,  48.,  52.,  56.,  60.,  64.,  68.,  72.,  76.,  80.,  84.,\n",
       "         88.,  92.,  96., 100., 104., 108., 112., 116., 120., 124., 128.,\n",
       "        132., 136., 140., 144., 148., 152., 156., 160., 164., 168., 172.,\n",
       "        176., 180., 184., 188., 192., 196., 200.]),\n",
       " <a list of 50 Patch objects>)"
      ]
     },
     "execution_count": 49,
     "metadata": {},
     "output_type": "execute_result"
    },
    {
     "data": {
      "image/png": "[encoded data removed]",
      "text/plain": [
       "<Figure size 432x288 with 1 Axes>"
      ]
     },
     "metadata": {},
     "output_type": "display_data"
    }
   ],
   "source": [
    "x=tree7[\"rtL\"]\n",
    "plt.hist(x, bins=50, range=(0,200), color='navy')"
   ]
  },
  {
   "cell_type": "code",
   "execution_count": 50,
   "metadata": {},
   "outputs": [
    {
     "data": {
      "text/plain": [
       "(array([2.5568336e+07, 9.7376000e+04, 1.8709800e+05, 1.6869300e+05,\n",
       "        0.0000000e+00, 1.3066700e+05, 9.9261000e+04, 1.0683100e+05,\n",
       "        9.3286000e+04, 0.0000000e+00, 6.8265000e+04, 8.5101000e+04,\n",
       "        1.0774100e+05, 1.3274900e+05, 0.0000000e+00, 1.3173300e+05,\n",
       "        1.2922200e+05, 1.5021200e+05, 1.4257800e+05, 0.0000000e+00,\n",
       "        1.2213600e+05, 1.1465000e+05, 1.0909600e+05, 1.1636400e+05,\n",
       "        0.0000000e+00, 1.0568700e+05, 9.2832000e+04, 8.3089000e+04,\n",
       "        7.7926000e+04, 0.0000000e+00, 6.5847000e+04, 5.4178000e+04,\n",
       "        4.3970000e+04, 4.0671000e+04, 0.0000000e+00, 3.6440000e+04,\n",
       "        3.2368000e+04, 2.8077000e+04, 2.9098000e+04, 0.0000000e+00,\n",
       "        2.7711000e+04, 2.4926000e+04, 1.9762000e+04, 1.6399000e+04,\n",
       "        0.0000000e+00, 1.4050000e+04, 1.1873000e+04, 9.5120000e+03,\n",
       "        7.9370000e+03, 6.7850000e+03]),\n",
       " array([  0.,   8.,  16.,  24.,  32.,  40.,  48.,  56.,  64.,  72.,  80.,\n",
       "         88.,  96., 104., 112., 120., 128., 136., 144., 152., 160., 168.,\n",
       "        176., 184., 192., 200., 208., 216., 224., 232., 240., 248., 256.,\n",
       "        264., 272., 280., 288., 296., 304., 312., 320., 328., 336., 344.,\n",
       "        352., 360., 368., 376., 384., 392., 400.]),\n",
       " <a list of 50 Patch objects>)"
      ]
     },
     "execution_count": 50,
     "metadata": {},
     "output_type": "execute_result"
    },
    {
     "data": {
      "image/png": "[encoded data removed]",
      "text/plain": [
       "<Figure size 432x288 with 1 Axes>"
      ]
     },
     "metadata": {},
     "output_type": "display_data"
    }
   ],
   "source": [
    "x=tree7[\"rtR\"]\n",
    "plt.hist(x, bins=50, range=(0,400), color='navy')"
   ]
  },
  {
   "cell_type": "code",
   "execution_count": 51,
   "metadata": {},
   "outputs": [
    {
     "data": {
      "text/plain": [
       "(array([1.643033e+06, 6.417720e+05, 2.674470e+05, 1.533470e+05,\n",
       "        7.884500e+04, 5.029800e+04, 3.853400e+04, 3.269500e+04,\n",
       "        3.198200e+04, 2.900300e+04, 2.875500e+04, 2.904600e+04,\n",
       "        2.621200e+04, 2.785900e+04, 2.668100e+04, 2.217700e+04,\n",
       "        1.917300e+04, 1.243400e+04, 8.258000e+03, 3.759000e+03,\n",
       "        1.807000e+03, 6.790000e+02, 1.790000e+02, 3.800000e+01,\n",
       "        1.400000e+01, 1.400000e+01, 3.000000e+00, 1.000000e+00,\n",
       "        1.000000e+00, 0.000000e+00, 0.000000e+00, 0.000000e+00,\n",
       "        1.000000e+00, 0.000000e+00, 0.000000e+00, 1.000000e+00,\n",
       "        0.000000e+00, 0.000000e+00, 0.000000e+00, 0.000000e+00,\n",
       "        0.000000e+00, 0.000000e+00, 0.000000e+00, 0.000000e+00,\n",
       "        0.000000e+00, 0.000000e+00, 0.000000e+00, 0.000000e+00,\n",
       "        0.000000e+00, 0.000000e+00]),\n",
       " array([1.00000e+01, 2.00980e+03, 4.00960e+03, 6.00940e+03, 8.00920e+03,\n",
       "        1.00090e+04, 1.20088e+04, 1.40086e+04, 1.60084e+04, 1.80082e+04,\n",
       "        2.00080e+04, 2.20078e+04, 2.40076e+04, 2.60074e+04, 2.80072e+04,\n",
       "        3.00070e+04, 3.20068e+04, 3.40066e+04, 3.60064e+04, 3.80062e+04,\n",
       "        4.00060e+04, 4.20058e+04, 4.40056e+04, 4.60054e+04, 4.80052e+04,\n",
       "        5.00050e+04, 5.20048e+04, 5.40046e+04, 5.60044e+04, 5.80042e+04,\n",
       "        6.00040e+04, 6.20038e+04, 6.40036e+04, 6.60034e+04, 6.80032e+04,\n",
       "        7.00030e+04, 7.20028e+04, 7.40026e+04, 7.60024e+04, 7.80022e+04,\n",
       "        8.00020e+04, 8.20018e+04, 8.40016e+04, 8.60014e+04, 8.80012e+04,\n",
       "        9.00010e+04, 9.20008e+04, 9.40006e+04, 9.60004e+04, 9.80002e+04,\n",
       "        1.00000e+05]),\n",
       " <a list of 50 Patch objects>)"
      ]
     },
     "execution_count": 51,
     "metadata": {},
     "output_type": "execute_result"
    },
    {
     "data": {
      "image/png": "[encoded data removed]",
      "text/plain": [
       "<Figure size 432x288 with 1 Axes>"
      ]
     },
     "metadata": {},
     "output_type": "display_data"
    }
   ],
   "source": [
    "x=tree7[\"areaL\"]\n",
    "plt.hist(x, bins=50, range=(10,100000), color='navy')"
   ]
  },
  {
   "cell_type": "code",
   "execution_count": 52,
   "metadata": {},
   "outputs": [
    {
     "data": {
      "text/plain": [
       "(array([1.794085e+06, 6.152040e+05, 2.400410e+05, 1.262350e+05,\n",
       "        7.903900e+04, 6.027200e+04, 5.310800e+04, 4.317900e+04,\n",
       "        3.614000e+04, 2.852600e+04, 2.338800e+04, 1.680700e+04,\n",
       "        1.318100e+04, 1.042100e+04, 8.872000e+03, 7.453000e+03,\n",
       "        5.790000e+03, 4.500000e+03, 3.163000e+03, 2.051000e+03,\n",
       "        1.356000e+03, 6.700000e+02, 3.220000e+02, 1.320000e+02,\n",
       "        3.600000e+01, 5.000000e+00, 4.000000e+00, 2.000000e+00,\n",
       "        1.000000e+00, 1.000000e+00, 0.000000e+00, 0.000000e+00,\n",
       "        0.000000e+00, 0.000000e+00, 0.000000e+00, 0.000000e+00,\n",
       "        0.000000e+00, 0.000000e+00, 0.000000e+00, 0.000000e+00,\n",
       "        0.000000e+00, 0.000000e+00, 0.000000e+00, 0.000000e+00,\n",
       "        0.000000e+00, 0.000000e+00, 0.000000e+00, 0.000000e+00,\n",
       "        0.000000e+00, 0.000000e+00]),\n",
       " array([1.00000e+01, 2.00980e+03, 4.00960e+03, 6.00940e+03, 8.00920e+03,\n",
       "        1.00090e+04, 1.20088e+04, 1.40086e+04, 1.60084e+04, 1.80082e+04,\n",
       "        2.00080e+04, 2.20078e+04, 2.40076e+04, 2.60074e+04, 2.80072e+04,\n",
       "        3.00070e+04, 3.20068e+04, 3.40066e+04, 3.60064e+04, 3.80062e+04,\n",
       "        4.00060e+04, 4.20058e+04, 4.40056e+04, 4.60054e+04, 4.80052e+04,\n",
       "        5.00050e+04, 5.20048e+04, 5.40046e+04, 5.60044e+04, 5.80042e+04,\n",
       "        6.00040e+04, 6.20038e+04, 6.40036e+04, 6.60034e+04, 6.80032e+04,\n",
       "        7.00030e+04, 7.20028e+04, 7.40026e+04, 7.60024e+04, 7.80022e+04,\n",
       "        8.00020e+04, 8.20018e+04, 8.40016e+04, 8.60014e+04, 8.80012e+04,\n",
       "        9.00010e+04, 9.20008e+04, 9.40006e+04, 9.60004e+04, 9.80002e+04,\n",
       "        1.00000e+05]),\n",
       " <a list of 50 Patch objects>)"
      ]
     },
     "execution_count": 52,
     "metadata": {},
     "output_type": "execute_result"
    },
    {
     "data": {
      "image/png": "[encoded data removed]",
      "text/plain": [
       "<Figure size 432x288 with 1 Axes>"
      ]
     },
     "metadata": {},
     "output_type": "display_data"
    }
   ],
   "source": [
    "x=tree7[\"areaR\"]\n",
    "plt.hist(x, bins=50, range=(10,100000), color='navy')"
   ]
  },
  {
   "cell_type": "code",
   "execution_count": 53,
   "metadata": {},
   "outputs": [
    {
     "data": {
      "text/plain": [
       "(array([1.780036e+06, 5.466160e+05, 2.320830e+05, 1.119140e+05,\n",
       "        6.244900e+04, 4.696800e+04, 4.238200e+04, 4.003000e+04,\n",
       "        3.720400e+04, 3.282900e+04, 2.750600e+04, 2.373300e+04,\n",
       "        2.007900e+04, 1.714200e+04, 1.436500e+04, 1.130900e+04,\n",
       "        7.133000e+03, 4.108000e+03, 2.436000e+03, 1.260000e+03,\n",
       "        5.970000e+02, 1.430000e+02, 4.700000e+01, 1.800000e+01,\n",
       "        8.000000e+00, 4.000000e+00, 0.000000e+00, 1.000000e+00,\n",
       "        0.000000e+00, 0.000000e+00, 0.000000e+00, 0.000000e+00,\n",
       "        0.000000e+00, 0.000000e+00, 0.000000e+00, 0.000000e+00,\n",
       "        0.000000e+00, 0.000000e+00, 0.000000e+00, 0.000000e+00,\n",
       "        0.000000e+00, 0.000000e+00, 0.000000e+00, 0.000000e+00,\n",
       "        0.000000e+00, 0.000000e+00, 0.000000e+00, 0.000000e+00,\n",
       "        0.000000e+00, 0.000000e+00]),\n",
       " array([1.000000e+00, 2.000980e+03, 4.000960e+03, 6.000940e+03,\n",
       "        8.000920e+03, 1.000090e+04, 1.200088e+04, 1.400086e+04,\n",
       "        1.600084e+04, 1.800082e+04, 2.000080e+04, 2.200078e+04,\n",
       "        2.400076e+04, 2.600074e+04, 2.800072e+04, 3.000070e+04,\n",
       "        3.200068e+04, 3.400066e+04, 3.600064e+04, 3.800062e+04,\n",
       "        4.000060e+04, 4.200058e+04, 4.400056e+04, 4.600054e+04,\n",
       "        4.800052e+04, 5.000050e+04, 5.200048e+04, 5.400046e+04,\n",
       "        5.600044e+04, 5.800042e+04, 6.000040e+04, 6.200038e+04,\n",
       "        6.400036e+04, 6.600034e+04, 6.800032e+04, 7.000030e+04,\n",
       "        7.200028e+04, 7.400026e+04, 7.600024e+04, 7.800022e+04,\n",
       "        8.000020e+04, 8.200018e+04, 8.400016e+04, 8.600014e+04,\n",
       "        8.800012e+04, 9.000010e+04, 9.200008e+04, 9.400006e+04,\n",
       "        9.600004e+04, 9.800002e+04, 1.000000e+05]),\n",
       " <a list of 50 Patch objects>)"
      ]
     },
     "execution_count": 53,
     "metadata": {},
     "output_type": "execute_result"
    },
    {
     "data": {
      "image/png": "[encoded data removed]",
      "text/plain": [
       "<Figure size 432x288 with 1 Axes>"
      ]
     },
     "metadata": {},
     "output_type": "display_data"
    }
   ],
   "source": [
    "x=tree7[\"middleAreaL\"]\n",
    "plt.hist(x, bins=50, range=(1,100000), color='navy')"
   ]
  },
  {
   "cell_type": "code",
   "execution_count": 54,
   "metadata": {},
   "outputs": [
    {
     "data": {
      "text/plain": [
       "(array([1.599436e+06, 6.832100e+05, 2.941060e+05, 1.503830e+05,\n",
       "        7.095700e+04, 4.870100e+04, 4.402800e+04, 4.376600e+04,\n",
       "        4.145800e+04, 3.710900e+04, 3.307400e+04, 2.822400e+04,\n",
       "        2.416200e+04, 2.075300e+04, 1.741100e+04, 1.327700e+04,\n",
       "        9.191000e+03, 5.731000e+03, 2.893000e+03, 1.254000e+03,\n",
       "        4.940000e+02, 6.500000e+01, 1.300000e+01, 1.100000e+01,\n",
       "        4.000000e+00, 1.000000e+00, 0.000000e+00, 1.000000e+00,\n",
       "        0.000000e+00, 0.000000e+00, 0.000000e+00, 0.000000e+00,\n",
       "        0.000000e+00, 0.000000e+00, 0.000000e+00, 0.000000e+00,\n",
       "        0.000000e+00, 0.000000e+00, 0.000000e+00, 0.000000e+00,\n",
       "        0.000000e+00, 0.000000e+00, 0.000000e+00, 0.000000e+00,\n",
       "        0.000000e+00, 0.000000e+00, 0.000000e+00, 0.000000e+00,\n",
       "        0.000000e+00, 0.000000e+00]),\n",
       " array([1.000000e+00, 2.000980e+03, 4.000960e+03, 6.000940e+03,\n",
       "        8.000920e+03, 1.000090e+04, 1.200088e+04, 1.400086e+04,\n",
       "        1.600084e+04, 1.800082e+04, 2.000080e+04, 2.200078e+04,\n",
       "        2.400076e+04, 2.600074e+04, 2.800072e+04, 3.000070e+04,\n",
       "        3.200068e+04, 3.400066e+04, 3.600064e+04, 3.800062e+04,\n",
       "        4.000060e+04, 4.200058e+04, 4.400056e+04, 4.600054e+04,\n",
       "        4.800052e+04, 5.000050e+04, 5.200048e+04, 5.400046e+04,\n",
       "        5.600044e+04, 5.800042e+04, 6.000040e+04, 6.200038e+04,\n",
       "        6.400036e+04, 6.600034e+04, 6.800032e+04, 7.000030e+04,\n",
       "        7.200028e+04, 7.400026e+04, 7.600024e+04, 7.800022e+04,\n",
       "        8.000020e+04, 8.200018e+04, 8.400016e+04, 8.600014e+04,\n",
       "        8.800012e+04, 9.000010e+04, 9.200008e+04, 9.400006e+04,\n",
       "        9.600004e+04, 9.800002e+04, 1.000000e+05]),\n",
       " <a list of 50 Patch objects>)"
      ]
     },
     "execution_count": 54,
     "metadata": {},
     "output_type": "execute_result"
    },
    {
     "data": {
      "image/png": "[encoded data removed]",
      "text/plain": [
       "<Figure size 432x288 with 1 Axes>"
      ]
     },
     "metadata": {},
     "output_type": "display_data"
    }
   ],
   "source": [
    "x=tree7[\"middleAreaR\"]\n",
    "plt.hist(x, bins=50, range=(1,100000), color='navy')"
   ]
  },
  {
   "cell_type": "code",
   "execution_count": 55,
   "metadata": {},
   "outputs": [],
   "source": [
    "file8 = uproot.open(\"/Users/zaret/Desktop/cal/calibration_20111111.tier2.root\")[\"GEMDQuality\"]"
   ]
  },
  {
   "cell_type": "code",
   "execution_count": null,
   "metadata": {},
   "outputs": [],
   "source": [
    "tree8=file8.pandas.df()"
   ]
  },
  {
   "cell_type": "code",
   "execution_count": 66,
   "metadata": {
    "scrolled": false
   },
   "outputs": [
    {
     "data": {
      "text/plain": [
       "(array([23670599.,        0.,        0.,        0.,        0.,        0.,\n",
       "               0.,        0.,        0.,        0.,        0.,        0.,\n",
       "               0.,        0.,        0.,        0.,        0.,        0.,\n",
       "               0.,        0.,        0.,        0.,        0.,        0.,\n",
       "               0.,  2563411.,        0.,        0.,        0.,        0.,\n",
       "               0.,        0.,        0.,        0.,        0.,        0.,\n",
       "               0.,        0.,        0.,        0.,        0.,        0.,\n",
       "               0.,        0.,        0.,        0.,        0.,        0.,\n",
       "               0.,        0.]),\n",
       " array([0.  , 0.04, 0.08, 0.12, 0.16, 0.2 , 0.24, 0.28, 0.32, 0.36, 0.4 ,\n",
       "        0.44, 0.48, 0.52, 0.56, 0.6 , 0.64, 0.68, 0.72, 0.76, 0.8 , 0.84,\n",
       "        0.88, 0.92, 0.96, 1.  , 1.04, 1.08, 1.12, 1.16, 1.2 , 1.24, 1.28,\n",
       "        1.32, 1.36, 1.4 , 1.44, 1.48, 1.52, 1.56, 1.6 , 1.64, 1.68, 1.72,\n",
       "        1.76, 1.8 , 1.84, 1.88, 1.92, 1.96, 2.  ]),\n",
       " <a list of 50 Patch objects>)"
      ]
     },
     "execution_count": 66,
     "metadata": {},
     "output_type": "execute_result"
    },
    {
     "data": {
      "image/png": "[encoded data removed]",
      "text/plain": [
       "<Figure size 432x288 with 1 Axes>"
      ]
     },
     "metadata": {},
     "output_type": "display_data"
    }
   ],
   "source": [
    "x=tree8[\"isgood\"]\n",
    "plt.hist(x, bins=50, range=(0,2), color='navy')"
   ]
  },
  {
   "cell_type": "code",
   "execution_count": 23,
   "metadata": {},
   "outputs": [
    {
     "data": {
      "text/html": [
       "<div>\n",
       "<style scoped>\n",
       "    .dataframe tbody tr th:only-of-type {\n",
       "        vertical-align: middle;\n",
       "    }\n",
       "\n",
       "    .dataframe tbody tr th {\n",
       "        vertical-align: top;\n",
       "    }\n",
       "\n",
       "    .dataframe thead th {\n",
       "        text-align: right;\n",
       "    }\n",
       "</style>\n",
       "<table border=\"1\" class=\"dataframe\">\n",
       "  <thead>\n",
       "    <tr style=\"text-align: right;\">\n",
       "      <th></th>\n",
       "      <th></th>\n",
       "      <th>modList</th>\n",
       "      <th>eventNumber</th>\n",
       "      <th>channelID</th>\n",
       "      <th>timestamp</th>\n",
       "      <th>decimalTimestamp</th>\n",
       "      <th>vetoFlag</th>\n",
       "      <th>vetoSample</th>\n",
       "      <th>eventType</th>\n",
       "      <th>energy</th>\n",
       "      <th>channelStatus</th>\n",
       "      <th>waveformTag</th>\n",
       "    </tr>\n",
       "    <tr>\n",
       "      <th>entry</th>\n",
       "      <th>subentry</th>\n",
       "      <th></th>\n",
       "      <th></th>\n",
       "      <th></th>\n",
       "      <th></th>\n",
       "      <th></th>\n",
       "      <th></th>\n",
       "      <th></th>\n",
       "      <th></th>\n",
       "      <th></th>\n",
       "      <th></th>\n",
       "      <th></th>\n",
       "    </tr>\n",
       "  </thead>\n",
       "  <tbody>\n",
       "    <tr>\n",
       "      <th rowspan=\"5\" valign=\"top\">0</th>\n",
       "      <th>0</th>\n",
       "      <td>[, , , , , , , , , , GEMDFADC_1]</td>\n",
       "      <td>0</td>\n",
       "      <td>0</td>\n",
       "      <td>0</td>\n",
       "      <td>0</td>\n",
       "      <td>0</td>\n",
       "      <td>0</td>\n",
       "      <td>0</td>\n",
       "      <td>0.0</td>\n",
       "      <td>False</td>\n",
       "      <td>0</td>\n",
       "    </tr>\n",
       "    <tr>\n",
       "      <th>1</th>\n",
       "      <td>[, , , , , , , , , , GEMDFADC_1]</td>\n",
       "      <td>0</td>\n",
       "      <td>0</td>\n",
       "      <td>0</td>\n",
       "      <td>0</td>\n",
       "      <td>0</td>\n",
       "      <td>0</td>\n",
       "      <td>0</td>\n",
       "      <td>0.0</td>\n",
       "      <td>False</td>\n",
       "      <td>0</td>\n",
       "    </tr>\n",
       "    <tr>\n",
       "      <th>2</th>\n",
       "      <td>[, , , , , , , , , , GEMDFADC_1]</td>\n",
       "      <td>0</td>\n",
       "      <td>0</td>\n",
       "      <td>0</td>\n",
       "      <td>0</td>\n",
       "      <td>0</td>\n",
       "      <td>0</td>\n",
       "      <td>0</td>\n",
       "      <td>0.0</td>\n",
       "      <td>False</td>\n",
       "      <td>0</td>\n",
       "    </tr>\n",
       "    <tr>\n",
       "      <th>3</th>\n",
       "      <td>[, , , , , , , , , , GEMDFADC_1]</td>\n",
       "      <td>0</td>\n",
       "      <td>0</td>\n",
       "      <td>0</td>\n",
       "      <td>0</td>\n",
       "      <td>0</td>\n",
       "      <td>0</td>\n",
       "      <td>0</td>\n",
       "      <td>0.0</td>\n",
       "      <td>False</td>\n",
       "      <td>0</td>\n",
       "    </tr>\n",
       "    <tr>\n",
       "      <th>4</th>\n",
       "      <td>[, , , , , , , , , , GEMDFADC_1]</td>\n",
       "      <td>0</td>\n",
       "      <td>0</td>\n",
       "      <td>0</td>\n",
       "      <td>0</td>\n",
       "      <td>0</td>\n",
       "      <td>0</td>\n",
       "      <td>0</td>\n",
       "      <td>0.0</td>\n",
       "      <td>False</td>\n",
       "      <td>0</td>\n",
       "    </tr>\n",
       "    <tr>\n",
       "      <th>...</th>\n",
       "      <th>...</th>\n",
       "      <td>...</td>\n",
       "      <td>...</td>\n",
       "      <td>...</td>\n",
       "      <td>...</td>\n",
       "      <td>...</td>\n",
       "      <td>...</td>\n",
       "      <td>...</td>\n",
       "      <td>...</td>\n",
       "      <td>...</td>\n",
       "      <td>...</td>\n",
       "      <td>...</td>\n",
       "    </tr>\n",
       "    <tr>\n",
       "      <th rowspan=\"5\" valign=\"top\">2384909</th>\n",
       "      <th>6</th>\n",
       "      <td>[, , GEMDFADC_1, , , , , , , , ]</td>\n",
       "      <td>0</td>\n",
       "      <td>0</td>\n",
       "      <td>0</td>\n",
       "      <td>0</td>\n",
       "      <td>0</td>\n",
       "      <td>0</td>\n",
       "      <td>0</td>\n",
       "      <td>0.0</td>\n",
       "      <td>False</td>\n",
       "      <td>0</td>\n",
       "    </tr>\n",
       "    <tr>\n",
       "      <th>7</th>\n",
       "      <td>[, , GEMDFADC_1, , , , , , , , ]</td>\n",
       "      <td>0</td>\n",
       "      <td>0</td>\n",
       "      <td>0</td>\n",
       "      <td>0</td>\n",
       "      <td>0</td>\n",
       "      <td>0</td>\n",
       "      <td>0</td>\n",
       "      <td>0.0</td>\n",
       "      <td>False</td>\n",
       "      <td>0</td>\n",
       "    </tr>\n",
       "    <tr>\n",
       "      <th>8</th>\n",
       "      <td>[, , GEMDFADC_1, , , , , , , , ]</td>\n",
       "      <td>0</td>\n",
       "      <td>0</td>\n",
       "      <td>0</td>\n",
       "      <td>0</td>\n",
       "      <td>0</td>\n",
       "      <td>0</td>\n",
       "      <td>0</td>\n",
       "      <td>0.0</td>\n",
       "      <td>False</td>\n",
       "      <td>0</td>\n",
       "    </tr>\n",
       "    <tr>\n",
       "      <th>9</th>\n",
       "      <td>[, , GEMDFADC_1, , , , , , , , ]</td>\n",
       "      <td>0</td>\n",
       "      <td>0</td>\n",
       "      <td>0</td>\n",
       "      <td>0</td>\n",
       "      <td>0</td>\n",
       "      <td>0</td>\n",
       "      <td>0</td>\n",
       "      <td>0.0</td>\n",
       "      <td>False</td>\n",
       "      <td>0</td>\n",
       "    </tr>\n",
       "    <tr>\n",
       "      <th>10</th>\n",
       "      <td>[, , GEMDFADC_1, , , , , , , , ]</td>\n",
       "      <td>0</td>\n",
       "      <td>0</td>\n",
       "      <td>0</td>\n",
       "      <td>0</td>\n",
       "      <td>0</td>\n",
       "      <td>0</td>\n",
       "      <td>0</td>\n",
       "      <td>0.0</td>\n",
       "      <td>False</td>\n",
       "      <td>0</td>\n",
       "    </tr>\n",
       "  </tbody>\n",
       "</table>\n",
       "<p>26234010 rows × 11 columns</p>\n",
       "</div>"
      ],
      "text/plain": [
       "                                           modList  eventNumber  channelID  \\\n",
       "entry   subentry                                                             \n",
       "0       0         [, , , , , , , , , , GEMDFADC_1]            0          0   \n",
       "        1         [, , , , , , , , , , GEMDFADC_1]            0          0   \n",
       "        2         [, , , , , , , , , , GEMDFADC_1]            0          0   \n",
       "        3         [, , , , , , , , , , GEMDFADC_1]            0          0   \n",
       "        4         [, , , , , , , , , , GEMDFADC_1]            0          0   \n",
       "...                                            ...          ...        ...   \n",
       "2384909 6         [, , GEMDFADC_1, , , , , , , , ]            0          0   \n",
       "        7         [, , GEMDFADC_1, , , , , , , , ]            0          0   \n",
       "        8         [, , GEMDFADC_1, , , , , , , , ]            0          0   \n",
       "        9         [, , GEMDFADC_1, , , , , , , , ]            0          0   \n",
       "        10        [, , GEMDFADC_1, , , , , , , , ]            0          0   \n",
       "\n",
       "                  timestamp  decimalTimestamp  vetoFlag  vetoSample  \\\n",
       "entry   subentry                                                      \n",
       "0       0                 0                 0         0           0   \n",
       "        1                 0                 0         0           0   \n",
       "        2                 0                 0         0           0   \n",
       "        3                 0                 0         0           0   \n",
       "        4                 0                 0         0           0   \n",
       "...                     ...               ...       ...         ...   \n",
       "2384909 6                 0                 0         0           0   \n",
       "        7                 0                 0         0           0   \n",
       "        8                 0                 0         0           0   \n",
       "        9                 0                 0         0           0   \n",
       "        10                0                 0         0           0   \n",
       "\n",
       "                  eventType  energy  channelStatus  waveformTag  \n",
       "entry   subentry                                                 \n",
       "0       0                 0     0.0          False            0  \n",
       "        1                 0     0.0          False            0  \n",
       "        2                 0     0.0          False            0  \n",
       "        3                 0     0.0          False            0  \n",
       "        4                 0     0.0          False            0  \n",
       "...                     ...     ...            ...          ...  \n",
       "2384909 6                 0     0.0          False            0  \n",
       "        7                 0     0.0          False            0  \n",
       "        8                 0     0.0          False            0  \n",
       "        9                 0     0.0          False            0  \n",
       "        10                0     0.0          False            0  \n",
       "\n",
       "[26234010 rows x 11 columns]"
      ]
     },
     "execution_count": 23,
     "metadata": {},
     "output_type": "execute_result"
    }
   ],
   "source": [
    "tree1"
   ]
  },
  {
   "cell_type": "code",
   "execution_count": null,
   "metadata": {},
   "outputs": [],
   "source": [
    "tree1.drop(['channelID','channelStatus','timestamp','decimalTimestamp','vetoFlag','vetoSample','waveformTag'], axis='columns', inplace=True)"
   ]
  },
  {
   "cell_type": "code",
   "execution_count": null,
   "metadata": {},
   "outputs": [],
   "source": [
    "tree1=tree1.assign(baseline=tree2.baseline,trigger=tree3.triggerNumber,isgood=tree8.isgood)"
   ]
  },
  {
   "cell_type": "code",
   "execution_count": null,
   "metadata": {},
   "outputs": [],
   "source": []
  },
  {
   "cell_type": "code",
   "execution_count": 24,
   "metadata": {},
   "outputs": [
    {
     "data": {
      "text/html": [
       "<div>\n",
       "<style scoped>\n",
       "    .dataframe tbody tr th:only-of-type {\n",
       "        vertical-align: middle;\n",
       "    }\n",
       "\n",
       "    .dataframe tbody tr th {\n",
       "        vertical-align: top;\n",
       "    }\n",
       "\n",
       "    .dataframe thead th {\n",
       "        text-align: right;\n",
       "    }\n",
       "</style>\n",
       "<table border=\"1\" class=\"dataframe\">\n",
       "  <thead>\n",
       "    <tr style=\"text-align: right;\">\n",
       "      <th></th>\n",
       "      <th></th>\n",
       "      <th>modList</th>\n",
       "      <th>energy</th>\n",
       "      <th>baseline</th>\n",
       "      <th>maxAmpTime</th>\n",
       "    </tr>\n",
       "    <tr>\n",
       "      <th>entry</th>\n",
       "      <th>subentry</th>\n",
       "      <th></th>\n",
       "      <th></th>\n",
       "      <th></th>\n",
       "      <th></th>\n",
       "    </tr>\n",
       "  </thead>\n",
       "  <tbody>\n",
       "    <tr>\n",
       "      <th rowspan=\"5\" valign=\"top\">0</th>\n",
       "      <th>0</th>\n",
       "      <td>[, , , , , , , , , , GEMDEnergyGauss_5]</td>\n",
       "      <td>0.0</td>\n",
       "      <td>0.0</td>\n",
       "      <td>0.0</td>\n",
       "    </tr>\n",
       "    <tr>\n",
       "      <th>1</th>\n",
       "      <td>[, , , , , , , , , , GEMDEnergyGauss_5]</td>\n",
       "      <td>0.0</td>\n",
       "      <td>0.0</td>\n",
       "      <td>0.0</td>\n",
       "    </tr>\n",
       "    <tr>\n",
       "      <th>2</th>\n",
       "      <td>[, , , , , , , , , , GEMDEnergyGauss_5]</td>\n",
       "      <td>0.0</td>\n",
       "      <td>0.0</td>\n",
       "      <td>0.0</td>\n",
       "    </tr>\n",
       "    <tr>\n",
       "      <th>3</th>\n",
       "      <td>[, , , , , , , , , , GEMDEnergyGauss_5]</td>\n",
       "      <td>0.0</td>\n",
       "      <td>0.0</td>\n",
       "      <td>0.0</td>\n",
       "    </tr>\n",
       "    <tr>\n",
       "      <th>4</th>\n",
       "      <td>[, , , , , , , , , , GEMDEnergyGauss_5]</td>\n",
       "      <td>0.0</td>\n",
       "      <td>0.0</td>\n",
       "      <td>0.0</td>\n",
       "    </tr>\n",
       "    <tr>\n",
       "      <th>...</th>\n",
       "      <th>...</th>\n",
       "      <td>...</td>\n",
       "      <td>...</td>\n",
       "      <td>...</td>\n",
       "      <td>...</td>\n",
       "    </tr>\n",
       "    <tr>\n",
       "      <th rowspan=\"5\" valign=\"top\">2384909</th>\n",
       "      <th>6</th>\n",
       "      <td>[, , GEMDEnergyGauss_5, , , , , , , , ]</td>\n",
       "      <td>0.0</td>\n",
       "      <td>0.0</td>\n",
       "      <td>0.0</td>\n",
       "    </tr>\n",
       "    <tr>\n",
       "      <th>7</th>\n",
       "      <td>[, , GEMDEnergyGauss_5, , , , , , , , ]</td>\n",
       "      <td>0.0</td>\n",
       "      <td>0.0</td>\n",
       "      <td>0.0</td>\n",
       "    </tr>\n",
       "    <tr>\n",
       "      <th>8</th>\n",
       "      <td>[, , GEMDEnergyGauss_5, , , , , , , , ]</td>\n",
       "      <td>0.0</td>\n",
       "      <td>0.0</td>\n",
       "      <td>0.0</td>\n",
       "    </tr>\n",
       "    <tr>\n",
       "      <th>9</th>\n",
       "      <td>[, , GEMDEnergyGauss_5, , , , , , , , ]</td>\n",
       "      <td>0.0</td>\n",
       "      <td>0.0</td>\n",
       "      <td>0.0</td>\n",
       "    </tr>\n",
       "    <tr>\n",
       "      <th>10</th>\n",
       "      <td>[, , GEMDEnergyGauss_5, , , , , , , , ]</td>\n",
       "      <td>0.0</td>\n",
       "      <td>0.0</td>\n",
       "      <td>0.0</td>\n",
       "    </tr>\n",
       "  </tbody>\n",
       "</table>\n",
       "<p>26234010 rows × 4 columns</p>\n",
       "</div>"
      ],
      "text/plain": [
       "                                                  modList  energy  baseline  \\\n",
       "entry   subentry                                                              \n",
       "0       0         [, , , , , , , , , , GEMDEnergyGauss_5]     0.0       0.0   \n",
       "        1         [, , , , , , , , , , GEMDEnergyGauss_5]     0.0       0.0   \n",
       "        2         [, , , , , , , , , , GEMDEnergyGauss_5]     0.0       0.0   \n",
       "        3         [, , , , , , , , , , GEMDEnergyGauss_5]     0.0       0.0   \n",
       "        4         [, , , , , , , , , , GEMDEnergyGauss_5]     0.0       0.0   \n",
       "...                                                   ...     ...       ...   \n",
       "2384909 6         [, , GEMDEnergyGauss_5, , , , , , , , ]     0.0       0.0   \n",
       "        7         [, , GEMDEnergyGauss_5, , , , , , , , ]     0.0       0.0   \n",
       "        8         [, , GEMDEnergyGauss_5, , , , , , , , ]     0.0       0.0   \n",
       "        9         [, , GEMDEnergyGauss_5, , , , , , , , ]     0.0       0.0   \n",
       "        10        [, , GEMDEnergyGauss_5, , , , , , , , ]     0.0       0.0   \n",
       "\n",
       "                  maxAmpTime  \n",
       "entry   subentry              \n",
       "0       0                0.0  \n",
       "        1                0.0  \n",
       "        2                0.0  \n",
       "        3                0.0  \n",
       "        4                0.0  \n",
       "...                      ...  \n",
       "2384909 6                0.0  \n",
       "        7                0.0  \n",
       "        8                0.0  \n",
       "        9                0.0  \n",
       "        10               0.0  \n",
       "\n",
       "[26234010 rows x 4 columns]"
      ]
     },
     "execution_count": 24,
     "metadata": {},
     "output_type": "execute_result"
    }
   ],
   "source": [
    "tree4"
   ]
  },
  {
   "cell_type": "code",
   "execution_count": null,
   "metadata": {},
   "outputs": [],
   "source": [
    "tree4.drop(['baseline'], axis='columns', inplace=True)"
   ]
  },
  {
   "cell_type": "code",
   "execution_count": null,
   "metadata": {},
   "outputs": [],
   "source": [
    "tree4=tree4.assign(trigger=tree3.triggerNumber,isgood=tree8.isgood,eventType=tree1.eventType)"
   ]
  },
  {
   "cell_type": "code",
   "execution_count": null,
   "metadata": {},
   "outputs": [],
   "source": []
  },
  {
   "cell_type": "code",
   "execution_count": 25,
   "metadata": {},
   "outputs": [
    {
     "data": {
      "text/html": [
       "<div>\n",
       "<style scoped>\n",
       "    .dataframe tbody tr th:only-of-type {\n",
       "        vertical-align: middle;\n",
       "    }\n",
       "\n",
       "    .dataframe tbody tr th {\n",
       "        vertical-align: top;\n",
       "    }\n",
       "\n",
       "    .dataframe thead th {\n",
       "        text-align: right;\n",
       "    }\n",
       "</style>\n",
       "<table border=\"1\" class=\"dataframe\">\n",
       "  <thead>\n",
       "    <tr style=\"text-align: right;\">\n",
       "      <th></th>\n",
       "      <th></th>\n",
       "      <th>modList</th>\n",
       "      <th>risetime</th>\n",
       "      <th>maxAmpAverage</th>\n",
       "      <th>nPoint</th>\n",
       "      <th>maxAmpTime</th>\n",
       "      <th>lowEdgeAmp</th>\n",
       "      <th>lowEdgeTime</th>\n",
       "      <th>highEdgeAmp</th>\n",
       "      <th>highEdgeTime</th>\n",
       "    </tr>\n",
       "    <tr>\n",
       "      <th>entry</th>\n",
       "      <th>subentry</th>\n",
       "      <th></th>\n",
       "      <th></th>\n",
       "      <th></th>\n",
       "      <th></th>\n",
       "      <th></th>\n",
       "      <th></th>\n",
       "      <th></th>\n",
       "      <th></th>\n",
       "      <th></th>\n",
       "    </tr>\n",
       "  </thead>\n",
       "  <tbody>\n",
       "    <tr>\n",
       "      <th rowspan=\"5\" valign=\"top\">0</th>\n",
       "      <th>0</th>\n",
       "      <td>[, , , , , , , , , , GEMDRiseTime_6]</td>\n",
       "      <td>0.0</td>\n",
       "      <td>0.0</td>\n",
       "      <td>0</td>\n",
       "      <td>0.0</td>\n",
       "      <td>0.0</td>\n",
       "      <td>0.0</td>\n",
       "      <td>0.0</td>\n",
       "      <td>0.0</td>\n",
       "    </tr>\n",
       "    <tr>\n",
       "      <th>1</th>\n",
       "      <td>[, , , , , , , , , , GEMDRiseTime_6]</td>\n",
       "      <td>0.0</td>\n",
       "      <td>0.0</td>\n",
       "      <td>0</td>\n",
       "      <td>0.0</td>\n",
       "      <td>0.0</td>\n",
       "      <td>0.0</td>\n",
       "      <td>0.0</td>\n",
       "      <td>0.0</td>\n",
       "    </tr>\n",
       "    <tr>\n",
       "      <th>2</th>\n",
       "      <td>[, , , , , , , , , , GEMDRiseTime_6]</td>\n",
       "      <td>0.0</td>\n",
       "      <td>0.0</td>\n",
       "      <td>0</td>\n",
       "      <td>0.0</td>\n",
       "      <td>0.0</td>\n",
       "      <td>0.0</td>\n",
       "      <td>0.0</td>\n",
       "      <td>0.0</td>\n",
       "    </tr>\n",
       "    <tr>\n",
       "      <th>3</th>\n",
       "      <td>[, , , , , , , , , , GEMDRiseTime_6]</td>\n",
       "      <td>0.0</td>\n",
       "      <td>0.0</td>\n",
       "      <td>0</td>\n",
       "      <td>0.0</td>\n",
       "      <td>0.0</td>\n",
       "      <td>0.0</td>\n",
       "      <td>0.0</td>\n",
       "      <td>0.0</td>\n",
       "    </tr>\n",
       "    <tr>\n",
       "      <th>4</th>\n",
       "      <td>[, , , , , , , , , , GEMDRiseTime_6]</td>\n",
       "      <td>0.0</td>\n",
       "      <td>0.0</td>\n",
       "      <td>0</td>\n",
       "      <td>0.0</td>\n",
       "      <td>0.0</td>\n",
       "      <td>0.0</td>\n",
       "      <td>0.0</td>\n",
       "      <td>0.0</td>\n",
       "    </tr>\n",
       "    <tr>\n",
       "      <th>...</th>\n",
       "      <th>...</th>\n",
       "      <td>...</td>\n",
       "      <td>...</td>\n",
       "      <td>...</td>\n",
       "      <td>...</td>\n",
       "      <td>...</td>\n",
       "      <td>...</td>\n",
       "      <td>...</td>\n",
       "      <td>...</td>\n",
       "      <td>...</td>\n",
       "    </tr>\n",
       "    <tr>\n",
       "      <th rowspan=\"5\" valign=\"top\">2384909</th>\n",
       "      <th>6</th>\n",
       "      <td>[, , GEMDRiseTime_6, , , , , , , , ]</td>\n",
       "      <td>0.0</td>\n",
       "      <td>0.0</td>\n",
       "      <td>0</td>\n",
       "      <td>0.0</td>\n",
       "      <td>0.0</td>\n",
       "      <td>0.0</td>\n",
       "      <td>0.0</td>\n",
       "      <td>0.0</td>\n",
       "    </tr>\n",
       "    <tr>\n",
       "      <th>7</th>\n",
       "      <td>[, , GEMDRiseTime_6, , , , , , , , ]</td>\n",
       "      <td>0.0</td>\n",
       "      <td>0.0</td>\n",
       "      <td>0</td>\n",
       "      <td>0.0</td>\n",
       "      <td>0.0</td>\n",
       "      <td>0.0</td>\n",
       "      <td>0.0</td>\n",
       "      <td>0.0</td>\n",
       "    </tr>\n",
       "    <tr>\n",
       "      <th>8</th>\n",
       "      <td>[, , GEMDRiseTime_6, , , , , , , , ]</td>\n",
       "      <td>0.0</td>\n",
       "      <td>0.0</td>\n",
       "      <td>0</td>\n",
       "      <td>0.0</td>\n",
       "      <td>0.0</td>\n",
       "      <td>0.0</td>\n",
       "      <td>0.0</td>\n",
       "      <td>0.0</td>\n",
       "    </tr>\n",
       "    <tr>\n",
       "      <th>9</th>\n",
       "      <td>[, , GEMDRiseTime_6, , , , , , , , ]</td>\n",
       "      <td>0.0</td>\n",
       "      <td>0.0</td>\n",
       "      <td>0</td>\n",
       "      <td>0.0</td>\n",
       "      <td>0.0</td>\n",
       "      <td>0.0</td>\n",
       "      <td>0.0</td>\n",
       "      <td>0.0</td>\n",
       "    </tr>\n",
       "    <tr>\n",
       "      <th>10</th>\n",
       "      <td>[, , GEMDRiseTime_6, , , , , , , , ]</td>\n",
       "      <td>0.0</td>\n",
       "      <td>0.0</td>\n",
       "      <td>0</td>\n",
       "      <td>0.0</td>\n",
       "      <td>0.0</td>\n",
       "      <td>0.0</td>\n",
       "      <td>0.0</td>\n",
       "      <td>0.0</td>\n",
       "    </tr>\n",
       "  </tbody>\n",
       "</table>\n",
       "<p>26234010 rows × 9 columns</p>\n",
       "</div>"
      ],
      "text/plain": [
       "                                               modList  risetime  \\\n",
       "entry   subentry                                                   \n",
       "0       0         [, , , , , , , , , , GEMDRiseTime_6]       0.0   \n",
       "        1         [, , , , , , , , , , GEMDRiseTime_6]       0.0   \n",
       "        2         [, , , , , , , , , , GEMDRiseTime_6]       0.0   \n",
       "        3         [, , , , , , , , , , GEMDRiseTime_6]       0.0   \n",
       "        4         [, , , , , , , , , , GEMDRiseTime_6]       0.0   \n",
       "...                                                ...       ...   \n",
       "2384909 6         [, , GEMDRiseTime_6, , , , , , , , ]       0.0   \n",
       "        7         [, , GEMDRiseTime_6, , , , , , , , ]       0.0   \n",
       "        8         [, , GEMDRiseTime_6, , , , , , , , ]       0.0   \n",
       "        9         [, , GEMDRiseTime_6, , , , , , , , ]       0.0   \n",
       "        10        [, , GEMDRiseTime_6, , , , , , , , ]       0.0   \n",
       "\n",
       "                  maxAmpAverage  nPoint  maxAmpTime  lowEdgeAmp  lowEdgeTime  \\\n",
       "entry   subentry                                                               \n",
       "0       0                   0.0       0         0.0         0.0          0.0   \n",
       "        1                   0.0       0         0.0         0.0          0.0   \n",
       "        2                   0.0       0         0.0         0.0          0.0   \n",
       "        3                   0.0       0         0.0         0.0          0.0   \n",
       "        4                   0.0       0         0.0         0.0          0.0   \n",
       "...                         ...     ...         ...         ...          ...   \n",
       "2384909 6                   0.0       0         0.0         0.0          0.0   \n",
       "        7                   0.0       0         0.0         0.0          0.0   \n",
       "        8                   0.0       0         0.0         0.0          0.0   \n",
       "        9                   0.0       0         0.0         0.0          0.0   \n",
       "        10                  0.0       0         0.0         0.0          0.0   \n",
       "\n",
       "                  highEdgeAmp  highEdgeTime  \n",
       "entry   subentry                             \n",
       "0       0                 0.0           0.0  \n",
       "        1                 0.0           0.0  \n",
       "        2                 0.0           0.0  \n",
       "        3                 0.0           0.0  \n",
       "        4                 0.0           0.0  \n",
       "...                       ...           ...  \n",
       "2384909 6                 0.0           0.0  \n",
       "        7                 0.0           0.0  \n",
       "        8                 0.0           0.0  \n",
       "        9                 0.0           0.0  \n",
       "        10                0.0           0.0  \n",
       "\n",
       "[26234010 rows x 9 columns]"
      ]
     },
     "execution_count": 25,
     "metadata": {},
     "output_type": "execute_result"
    }
   ],
   "source": [
    "tree5"
   ]
  },
  {
   "cell_type": "code",
   "execution_count": null,
   "metadata": {},
   "outputs": [],
   "source": [
    "tree5.drop(['risetime','nPoint','lowEdgeTime','highEdgeAmp','highEdgeTime'], axis='columns', inplace=True)"
   ]
  },
  {
   "cell_type": "code",
   "execution_count": null,
   "metadata": {},
   "outputs": [],
   "source": [
    "tree5=tree5.assign(trigger=tree3.triggerNumber,isgood=tree8.isgood,energy=tree1.energy,eventType=tree1.eventType)"
   ]
  },
  {
   "cell_type": "code",
   "execution_count": null,
   "metadata": {},
   "outputs": [],
   "source": []
  },
  {
   "cell_type": "code",
   "execution_count": null,
   "metadata": {},
   "outputs": [],
   "source": [
    "tree6"
   ]
  },
  {
   "cell_type": "code",
   "execution_count": null,
   "metadata": {},
   "outputs": [],
   "source": [
    "tree6.drop(['risetime','nPoint'], axis='columns', inplace=True)"
   ]
  },
  {
   "cell_type": "code",
   "execution_count": null,
   "metadata": {},
   "outputs": [],
   "source": [
    "tree6=tree6.assign(trigger=tree3.triggerNumber,isgood=tree8.isgood,energy=tree1.energy,eventType=tree1.eventType)"
   ]
  },
  {
   "cell_type": "code",
   "execution_count": null,
   "metadata": {},
   "outputs": [],
   "source": []
  },
  {
   "cell_type": "code",
   "execution_count": 27,
   "metadata": {},
   "outputs": [
    {
     "data": {
      "text/html": [
       "<div>\n",
       "<style scoped>\n",
       "    .dataframe tbody tr th:only-of-type {\n",
       "        vertical-align: middle;\n",
       "    }\n",
       "\n",
       "    .dataframe tbody tr th {\n",
       "        vertical-align: top;\n",
       "    }\n",
       "\n",
       "    .dataframe thead th {\n",
       "        text-align: right;\n",
       "    }\n",
       "</style>\n",
       "<table border=\"1\" class=\"dataframe\">\n",
       "  <thead>\n",
       "    <tr style=\"text-align: right;\">\n",
       "      <th></th>\n",
       "      <th></th>\n",
       "      <th>modList</th>\n",
       "      <th>A</th>\n",
       "      <th>ATime</th>\n",
       "      <th>leftEdgeTime</th>\n",
       "      <th>rightEdgeTime</th>\n",
       "      <th>rtL</th>\n",
       "      <th>rtR</th>\n",
       "      <th>areaL</th>\n",
       "      <th>areaR</th>\n",
       "      <th>middleAreaL</th>\n",
       "      <th>middleAreaR</th>\n",
       "    </tr>\n",
       "    <tr>\n",
       "      <th>entry</th>\n",
       "      <th>subentry</th>\n",
       "      <th></th>\n",
       "      <th></th>\n",
       "      <th></th>\n",
       "      <th></th>\n",
       "      <th></th>\n",
       "      <th></th>\n",
       "      <th></th>\n",
       "      <th></th>\n",
       "      <th></th>\n",
       "      <th></th>\n",
       "      <th></th>\n",
       "    </tr>\n",
       "  </thead>\n",
       "  <tbody>\n",
       "    <tr>\n",
       "      <th rowspan=\"5\" valign=\"top\">0</th>\n",
       "      <th>0</th>\n",
       "      <td>[, , , , , , , , , , GEMDCurrentPSAChain2_8]</td>\n",
       "      <td>0.0</td>\n",
       "      <td>0.0</td>\n",
       "      <td>0.0</td>\n",
       "      <td>0.0</td>\n",
       "      <td>0.0</td>\n",
       "      <td>0.0</td>\n",
       "      <td>0.0</td>\n",
       "      <td>0.0</td>\n",
       "      <td>0.0</td>\n",
       "      <td>0.0</td>\n",
       "    </tr>\n",
       "    <tr>\n",
       "      <th>1</th>\n",
       "      <td>[, , , , , , , , , , GEMDCurrentPSAChain2_8]</td>\n",
       "      <td>0.0</td>\n",
       "      <td>0.0</td>\n",
       "      <td>0.0</td>\n",
       "      <td>0.0</td>\n",
       "      <td>0.0</td>\n",
       "      <td>0.0</td>\n",
       "      <td>0.0</td>\n",
       "      <td>0.0</td>\n",
       "      <td>0.0</td>\n",
       "      <td>0.0</td>\n",
       "    </tr>\n",
       "    <tr>\n",
       "      <th>2</th>\n",
       "      <td>[, , , , , , , , , , GEMDCurrentPSAChain2_8]</td>\n",
       "      <td>0.0</td>\n",
       "      <td>0.0</td>\n",
       "      <td>0.0</td>\n",
       "      <td>0.0</td>\n",
       "      <td>0.0</td>\n",
       "      <td>0.0</td>\n",
       "      <td>0.0</td>\n",
       "      <td>0.0</td>\n",
       "      <td>0.0</td>\n",
       "      <td>0.0</td>\n",
       "    </tr>\n",
       "    <tr>\n",
       "      <th>3</th>\n",
       "      <td>[, , , , , , , , , , GEMDCurrentPSAChain2_8]</td>\n",
       "      <td>0.0</td>\n",
       "      <td>0.0</td>\n",
       "      <td>0.0</td>\n",
       "      <td>0.0</td>\n",
       "      <td>0.0</td>\n",
       "      <td>0.0</td>\n",
       "      <td>0.0</td>\n",
       "      <td>0.0</td>\n",
       "      <td>0.0</td>\n",
       "      <td>0.0</td>\n",
       "    </tr>\n",
       "    <tr>\n",
       "      <th>4</th>\n",
       "      <td>[, , , , , , , , , , GEMDCurrentPSAChain2_8]</td>\n",
       "      <td>0.0</td>\n",
       "      <td>0.0</td>\n",
       "      <td>0.0</td>\n",
       "      <td>0.0</td>\n",
       "      <td>0.0</td>\n",
       "      <td>0.0</td>\n",
       "      <td>0.0</td>\n",
       "      <td>0.0</td>\n",
       "      <td>0.0</td>\n",
       "      <td>0.0</td>\n",
       "    </tr>\n",
       "    <tr>\n",
       "      <th>...</th>\n",
       "      <th>...</th>\n",
       "      <td>...</td>\n",
       "      <td>...</td>\n",
       "      <td>...</td>\n",
       "      <td>...</td>\n",
       "      <td>...</td>\n",
       "      <td>...</td>\n",
       "      <td>...</td>\n",
       "      <td>...</td>\n",
       "      <td>...</td>\n",
       "      <td>...</td>\n",
       "      <td>...</td>\n",
       "    </tr>\n",
       "    <tr>\n",
       "      <th rowspan=\"5\" valign=\"top\">2384909</th>\n",
       "      <th>6</th>\n",
       "      <td>[, , GEMDCurrentPSAChain2_8, , , , , , , , ]</td>\n",
       "      <td>0.0</td>\n",
       "      <td>0.0</td>\n",
       "      <td>0.0</td>\n",
       "      <td>0.0</td>\n",
       "      <td>0.0</td>\n",
       "      <td>0.0</td>\n",
       "      <td>0.0</td>\n",
       "      <td>0.0</td>\n",
       "      <td>0.0</td>\n",
       "      <td>0.0</td>\n",
       "    </tr>\n",
       "    <tr>\n",
       "      <th>7</th>\n",
       "      <td>[, , GEMDCurrentPSAChain2_8, , , , , , , , ]</td>\n",
       "      <td>0.0</td>\n",
       "      <td>0.0</td>\n",
       "      <td>0.0</td>\n",
       "      <td>0.0</td>\n",
       "      <td>0.0</td>\n",
       "      <td>0.0</td>\n",
       "      <td>0.0</td>\n",
       "      <td>0.0</td>\n",
       "      <td>0.0</td>\n",
       "      <td>0.0</td>\n",
       "    </tr>\n",
       "    <tr>\n",
       "      <th>8</th>\n",
       "      <td>[, , GEMDCurrentPSAChain2_8, , , , , , , , ]</td>\n",
       "      <td>0.0</td>\n",
       "      <td>0.0</td>\n",
       "      <td>0.0</td>\n",
       "      <td>0.0</td>\n",
       "      <td>0.0</td>\n",
       "      <td>0.0</td>\n",
       "      <td>0.0</td>\n",
       "      <td>0.0</td>\n",
       "      <td>0.0</td>\n",
       "      <td>0.0</td>\n",
       "    </tr>\n",
       "    <tr>\n",
       "      <th>9</th>\n",
       "      <td>[, , GEMDCurrentPSAChain2_8, , , , , , , , ]</td>\n",
       "      <td>0.0</td>\n",
       "      <td>0.0</td>\n",
       "      <td>0.0</td>\n",
       "      <td>0.0</td>\n",
       "      <td>0.0</td>\n",
       "      <td>0.0</td>\n",
       "      <td>0.0</td>\n",
       "      <td>0.0</td>\n",
       "      <td>0.0</td>\n",
       "      <td>0.0</td>\n",
       "    </tr>\n",
       "    <tr>\n",
       "      <th>10</th>\n",
       "      <td>[, , GEMDCurrentPSAChain2_8, , , , , , , , ]</td>\n",
       "      <td>0.0</td>\n",
       "      <td>0.0</td>\n",
       "      <td>0.0</td>\n",
       "      <td>0.0</td>\n",
       "      <td>0.0</td>\n",
       "      <td>0.0</td>\n",
       "      <td>0.0</td>\n",
       "      <td>0.0</td>\n",
       "      <td>0.0</td>\n",
       "      <td>0.0</td>\n",
       "    </tr>\n",
       "  </tbody>\n",
       "</table>\n",
       "<p>26234010 rows × 11 columns</p>\n",
       "</div>"
      ],
      "text/plain": [
       "                                                       modList    A  ATime  \\\n",
       "entry   subentry                                                             \n",
       "0       0         [, , , , , , , , , , GEMDCurrentPSAChain2_8]  0.0    0.0   \n",
       "        1         [, , , , , , , , , , GEMDCurrentPSAChain2_8]  0.0    0.0   \n",
       "        2         [, , , , , , , , , , GEMDCurrentPSAChain2_8]  0.0    0.0   \n",
       "        3         [, , , , , , , , , , GEMDCurrentPSAChain2_8]  0.0    0.0   \n",
       "        4         [, , , , , , , , , , GEMDCurrentPSAChain2_8]  0.0    0.0   \n",
       "...                                                        ...  ...    ...   \n",
       "2384909 6         [, , GEMDCurrentPSAChain2_8, , , , , , , , ]  0.0    0.0   \n",
       "        7         [, , GEMDCurrentPSAChain2_8, , , , , , , , ]  0.0    0.0   \n",
       "        8         [, , GEMDCurrentPSAChain2_8, , , , , , , , ]  0.0    0.0   \n",
       "        9         [, , GEMDCurrentPSAChain2_8, , , , , , , , ]  0.0    0.0   \n",
       "        10        [, , GEMDCurrentPSAChain2_8, , , , , , , , ]  0.0    0.0   \n",
       "\n",
       "                  leftEdgeTime  rightEdgeTime  rtL  rtR  areaL  areaR  \\\n",
       "entry   subentry                                                        \n",
       "0       0                  0.0            0.0  0.0  0.0    0.0    0.0   \n",
       "        1                  0.0            0.0  0.0  0.0    0.0    0.0   \n",
       "        2                  0.0            0.0  0.0  0.0    0.0    0.0   \n",
       "        3                  0.0            0.0  0.0  0.0    0.0    0.0   \n",
       "        4                  0.0            0.0  0.0  0.0    0.0    0.0   \n",
       "...                        ...            ...  ...  ...    ...    ...   \n",
       "2384909 6                  0.0            0.0  0.0  0.0    0.0    0.0   \n",
       "        7                  0.0            0.0  0.0  0.0    0.0    0.0   \n",
       "        8                  0.0            0.0  0.0  0.0    0.0    0.0   \n",
       "        9                  0.0            0.0  0.0  0.0    0.0    0.0   \n",
       "        10                 0.0            0.0  0.0  0.0    0.0    0.0   \n",
       "\n",
       "                  middleAreaL  middleAreaR  \n",
       "entry   subentry                            \n",
       "0       0                 0.0          0.0  \n",
       "        1                 0.0          0.0  \n",
       "        2                 0.0          0.0  \n",
       "        3                 0.0          0.0  \n",
       "        4                 0.0          0.0  \n",
       "...                       ...          ...  \n",
       "2384909 6                 0.0          0.0  \n",
       "        7                 0.0          0.0  \n",
       "        8                 0.0          0.0  \n",
       "        9                 0.0          0.0  \n",
       "        10                0.0          0.0  \n",
       "\n",
       "[26234010 rows x 11 columns]"
      ]
     },
     "execution_count": 27,
     "metadata": {},
     "output_type": "execute_result"
    }
   ],
   "source": [
    "tree7"
   ]
  },
  {
   "cell_type": "code",
   "execution_count": null,
   "metadata": {},
   "outputs": [],
   "source": [
    "tree7.drop(['A','ATime','leftEdgeTime'], axis='columns', inplace=True)"
   ]
  },
  {
   "cell_type": "code",
   "execution_count": null,
   "metadata": {},
   "outputs": [],
   "source": [
    "tree7=tree7.assign(trigger=tree3.triggerNumber,isgood=tree8.isgood,energy=tree1.energy,eventType=tree1.eventType)"
   ]
  },
  {
   "cell_type": "code",
   "execution_count": null,
   "metadata": {},
   "outputs": [],
   "source": []
  },
  {
   "cell_type": "code",
   "execution_count": null,
   "metadata": {},
   "outputs": [],
   "source": []
  },
  {
   "cell_type": "code",
   "execution_count": null,
   "metadata": {},
   "outputs": [],
   "source": []
  },
  {
   "cell_type": "code",
   "execution_count": null,
   "metadata": {},
   "outputs": [],
   "source": []
  },
  {
   "cell_type": "code",
   "execution_count": null,
   "metadata": {},
   "outputs": [],
   "source": []
  },
  {
   "cell_type": "code",
   "execution_count": null,
   "metadata": {},
   "outputs": [],
   "source": []
  },
  {
   "cell_type": "code",
   "execution_count": 79,
   "metadata": {},
   "outputs": [
    {
     "ename": "MemoryError",
     "evalue": "Unable to allocate 1.37 GiB for an array with shape (7, 26234010) and data type float64",
     "output_type": "error",
     "traceback": [
      "\u001b[1;31m---------------------------------------------------------------------------\u001b[0m",
      "\u001b[1;31mMemoryError\u001b[0m                               Traceback (most recent call last)",
      "\u001b[1;32m<ipython-input-79-75b05a16b7be>\u001b[0m in \u001b[0;36m<module>\u001b[1;34m\u001b[0m\n\u001b[0;32m      5\u001b[0m                        \u001b[0mmaxAmpTime_5\u001b[0m\u001b[1;33m=\u001b[0m\u001b[0mtree5\u001b[0m\u001b[1;33m.\u001b[0m\u001b[0mmaxAmpTime\u001b[0m\u001b[1;33m,\u001b[0m \u001b[0menergy_4\u001b[0m\u001b[1;33m=\u001b[0m\u001b[0mtree4\u001b[0m\u001b[1;33m.\u001b[0m\u001b[0menergy\u001b[0m\u001b[1;33m,\u001b[0m \u001b[0mmaxAmpTime_4\u001b[0m\u001b[1;33m=\u001b[0m\u001b[0mtree4\u001b[0m\u001b[1;33m.\u001b[0m\u001b[0mmaxAmpTime\u001b[0m\u001b[1;33m,\u001b[0m\u001b[1;33m\u001b[0m\u001b[1;33m\u001b[0m\u001b[0m\n\u001b[0;32m      6\u001b[0m                        \u001b[0mtriggerNumber\u001b[0m\u001b[1;33m=\u001b[0m\u001b[0mtree3\u001b[0m\u001b[1;33m.\u001b[0m\u001b[0mtriggerNumber\u001b[0m\u001b[1;33m,\u001b[0m \u001b[0mbaseline\u001b[0m\u001b[1;33m=\u001b[0m\u001b[0mtree2\u001b[0m\u001b[1;33m.\u001b[0m\u001b[0mbaseline\u001b[0m\u001b[1;33m,\u001b[0m\u001b[1;33m\u001b[0m\u001b[1;33m\u001b[0m\u001b[0m\n\u001b[1;32m----> 7\u001b[1;33m                        energy_1=tree1.energy,eventType=tree1.eventType,channelStatus=tree1.channelStatus)\n\u001b[0m",
      "\u001b[1;32m~\\anaconda3\\lib\\site-packages\\pandas\\core\\frame.py\u001b[0m in \u001b[0;36massign\u001b[1;34m(self, **kwargs)\u001b[0m\n\u001b[0;32m   3562\u001b[0m         \u001b[0mBerkeley\u001b[0m    \u001b[1;36m25.0\u001b[0m    \u001b[1;36m77.0\u001b[0m  \u001b[1;36m298.15\u001b[0m\u001b[1;33m\u001b[0m\u001b[1;33m\u001b[0m\u001b[0m\n\u001b[0;32m   3563\u001b[0m         \"\"\"\n\u001b[1;32m-> 3564\u001b[1;33m         \u001b[0mdata\u001b[0m \u001b[1;33m=\u001b[0m \u001b[0mself\u001b[0m\u001b[1;33m.\u001b[0m\u001b[0mcopy\u001b[0m\u001b[1;33m(\u001b[0m\u001b[1;33m)\u001b[0m\u001b[1;33m\u001b[0m\u001b[1;33m\u001b[0m\u001b[0m\n\u001b[0m\u001b[0;32m   3565\u001b[0m \u001b[1;33m\u001b[0m\u001b[0m\n\u001b[0;32m   3566\u001b[0m         \u001b[1;32mfor\u001b[0m \u001b[0mk\u001b[0m\u001b[1;33m,\u001b[0m \u001b[0mv\u001b[0m \u001b[1;32min\u001b[0m \u001b[0mkwargs\u001b[0m\u001b[1;33m.\u001b[0m\u001b[0mitems\u001b[0m\u001b[1;33m(\u001b[0m\u001b[1;33m)\u001b[0m\u001b[1;33m:\u001b[0m\u001b[1;33m\u001b[0m\u001b[1;33m\u001b[0m\u001b[0m\n",
      "\u001b[1;32m~\\anaconda3\\lib\\site-packages\\pandas\\core\\generic.py\u001b[0m in \u001b[0;36mcopy\u001b[1;34m(self, deep)\u001b[0m\n\u001b[0;32m   5809\u001b[0m         \u001b[0mdtype\u001b[0m\u001b[1;33m:\u001b[0m \u001b[0mobject\u001b[0m\u001b[1;33m\u001b[0m\u001b[1;33m\u001b[0m\u001b[0m\n\u001b[0;32m   5810\u001b[0m         \"\"\"\n\u001b[1;32m-> 5811\u001b[1;33m         \u001b[0mdata\u001b[0m \u001b[1;33m=\u001b[0m \u001b[0mself\u001b[0m\u001b[1;33m.\u001b[0m\u001b[0m_data\u001b[0m\u001b[1;33m.\u001b[0m\u001b[0mcopy\u001b[0m\u001b[1;33m(\u001b[0m\u001b[0mdeep\u001b[0m\u001b[1;33m=\u001b[0m\u001b[0mdeep\u001b[0m\u001b[1;33m)\u001b[0m\u001b[1;33m\u001b[0m\u001b[1;33m\u001b[0m\u001b[0m\n\u001b[0m\u001b[0;32m   5812\u001b[0m         \u001b[1;32mreturn\u001b[0m \u001b[0mself\u001b[0m\u001b[1;33m.\u001b[0m\u001b[0m_constructor\u001b[0m\u001b[1;33m(\u001b[0m\u001b[0mdata\u001b[0m\u001b[1;33m)\u001b[0m\u001b[1;33m.\u001b[0m\u001b[0m__finalize__\u001b[0m\u001b[1;33m(\u001b[0m\u001b[0mself\u001b[0m\u001b[1;33m)\u001b[0m\u001b[1;33m\u001b[0m\u001b[1;33m\u001b[0m\u001b[0m\n\u001b[0;32m   5813\u001b[0m \u001b[1;33m\u001b[0m\u001b[0m\n",
      "\u001b[1;32m~\\anaconda3\\lib\\site-packages\\pandas\\core\\internals\\managers.py\u001b[0m in \u001b[0;36mcopy\u001b[1;34m(self, deep)\u001b[0m\n\u001b[0;32m    792\u001b[0m             \u001b[0mnew_axes\u001b[0m \u001b[1;33m=\u001b[0m \u001b[0mlist\u001b[0m\u001b[1;33m(\u001b[0m\u001b[0mself\u001b[0m\u001b[1;33m.\u001b[0m\u001b[0maxes\u001b[0m\u001b[1;33m)\u001b[0m\u001b[1;33m\u001b[0m\u001b[1;33m\u001b[0m\u001b[0m\n\u001b[0;32m    793\u001b[0m \u001b[1;33m\u001b[0m\u001b[0m\n\u001b[1;32m--> 794\u001b[1;33m         \u001b[0mres\u001b[0m \u001b[1;33m=\u001b[0m \u001b[0mself\u001b[0m\u001b[1;33m.\u001b[0m\u001b[0mapply\u001b[0m\u001b[1;33m(\u001b[0m\u001b[1;34m\"copy\"\u001b[0m\u001b[1;33m,\u001b[0m \u001b[0mdeep\u001b[0m\u001b[1;33m=\u001b[0m\u001b[0mdeep\u001b[0m\u001b[1;33m)\u001b[0m\u001b[1;33m\u001b[0m\u001b[1;33m\u001b[0m\u001b[0m\n\u001b[0m\u001b[0;32m    795\u001b[0m         \u001b[0mres\u001b[0m\u001b[1;33m.\u001b[0m\u001b[0maxes\u001b[0m \u001b[1;33m=\u001b[0m \u001b[0mnew_axes\u001b[0m\u001b[1;33m\u001b[0m\u001b[1;33m\u001b[0m\u001b[0m\n\u001b[0;32m    796\u001b[0m         \u001b[1;32mreturn\u001b[0m \u001b[0mres\u001b[0m\u001b[1;33m\u001b[0m\u001b[1;33m\u001b[0m\u001b[0m\n",
      "\u001b[1;32m~\\anaconda3\\lib\\site-packages\\pandas\\core\\internals\\managers.py\u001b[0m in \u001b[0;36mapply\u001b[1;34m(self, f, filter, **kwargs)\u001b[0m\n\u001b[0;32m    440\u001b[0m                 \u001b[0mapplied\u001b[0m \u001b[1;33m=\u001b[0m \u001b[0mb\u001b[0m\u001b[1;33m.\u001b[0m\u001b[0mapply\u001b[0m\u001b[1;33m(\u001b[0m\u001b[0mf\u001b[0m\u001b[1;33m,\u001b[0m \u001b[1;33m**\u001b[0m\u001b[0mkwargs\u001b[0m\u001b[1;33m)\u001b[0m\u001b[1;33m\u001b[0m\u001b[1;33m\u001b[0m\u001b[0m\n\u001b[0;32m    441\u001b[0m             \u001b[1;32melse\u001b[0m\u001b[1;33m:\u001b[0m\u001b[1;33m\u001b[0m\u001b[1;33m\u001b[0m\u001b[0m\n\u001b[1;32m--> 442\u001b[1;33m                 \u001b[0mapplied\u001b[0m \u001b[1;33m=\u001b[0m \u001b[0mgetattr\u001b[0m\u001b[1;33m(\u001b[0m\u001b[0mb\u001b[0m\u001b[1;33m,\u001b[0m \u001b[0mf\u001b[0m\u001b[1;33m)\u001b[0m\u001b[1;33m(\u001b[0m\u001b[1;33m**\u001b[0m\u001b[0mkwargs\u001b[0m\u001b[1;33m)\u001b[0m\u001b[1;33m\u001b[0m\u001b[1;33m\u001b[0m\u001b[0m\n\u001b[0m\u001b[0;32m    443\u001b[0m             \u001b[0mresult_blocks\u001b[0m \u001b[1;33m=\u001b[0m \u001b[0m_extend_blocks\u001b[0m\u001b[1;33m(\u001b[0m\u001b[0mapplied\u001b[0m\u001b[1;33m,\u001b[0m \u001b[0mresult_blocks\u001b[0m\u001b[1;33m)\u001b[0m\u001b[1;33m\u001b[0m\u001b[1;33m\u001b[0m\u001b[0m\n\u001b[0;32m    444\u001b[0m \u001b[1;33m\u001b[0m\u001b[0m\n",
      "\u001b[1;32m~\\anaconda3\\lib\\site-packages\\pandas\\core\\internals\\blocks.py\u001b[0m in \u001b[0;36mcopy\u001b[1;34m(self, deep)\u001b[0m\n\u001b[0;32m    696\u001b[0m         \u001b[0mvalues\u001b[0m \u001b[1;33m=\u001b[0m \u001b[0mself\u001b[0m\u001b[1;33m.\u001b[0m\u001b[0mvalues\u001b[0m\u001b[1;33m\u001b[0m\u001b[1;33m\u001b[0m\u001b[0m\n\u001b[0;32m    697\u001b[0m         \u001b[1;32mif\u001b[0m \u001b[0mdeep\u001b[0m\u001b[1;33m:\u001b[0m\u001b[1;33m\u001b[0m\u001b[1;33m\u001b[0m\u001b[0m\n\u001b[1;32m--> 698\u001b[1;33m             \u001b[0mvalues\u001b[0m \u001b[1;33m=\u001b[0m \u001b[0mvalues\u001b[0m\u001b[1;33m.\u001b[0m\u001b[0mcopy\u001b[0m\u001b[1;33m(\u001b[0m\u001b[1;33m)\u001b[0m\u001b[1;33m\u001b[0m\u001b[1;33m\u001b[0m\u001b[0m\n\u001b[0m\u001b[0;32m    699\u001b[0m         \u001b[1;32mreturn\u001b[0m \u001b[0mself\u001b[0m\u001b[1;33m.\u001b[0m\u001b[0mmake_block_same_class\u001b[0m\u001b[1;33m(\u001b[0m\u001b[0mvalues\u001b[0m\u001b[1;33m,\u001b[0m \u001b[0mndim\u001b[0m\u001b[1;33m=\u001b[0m\u001b[0mself\u001b[0m\u001b[1;33m.\u001b[0m\u001b[0mndim\u001b[0m\u001b[1;33m)\u001b[0m\u001b[1;33m\u001b[0m\u001b[1;33m\u001b[0m\u001b[0m\n\u001b[0;32m    700\u001b[0m \u001b[1;33m\u001b[0m\u001b[0m\n",
      "\u001b[1;31mMemoryError\u001b[0m: Unable to allocate 1.37 GiB for an array with shape (7, 26234010) and data type float64"
     ]
    }
   ],
   "source": [
    "tree_final=tree7.assign(isgood=tree8.isgood, maxAmpAverage_6=tree6.maxAmpAverage, maxAmpTime_6=tree6.maxAmpTime, \n",
    "                        lowEdgeTime_6=tree6.lowEdgeTime,lowEdgeAmp_6=tree6.lowEdgeAmp, \n",
    "                        highEdgeTime_6=tree6.highEdgeTime, highEdgeAmp_6=tree6.highEdgeAmp, \n",
    "                        maxAmpAverage_5=tree5.maxAmpAverage, lowEdgeAmp_5=tree5.lowEdgeAmp,\n",
    "                       maxAmpTime_5=tree5.maxAmpTime, energy_4=tree4.energy, maxAmpTime_4=tree4.maxAmpTime,\n",
    "                       triggerNumber=tree3.triggerNumber, baseline=tree2.baseline, \n",
    "                       energy_1=tree1.energy,eventType=tree1.eventType,channelStatus=tree1.channelStatus)"
   ]
  },
  {
   "cell_type": "code",
   "execution_count": 78,
   "metadata": {},
   "outputs": [
    {
     "ename": "MemoryError",
     "evalue": "Unable to allocate 1.56 GiB for an array with shape (8, 26234010) and data type float64",
     "output_type": "error",
     "traceback": [
      "\u001b[1;31m---------------------------------------------------------------------------\u001b[0m",
      "\u001b[1;31mMemoryError\u001b[0m                               Traceback (most recent call last)",
      "\u001b[1;32m~\\anaconda3\\lib\\site-packages\\IPython\\core\\formatters.py\u001b[0m in \u001b[0;36m__call__\u001b[1;34m(self, obj)\u001b[0m\n\u001b[0;32m    700\u001b[0m                 \u001b[0mtype_pprinters\u001b[0m\u001b[1;33m=\u001b[0m\u001b[0mself\u001b[0m\u001b[1;33m.\u001b[0m\u001b[0mtype_printers\u001b[0m\u001b[1;33m,\u001b[0m\u001b[1;33m\u001b[0m\u001b[1;33m\u001b[0m\u001b[0m\n\u001b[0;32m    701\u001b[0m                 deferred_pprinters=self.deferred_printers)\n\u001b[1;32m--> 702\u001b[1;33m             \u001b[0mprinter\u001b[0m\u001b[1;33m.\u001b[0m\u001b[0mpretty\u001b[0m\u001b[1;33m(\u001b[0m\u001b[0mobj\u001b[0m\u001b[1;33m)\u001b[0m\u001b[1;33m\u001b[0m\u001b[1;33m\u001b[0m\u001b[0m\n\u001b[0m\u001b[0;32m    703\u001b[0m             \u001b[0mprinter\u001b[0m\u001b[1;33m.\u001b[0m\u001b[0mflush\u001b[0m\u001b[1;33m(\u001b[0m\u001b[1;33m)\u001b[0m\u001b[1;33m\u001b[0m\u001b[1;33m\u001b[0m\u001b[0m\n\u001b[0;32m    704\u001b[0m             \u001b[1;32mreturn\u001b[0m \u001b[0mstream\u001b[0m\u001b[1;33m.\u001b[0m\u001b[0mgetvalue\u001b[0m\u001b[1;33m(\u001b[0m\u001b[1;33m)\u001b[0m\u001b[1;33m\u001b[0m\u001b[1;33m\u001b[0m\u001b[0m\n",
      "\u001b[1;32m~\\anaconda3\\lib\\site-packages\\IPython\\lib\\pretty.py\u001b[0m in \u001b[0;36mpretty\u001b[1;34m(self, obj)\u001b[0m\n\u001b[0;32m    403\u001b[0m                         \u001b[1;32mif\u001b[0m \u001b[0mcls\u001b[0m \u001b[1;32mis\u001b[0m \u001b[1;32mnot\u001b[0m \u001b[0mobject\u001b[0m\u001b[0;31m \u001b[0m\u001b[0;31m\\\u001b[0m\u001b[1;33m\u001b[0m\u001b[1;33m\u001b[0m\u001b[0m\n\u001b[0;32m    404\u001b[0m                                 \u001b[1;32mand\u001b[0m \u001b[0mcallable\u001b[0m\u001b[1;33m(\u001b[0m\u001b[0mcls\u001b[0m\u001b[1;33m.\u001b[0m\u001b[0m__dict__\u001b[0m\u001b[1;33m.\u001b[0m\u001b[0mget\u001b[0m\u001b[1;33m(\u001b[0m\u001b[1;34m'__repr__'\u001b[0m\u001b[1;33m)\u001b[0m\u001b[1;33m)\u001b[0m\u001b[1;33m:\u001b[0m\u001b[1;33m\u001b[0m\u001b[1;33m\u001b[0m\u001b[0m\n\u001b[1;32m--> 405\u001b[1;33m                             \u001b[1;32mreturn\u001b[0m \u001b[0m_repr_pprint\u001b[0m\u001b[1;33m(\u001b[0m\u001b[0mobj\u001b[0m\u001b[1;33m,\u001b[0m \u001b[0mself\u001b[0m\u001b[1;33m,\u001b[0m \u001b[0mcycle\u001b[0m\u001b[1;33m)\u001b[0m\u001b[1;33m\u001b[0m\u001b[1;33m\u001b[0m\u001b[0m\n\u001b[0m\u001b[0;32m    406\u001b[0m \u001b[1;33m\u001b[0m\u001b[0m\n\u001b[0;32m    407\u001b[0m             \u001b[1;32mreturn\u001b[0m \u001b[0m_default_pprint\u001b[0m\u001b[1;33m(\u001b[0m\u001b[0mobj\u001b[0m\u001b[1;33m,\u001b[0m \u001b[0mself\u001b[0m\u001b[1;33m,\u001b[0m \u001b[0mcycle\u001b[0m\u001b[1;33m)\u001b[0m\u001b[1;33m\u001b[0m\u001b[1;33m\u001b[0m\u001b[0m\n",
      "\u001b[1;32m~\\anaconda3\\lib\\site-packages\\IPython\\lib\\pretty.py\u001b[0m in \u001b[0;36m_repr_pprint\u001b[1;34m(obj, p, cycle)\u001b[0m\n\u001b[0;32m    693\u001b[0m     \u001b[1;34m\"\"\"A pprint that just redirects to the normal repr function.\"\"\"\u001b[0m\u001b[1;33m\u001b[0m\u001b[1;33m\u001b[0m\u001b[0m\n\u001b[0;32m    694\u001b[0m     \u001b[1;31m# Find newlines and replace them with p.break_()\u001b[0m\u001b[1;33m\u001b[0m\u001b[1;33m\u001b[0m\u001b[1;33m\u001b[0m\u001b[0m\n\u001b[1;32m--> 695\u001b[1;33m     \u001b[0moutput\u001b[0m \u001b[1;33m=\u001b[0m \u001b[0mrepr\u001b[0m\u001b[1;33m(\u001b[0m\u001b[0mobj\u001b[0m\u001b[1;33m)\u001b[0m\u001b[1;33m\u001b[0m\u001b[1;33m\u001b[0m\u001b[0m\n\u001b[0m\u001b[0;32m    696\u001b[0m     \u001b[0mlines\u001b[0m \u001b[1;33m=\u001b[0m \u001b[0moutput\u001b[0m\u001b[1;33m.\u001b[0m\u001b[0msplitlines\u001b[0m\u001b[1;33m(\u001b[0m\u001b[1;33m)\u001b[0m\u001b[1;33m\u001b[0m\u001b[1;33m\u001b[0m\u001b[0m\n\u001b[0;32m    697\u001b[0m     \u001b[1;32mwith\u001b[0m \u001b[0mp\u001b[0m\u001b[1;33m.\u001b[0m\u001b[0mgroup\u001b[0m\u001b[1;33m(\u001b[0m\u001b[1;33m)\u001b[0m\u001b[1;33m:\u001b[0m\u001b[1;33m\u001b[0m\u001b[1;33m\u001b[0m\u001b[0m\n",
      "\u001b[1;32m~\\anaconda3\\lib\\site-packages\\pandas\\core\\frame.py\u001b[0m in \u001b[0;36m__repr__\u001b[1;34m(self)\u001b[0m\n\u001b[0;32m    685\u001b[0m             \u001b[0mline_width\u001b[0m\u001b[1;33m=\u001b[0m\u001b[0mwidth\u001b[0m\u001b[1;33m,\u001b[0m\u001b[1;33m\u001b[0m\u001b[1;33m\u001b[0m\u001b[0m\n\u001b[0;32m    686\u001b[0m             \u001b[0mmax_colwidth\u001b[0m\u001b[1;33m=\u001b[0m\u001b[0mmax_colwidth\u001b[0m\u001b[1;33m,\u001b[0m\u001b[1;33m\u001b[0m\u001b[1;33m\u001b[0m\u001b[0m\n\u001b[1;32m--> 687\u001b[1;33m             \u001b[0mshow_dimensions\u001b[0m\u001b[1;33m=\u001b[0m\u001b[0mshow_dimensions\u001b[0m\u001b[1;33m,\u001b[0m\u001b[1;33m\u001b[0m\u001b[1;33m\u001b[0m\u001b[0m\n\u001b[0m\u001b[0;32m    688\u001b[0m         )\n\u001b[0;32m    689\u001b[0m \u001b[1;33m\u001b[0m\u001b[0m\n",
      "\u001b[1;32m~\\anaconda3\\lib\\site-packages\\pandas\\core\\frame.py\u001b[0m in \u001b[0;36mto_string\u001b[1;34m(self, buf, columns, col_space, header, index, na_rep, formatters, float_format, sparsify, index_names, justify, max_rows, min_rows, max_cols, show_dimensions, decimal, line_width, max_colwidth, encoding)\u001b[0m\n\u001b[0;32m    816\u001b[0m                 \u001b[0mshow_dimensions\u001b[0m\u001b[1;33m=\u001b[0m\u001b[0mshow_dimensions\u001b[0m\u001b[1;33m,\u001b[0m\u001b[1;33m\u001b[0m\u001b[1;33m\u001b[0m\u001b[0m\n\u001b[0;32m    817\u001b[0m                 \u001b[0mdecimal\u001b[0m\u001b[1;33m=\u001b[0m\u001b[0mdecimal\u001b[0m\u001b[1;33m,\u001b[0m\u001b[1;33m\u001b[0m\u001b[1;33m\u001b[0m\u001b[0m\n\u001b[1;32m--> 818\u001b[1;33m                 \u001b[0mline_width\u001b[0m\u001b[1;33m=\u001b[0m\u001b[0mline_width\u001b[0m\u001b[1;33m,\u001b[0m\u001b[1;33m\u001b[0m\u001b[1;33m\u001b[0m\u001b[0m\n\u001b[0m\u001b[0;32m    819\u001b[0m             )\n\u001b[0;32m    820\u001b[0m             \u001b[1;32mreturn\u001b[0m \u001b[0mformatter\u001b[0m\u001b[1;33m.\u001b[0m\u001b[0mto_string\u001b[0m\u001b[1;33m(\u001b[0m\u001b[0mbuf\u001b[0m\u001b[1;33m=\u001b[0m\u001b[0mbuf\u001b[0m\u001b[1;33m,\u001b[0m \u001b[0mencoding\u001b[0m\u001b[1;33m=\u001b[0m\u001b[0mencoding\u001b[0m\u001b[1;33m)\u001b[0m\u001b[1;33m\u001b[0m\u001b[1;33m\u001b[0m\u001b[0m\n",
      "\u001b[1;32m~\\anaconda3\\lib\\site-packages\\pandas\\io\\formats\\format.py\u001b[0m in \u001b[0;36m__init__\u001b[1;34m(self, frame, columns, col_space, header, index, na_rep, formatters, justify, float_format, sparsify, index_names, line_width, max_rows, min_rows, max_cols, show_dimensions, decimal, table_id, render_links, bold_rows, escape)\u001b[0m\n\u001b[0;32m    612\u001b[0m             \u001b[0mself\u001b[0m\u001b[1;33m.\u001b[0m\u001b[0mcolumns\u001b[0m \u001b[1;33m=\u001b[0m \u001b[0mframe\u001b[0m\u001b[1;33m.\u001b[0m\u001b[0mcolumns\u001b[0m\u001b[1;33m\u001b[0m\u001b[1;33m\u001b[0m\u001b[0m\n\u001b[0;32m    613\u001b[0m \u001b[1;33m\u001b[0m\u001b[0m\n\u001b[1;32m--> 614\u001b[1;33m         \u001b[0mself\u001b[0m\u001b[1;33m.\u001b[0m\u001b[0m_chk_truncate\u001b[0m\u001b[1;33m(\u001b[0m\u001b[1;33m)\u001b[0m\u001b[1;33m\u001b[0m\u001b[1;33m\u001b[0m\u001b[0m\n\u001b[0m\u001b[0;32m    615\u001b[0m         \u001b[0mself\u001b[0m\u001b[1;33m.\u001b[0m\u001b[0madj\u001b[0m \u001b[1;33m=\u001b[0m \u001b[0m_get_adjustment\u001b[0m\u001b[1;33m(\u001b[0m\u001b[1;33m)\u001b[0m\u001b[1;33m\u001b[0m\u001b[1;33m\u001b[0m\u001b[0m\n\u001b[0;32m    616\u001b[0m \u001b[1;33m\u001b[0m\u001b[0m\n",
      "\u001b[1;32m~\\anaconda3\\lib\\site-packages\\pandas\\io\\formats\\format.py\u001b[0m in \u001b[0;36m_chk_truncate\u001b[1;34m(self)\u001b[0m\n\u001b[0;32m    680\u001b[0m                 \u001b[0mcol_num\u001b[0m \u001b[1;33m=\u001b[0m \u001b[0mmax_cols_adj\u001b[0m \u001b[1;33m//\u001b[0m \u001b[1;36m2\u001b[0m\u001b[1;33m\u001b[0m\u001b[1;33m\u001b[0m\u001b[0m\n\u001b[0;32m    681\u001b[0m                 frame = concat(\n\u001b[1;32m--> 682\u001b[1;33m                     \u001b[1;33m(\u001b[0m\u001b[0mframe\u001b[0m\u001b[1;33m.\u001b[0m\u001b[0miloc\u001b[0m\u001b[1;33m[\u001b[0m\u001b[1;33m:\u001b[0m\u001b[1;33m,\u001b[0m \u001b[1;33m:\u001b[0m\u001b[0mcol_num\u001b[0m\u001b[1;33m]\u001b[0m\u001b[1;33m,\u001b[0m \u001b[0mframe\u001b[0m\u001b[1;33m.\u001b[0m\u001b[0miloc\u001b[0m\u001b[1;33m[\u001b[0m\u001b[1;33m:\u001b[0m\u001b[1;33m,\u001b[0m \u001b[1;33m-\u001b[0m\u001b[0mcol_num\u001b[0m\u001b[1;33m:\u001b[0m\u001b[1;33m]\u001b[0m\u001b[1;33m)\u001b[0m\u001b[1;33m,\u001b[0m \u001b[0maxis\u001b[0m\u001b[1;33m=\u001b[0m\u001b[1;36m1\u001b[0m\u001b[1;33m\u001b[0m\u001b[1;33m\u001b[0m\u001b[0m\n\u001b[0m\u001b[0;32m    683\u001b[0m                 )\n\u001b[0;32m    684\u001b[0m                 \u001b[1;31m# truncate formatter\u001b[0m\u001b[1;33m\u001b[0m\u001b[1;33m\u001b[0m\u001b[1;33m\u001b[0m\u001b[0m\n",
      "\u001b[1;32m~\\anaconda3\\lib\\site-packages\\pandas\\core\\indexing.py\u001b[0m in \u001b[0;36m__getitem__\u001b[1;34m(self, key)\u001b[0m\n\u001b[0;32m   1759\u001b[0m                 \u001b[1;32mexcept\u001b[0m \u001b[1;33m(\u001b[0m\u001b[0mKeyError\u001b[0m\u001b[1;33m,\u001b[0m \u001b[0mIndexError\u001b[0m\u001b[1;33m,\u001b[0m \u001b[0mAttributeError\u001b[0m\u001b[1;33m)\u001b[0m\u001b[1;33m:\u001b[0m\u001b[1;33m\u001b[0m\u001b[1;33m\u001b[0m\u001b[0m\n\u001b[0;32m   1760\u001b[0m                     \u001b[1;32mpass\u001b[0m\u001b[1;33m\u001b[0m\u001b[1;33m\u001b[0m\u001b[0m\n\u001b[1;32m-> 1761\u001b[1;33m             \u001b[1;32mreturn\u001b[0m \u001b[0mself\u001b[0m\u001b[1;33m.\u001b[0m\u001b[0m_getitem_tuple\u001b[0m\u001b[1;33m(\u001b[0m\u001b[0mkey\u001b[0m\u001b[1;33m)\u001b[0m\u001b[1;33m\u001b[0m\u001b[1;33m\u001b[0m\u001b[0m\n\u001b[0m\u001b[0;32m   1762\u001b[0m         \u001b[1;32melse\u001b[0m\u001b[1;33m:\u001b[0m\u001b[1;33m\u001b[0m\u001b[1;33m\u001b[0m\u001b[0m\n\u001b[0;32m   1763\u001b[0m             \u001b[1;31m# we by definition only have the 0th axis\u001b[0m\u001b[1;33m\u001b[0m\u001b[1;33m\u001b[0m\u001b[1;33m\u001b[0m\u001b[0m\n",
      "\u001b[1;32m~\\anaconda3\\lib\\site-packages\\pandas\\core\\indexing.py\u001b[0m in \u001b[0;36m_getitem_tuple\u001b[1;34m(self, tup)\u001b[0m\n\u001b[0;32m   2066\u001b[0m         \u001b[0mself\u001b[0m\u001b[1;33m.\u001b[0m\u001b[0m_has_valid_tuple\u001b[0m\u001b[1;33m(\u001b[0m\u001b[0mtup\u001b[0m\u001b[1;33m)\u001b[0m\u001b[1;33m\u001b[0m\u001b[1;33m\u001b[0m\u001b[0m\n\u001b[0;32m   2067\u001b[0m         \u001b[1;32mtry\u001b[0m\u001b[1;33m:\u001b[0m\u001b[1;33m\u001b[0m\u001b[1;33m\u001b[0m\u001b[0m\n\u001b[1;32m-> 2068\u001b[1;33m             \u001b[1;32mreturn\u001b[0m \u001b[0mself\u001b[0m\u001b[1;33m.\u001b[0m\u001b[0m_getitem_lowerdim\u001b[0m\u001b[1;33m(\u001b[0m\u001b[0mtup\u001b[0m\u001b[1;33m)\u001b[0m\u001b[1;33m\u001b[0m\u001b[1;33m\u001b[0m\u001b[0m\n\u001b[0m\u001b[0;32m   2069\u001b[0m         \u001b[1;32mexcept\u001b[0m \u001b[0mIndexingError\u001b[0m\u001b[1;33m:\u001b[0m\u001b[1;33m\u001b[0m\u001b[1;33m\u001b[0m\u001b[0m\n\u001b[0;32m   2070\u001b[0m             \u001b[1;32mpass\u001b[0m\u001b[1;33m\u001b[0m\u001b[1;33m\u001b[0m\u001b[0m\n",
      "\u001b[1;32m~\\anaconda3\\lib\\site-packages\\pandas\\core\\indexing.py\u001b[0m in \u001b[0;36m_getitem_lowerdim\u001b[1;34m(self, tup)\u001b[0m\n\u001b[0;32m   1370\u001b[0m         \u001b[1;31m# we may have a nested tuples indexer here\u001b[0m\u001b[1;33m\u001b[0m\u001b[1;33m\u001b[0m\u001b[1;33m\u001b[0m\u001b[0m\n\u001b[0;32m   1371\u001b[0m         \u001b[1;32mif\u001b[0m \u001b[0mself\u001b[0m\u001b[1;33m.\u001b[0m\u001b[0m_is_nested_tuple_indexer\u001b[0m\u001b[1;33m(\u001b[0m\u001b[0mtup\u001b[0m\u001b[1;33m)\u001b[0m\u001b[1;33m:\u001b[0m\u001b[1;33m\u001b[0m\u001b[1;33m\u001b[0m\u001b[0m\n\u001b[1;32m-> 1372\u001b[1;33m             \u001b[1;32mreturn\u001b[0m \u001b[0mself\u001b[0m\u001b[1;33m.\u001b[0m\u001b[0m_getitem_nested_tuple\u001b[0m\u001b[1;33m(\u001b[0m\u001b[0mtup\u001b[0m\u001b[1;33m)\u001b[0m\u001b[1;33m\u001b[0m\u001b[1;33m\u001b[0m\u001b[0m\n\u001b[0m\u001b[0;32m   1373\u001b[0m \u001b[1;33m\u001b[0m\u001b[0m\n\u001b[0;32m   1374\u001b[0m         \u001b[1;31m# we maybe be using a tuple to represent multiple dimensions here\u001b[0m\u001b[1;33m\u001b[0m\u001b[1;33m\u001b[0m\u001b[1;33m\u001b[0m\u001b[0m\n",
      "\u001b[1;32m~\\anaconda3\\lib\\site-packages\\pandas\\core\\indexing.py\u001b[0m in \u001b[0;36m_getitem_nested_tuple\u001b[1;34m(self, tup)\u001b[0m\n\u001b[0;32m   1450\u001b[0m \u001b[1;33m\u001b[0m\u001b[0m\n\u001b[0;32m   1451\u001b[0m             \u001b[0mcurrent_ndim\u001b[0m \u001b[1;33m=\u001b[0m \u001b[0mobj\u001b[0m\u001b[1;33m.\u001b[0m\u001b[0mndim\u001b[0m\u001b[1;33m\u001b[0m\u001b[1;33m\u001b[0m\u001b[0m\n\u001b[1;32m-> 1452\u001b[1;33m             \u001b[0mobj\u001b[0m \u001b[1;33m=\u001b[0m \u001b[0mgetattr\u001b[0m\u001b[1;33m(\u001b[0m\u001b[0mobj\u001b[0m\u001b[1;33m,\u001b[0m \u001b[0mself\u001b[0m\u001b[1;33m.\u001b[0m\u001b[0mname\u001b[0m\u001b[1;33m)\u001b[0m\u001b[1;33m.\u001b[0m\u001b[0m_getitem_axis\u001b[0m\u001b[1;33m(\u001b[0m\u001b[0mkey\u001b[0m\u001b[1;33m,\u001b[0m \u001b[0maxis\u001b[0m\u001b[1;33m=\u001b[0m\u001b[0maxis\u001b[0m\u001b[1;33m)\u001b[0m\u001b[1;33m\u001b[0m\u001b[1;33m\u001b[0m\u001b[0m\n\u001b[0m\u001b[0;32m   1453\u001b[0m             \u001b[0maxis\u001b[0m \u001b[1;33m+=\u001b[0m \u001b[1;36m1\u001b[0m\u001b[1;33m\u001b[0m\u001b[1;33m\u001b[0m\u001b[0m\n\u001b[0;32m   1454\u001b[0m \u001b[1;33m\u001b[0m\u001b[0m\n",
      "\u001b[1;32m~\\anaconda3\\lib\\site-packages\\pandas\\core\\indexing.py\u001b[0m in \u001b[0;36m_getitem_axis\u001b[1;34m(self, key, axis)\u001b[0m\n\u001b[0;32m   2115\u001b[0m     \u001b[1;32mdef\u001b[0m \u001b[0m_getitem_axis\u001b[0m\u001b[1;33m(\u001b[0m\u001b[0mself\u001b[0m\u001b[1;33m,\u001b[0m \u001b[0mkey\u001b[0m\u001b[1;33m,\u001b[0m \u001b[0maxis\u001b[0m\u001b[1;33m:\u001b[0m \u001b[0mint\u001b[0m\u001b[1;33m)\u001b[0m\u001b[1;33m:\u001b[0m\u001b[1;33m\u001b[0m\u001b[1;33m\u001b[0m\u001b[0m\n\u001b[0;32m   2116\u001b[0m         \u001b[1;32mif\u001b[0m \u001b[0misinstance\u001b[0m\u001b[1;33m(\u001b[0m\u001b[0mkey\u001b[0m\u001b[1;33m,\u001b[0m \u001b[0mslice\u001b[0m\u001b[1;33m)\u001b[0m\u001b[1;33m:\u001b[0m\u001b[1;33m\u001b[0m\u001b[1;33m\u001b[0m\u001b[0m\n\u001b[1;32m-> 2117\u001b[1;33m             \u001b[1;32mreturn\u001b[0m \u001b[0mself\u001b[0m\u001b[1;33m.\u001b[0m\u001b[0m_get_slice_axis\u001b[0m\u001b[1;33m(\u001b[0m\u001b[0mkey\u001b[0m\u001b[1;33m,\u001b[0m \u001b[0maxis\u001b[0m\u001b[1;33m=\u001b[0m\u001b[0maxis\u001b[0m\u001b[1;33m)\u001b[0m\u001b[1;33m\u001b[0m\u001b[1;33m\u001b[0m\u001b[0m\n\u001b[0m\u001b[0;32m   2118\u001b[0m \u001b[1;33m\u001b[0m\u001b[0m\n\u001b[0;32m   2119\u001b[0m         \u001b[1;32mif\u001b[0m \u001b[0misinstance\u001b[0m\u001b[1;33m(\u001b[0m\u001b[0mkey\u001b[0m\u001b[1;33m,\u001b[0m \u001b[0mlist\u001b[0m\u001b[1;33m)\u001b[0m\u001b[1;33m:\u001b[0m\u001b[1;33m\u001b[0m\u001b[1;33m\u001b[0m\u001b[0m\n",
      "\u001b[1;32m~\\anaconda3\\lib\\site-packages\\pandas\\core\\indexing.py\u001b[0m in \u001b[0;36m_get_slice_axis\u001b[1;34m(self, slice_obj, axis)\u001b[0m\n\u001b[0;32m   1747\u001b[0m \u001b[1;33m\u001b[0m\u001b[0m\n\u001b[0;32m   1748\u001b[0m         \u001b[0mindexer\u001b[0m \u001b[1;33m=\u001b[0m \u001b[0mself\u001b[0m\u001b[1;33m.\u001b[0m\u001b[0m_convert_slice_indexer\u001b[0m\u001b[1;33m(\u001b[0m\u001b[0mslice_obj\u001b[0m\u001b[1;33m,\u001b[0m \u001b[0maxis\u001b[0m\u001b[1;33m)\u001b[0m\u001b[1;33m\u001b[0m\u001b[1;33m\u001b[0m\u001b[0m\n\u001b[1;32m-> 1749\u001b[1;33m         \u001b[1;32mreturn\u001b[0m \u001b[0mself\u001b[0m\u001b[1;33m.\u001b[0m\u001b[0m_slice\u001b[0m\u001b[1;33m(\u001b[0m\u001b[0mindexer\u001b[0m\u001b[1;33m,\u001b[0m \u001b[0maxis\u001b[0m\u001b[1;33m=\u001b[0m\u001b[0maxis\u001b[0m\u001b[1;33m,\u001b[0m \u001b[0mkind\u001b[0m\u001b[1;33m=\u001b[0m\u001b[1;34m\"iloc\"\u001b[0m\u001b[1;33m)\u001b[0m\u001b[1;33m\u001b[0m\u001b[1;33m\u001b[0m\u001b[0m\n\u001b[0m\u001b[0;32m   1750\u001b[0m \u001b[1;33m\u001b[0m\u001b[0m\n\u001b[0;32m   1751\u001b[0m \u001b[1;33m\u001b[0m\u001b[0m\n",
      "\u001b[1;32m~\\anaconda3\\lib\\site-packages\\pandas\\core\\indexing.py\u001b[0m in \u001b[0;36m_slice\u001b[1;34m(self, obj, axis, kind)\u001b[0m\n\u001b[0;32m    628\u001b[0m \u001b[1;33m\u001b[0m\u001b[0m\n\u001b[0;32m    629\u001b[0m     \u001b[1;32mdef\u001b[0m \u001b[0m_slice\u001b[0m\u001b[1;33m(\u001b[0m\u001b[0mself\u001b[0m\u001b[1;33m,\u001b[0m \u001b[0mobj\u001b[0m\u001b[1;33m,\u001b[0m \u001b[0maxis\u001b[0m\u001b[1;33m:\u001b[0m \u001b[0mint\u001b[0m\u001b[1;33m,\u001b[0m \u001b[0mkind\u001b[0m\u001b[1;33m=\u001b[0m\u001b[1;32mNone\u001b[0m\u001b[1;33m)\u001b[0m\u001b[1;33m:\u001b[0m\u001b[1;33m\u001b[0m\u001b[1;33m\u001b[0m\u001b[0m\n\u001b[1;32m--> 630\u001b[1;33m         \u001b[1;32mreturn\u001b[0m \u001b[0mself\u001b[0m\u001b[1;33m.\u001b[0m\u001b[0mobj\u001b[0m\u001b[1;33m.\u001b[0m\u001b[0m_slice\u001b[0m\u001b[1;33m(\u001b[0m\u001b[0mobj\u001b[0m\u001b[1;33m,\u001b[0m \u001b[0maxis\u001b[0m\u001b[1;33m=\u001b[0m\u001b[0maxis\u001b[0m\u001b[1;33m,\u001b[0m \u001b[0mkind\u001b[0m\u001b[1;33m=\u001b[0m\u001b[0mkind\u001b[0m\u001b[1;33m)\u001b[0m\u001b[1;33m\u001b[0m\u001b[1;33m\u001b[0m\u001b[0m\n\u001b[0m\u001b[0;32m    631\u001b[0m \u001b[1;33m\u001b[0m\u001b[0m\n\u001b[0;32m    632\u001b[0m     \u001b[1;32mdef\u001b[0m \u001b[0m_get_setitem_indexer\u001b[0m\u001b[1;33m(\u001b[0m\u001b[0mself\u001b[0m\u001b[1;33m,\u001b[0m \u001b[0mkey\u001b[0m\u001b[1;33m)\u001b[0m\u001b[1;33m:\u001b[0m\u001b[1;33m\u001b[0m\u001b[1;33m\u001b[0m\u001b[0m\n",
      "\u001b[1;32m~\\anaconda3\\lib\\site-packages\\pandas\\core\\generic.py\u001b[0m in \u001b[0;36m_slice\u001b[1;34m(self, slobj, axis, kind)\u001b[0m\n\u001b[0;32m   3612\u001b[0m         \"\"\"\n\u001b[0;32m   3613\u001b[0m         \u001b[0maxis\u001b[0m \u001b[1;33m=\u001b[0m \u001b[0mself\u001b[0m\u001b[1;33m.\u001b[0m\u001b[0m_get_block_manager_axis\u001b[0m\u001b[1;33m(\u001b[0m\u001b[0maxis\u001b[0m\u001b[1;33m)\u001b[0m\u001b[1;33m\u001b[0m\u001b[1;33m\u001b[0m\u001b[0m\n\u001b[1;32m-> 3614\u001b[1;33m         \u001b[0mresult\u001b[0m \u001b[1;33m=\u001b[0m \u001b[0mself\u001b[0m\u001b[1;33m.\u001b[0m\u001b[0m_constructor\u001b[0m\u001b[1;33m(\u001b[0m\u001b[0mself\u001b[0m\u001b[1;33m.\u001b[0m\u001b[0m_data\u001b[0m\u001b[1;33m.\u001b[0m\u001b[0mget_slice\u001b[0m\u001b[1;33m(\u001b[0m\u001b[0mslobj\u001b[0m\u001b[1;33m,\u001b[0m \u001b[0maxis\u001b[0m\u001b[1;33m=\u001b[0m\u001b[0maxis\u001b[0m\u001b[1;33m)\u001b[0m\u001b[1;33m)\u001b[0m\u001b[1;33m\u001b[0m\u001b[1;33m\u001b[0m\u001b[0m\n\u001b[0m\u001b[0;32m   3615\u001b[0m         \u001b[0mresult\u001b[0m \u001b[1;33m=\u001b[0m \u001b[0mresult\u001b[0m\u001b[1;33m.\u001b[0m\u001b[0m__finalize__\u001b[0m\u001b[1;33m(\u001b[0m\u001b[0mself\u001b[0m\u001b[1;33m)\u001b[0m\u001b[1;33m\u001b[0m\u001b[1;33m\u001b[0m\u001b[0m\n\u001b[0;32m   3616\u001b[0m \u001b[1;33m\u001b[0m\u001b[0m\n",
      "\u001b[1;32m~\\anaconda3\\lib\\site-packages\\pandas\\core\\internals\\managers.py\u001b[0m in \u001b[0;36mget_slice\u001b[1;34m(self, slobj, axis)\u001b[0m\n\u001b[0;32m    754\u001b[0m \u001b[1;33m\u001b[0m\u001b[0m\n\u001b[0;32m    755\u001b[0m         \u001b[0mbm\u001b[0m \u001b[1;33m=\u001b[0m \u001b[0mtype\u001b[0m\u001b[1;33m(\u001b[0m\u001b[0mself\u001b[0m\u001b[1;33m)\u001b[0m\u001b[1;33m(\u001b[0m\u001b[0mnew_blocks\u001b[0m\u001b[1;33m,\u001b[0m \u001b[0mnew_axes\u001b[0m\u001b[1;33m,\u001b[0m \u001b[0mdo_integrity_check\u001b[0m\u001b[1;33m=\u001b[0m\u001b[1;32mFalse\u001b[0m\u001b[1;33m)\u001b[0m\u001b[1;33m\u001b[0m\u001b[1;33m\u001b[0m\u001b[0m\n\u001b[1;32m--> 756\u001b[1;33m         \u001b[0mbm\u001b[0m\u001b[1;33m.\u001b[0m\u001b[0m_consolidate_inplace\u001b[0m\u001b[1;33m(\u001b[0m\u001b[1;33m)\u001b[0m\u001b[1;33m\u001b[0m\u001b[1;33m\u001b[0m\u001b[0m\n\u001b[0m\u001b[0;32m    757\u001b[0m         \u001b[1;32mreturn\u001b[0m \u001b[0mbm\u001b[0m\u001b[1;33m\u001b[0m\u001b[1;33m\u001b[0m\u001b[0m\n\u001b[0;32m    758\u001b[0m \u001b[1;33m\u001b[0m\u001b[0m\n",
      "\u001b[1;32m~\\anaconda3\\lib\\site-packages\\pandas\\core\\internals\\managers.py\u001b[0m in \u001b[0;36m_consolidate_inplace\u001b[1;34m(self)\u001b[0m\n\u001b[0;32m    943\u001b[0m     \u001b[1;32mdef\u001b[0m \u001b[0m_consolidate_inplace\u001b[0m\u001b[1;33m(\u001b[0m\u001b[0mself\u001b[0m\u001b[1;33m)\u001b[0m\u001b[1;33m:\u001b[0m\u001b[1;33m\u001b[0m\u001b[1;33m\u001b[0m\u001b[0m\n\u001b[0;32m    944\u001b[0m         \u001b[1;32mif\u001b[0m \u001b[1;32mnot\u001b[0m \u001b[0mself\u001b[0m\u001b[1;33m.\u001b[0m\u001b[0mis_consolidated\u001b[0m\u001b[1;33m(\u001b[0m\u001b[1;33m)\u001b[0m\u001b[1;33m:\u001b[0m\u001b[1;33m\u001b[0m\u001b[1;33m\u001b[0m\u001b[0m\n\u001b[1;32m--> 945\u001b[1;33m             \u001b[0mself\u001b[0m\u001b[1;33m.\u001b[0m\u001b[0mblocks\u001b[0m \u001b[1;33m=\u001b[0m \u001b[0mtuple\u001b[0m\u001b[1;33m(\u001b[0m\u001b[0m_consolidate\u001b[0m\u001b[1;33m(\u001b[0m\u001b[0mself\u001b[0m\u001b[1;33m.\u001b[0m\u001b[0mblocks\u001b[0m\u001b[1;33m)\u001b[0m\u001b[1;33m)\u001b[0m\u001b[1;33m\u001b[0m\u001b[1;33m\u001b[0m\u001b[0m\n\u001b[0m\u001b[0;32m    946\u001b[0m             \u001b[0mself\u001b[0m\u001b[1;33m.\u001b[0m\u001b[0m_is_consolidated\u001b[0m \u001b[1;33m=\u001b[0m \u001b[1;32mTrue\u001b[0m\u001b[1;33m\u001b[0m\u001b[1;33m\u001b[0m\u001b[0m\n\u001b[0;32m    947\u001b[0m             \u001b[0mself\u001b[0m\u001b[1;33m.\u001b[0m\u001b[0m_known_consolidated\u001b[0m \u001b[1;33m=\u001b[0m \u001b[1;32mTrue\u001b[0m\u001b[1;33m\u001b[0m\u001b[1;33m\u001b[0m\u001b[0m\n",
      "\u001b[1;32m~\\anaconda3\\lib\\site-packages\\pandas\\core\\internals\\managers.py\u001b[0m in \u001b[0;36m_consolidate\u001b[1;34m(blocks)\u001b[0m\n\u001b[0;32m   1885\u001b[0m     \u001b[1;32mfor\u001b[0m \u001b[1;33m(\u001b[0m\u001b[0m_can_consolidate\u001b[0m\u001b[1;33m,\u001b[0m \u001b[0mdtype\u001b[0m\u001b[1;33m)\u001b[0m\u001b[1;33m,\u001b[0m \u001b[0mgroup_blocks\u001b[0m \u001b[1;32min\u001b[0m \u001b[0mgrouper\u001b[0m\u001b[1;33m:\u001b[0m\u001b[1;33m\u001b[0m\u001b[1;33m\u001b[0m\u001b[0m\n\u001b[0;32m   1886\u001b[0m         merged_blocks = _merge_blocks(\n\u001b[1;32m-> 1887\u001b[1;33m             \u001b[0mlist\u001b[0m\u001b[1;33m(\u001b[0m\u001b[0mgroup_blocks\u001b[0m\u001b[1;33m)\u001b[0m\u001b[1;33m,\u001b[0m \u001b[0mdtype\u001b[0m\u001b[1;33m=\u001b[0m\u001b[0mdtype\u001b[0m\u001b[1;33m,\u001b[0m \u001b[0m_can_consolidate\u001b[0m\u001b[1;33m=\u001b[0m\u001b[0m_can_consolidate\u001b[0m\u001b[1;33m\u001b[0m\u001b[1;33m\u001b[0m\u001b[0m\n\u001b[0m\u001b[0;32m   1888\u001b[0m         )\n\u001b[0;32m   1889\u001b[0m         \u001b[0mnew_blocks\u001b[0m \u001b[1;33m=\u001b[0m \u001b[0m_extend_blocks\u001b[0m\u001b[1;33m(\u001b[0m\u001b[0mmerged_blocks\u001b[0m\u001b[1;33m,\u001b[0m \u001b[0mnew_blocks\u001b[0m\u001b[1;33m)\u001b[0m\u001b[1;33m\u001b[0m\u001b[1;33m\u001b[0m\u001b[0m\n",
      "\u001b[1;32m~\\anaconda3\\lib\\site-packages\\pandas\\core\\internals\\blocks.py\u001b[0m in \u001b[0;36m_merge_blocks\u001b[1;34m(blocks, dtype, _can_consolidate)\u001b[0m\n\u001b[0;32m   3094\u001b[0m \u001b[1;33m\u001b[0m\u001b[0m\n\u001b[0;32m   3095\u001b[0m         \u001b[0margsort\u001b[0m \u001b[1;33m=\u001b[0m \u001b[0mnp\u001b[0m\u001b[1;33m.\u001b[0m\u001b[0margsort\u001b[0m\u001b[1;33m(\u001b[0m\u001b[0mnew_mgr_locs\u001b[0m\u001b[1;33m)\u001b[0m\u001b[1;33m\u001b[0m\u001b[1;33m\u001b[0m\u001b[0m\n\u001b[1;32m-> 3096\u001b[1;33m         \u001b[0mnew_values\u001b[0m \u001b[1;33m=\u001b[0m \u001b[0mnew_values\u001b[0m\u001b[1;33m[\u001b[0m\u001b[0margsort\u001b[0m\u001b[1;33m]\u001b[0m\u001b[1;33m\u001b[0m\u001b[1;33m\u001b[0m\u001b[0m\n\u001b[0m\u001b[0;32m   3097\u001b[0m         \u001b[0mnew_mgr_locs\u001b[0m \u001b[1;33m=\u001b[0m \u001b[0mnew_mgr_locs\u001b[0m\u001b[1;33m[\u001b[0m\u001b[0margsort\u001b[0m\u001b[1;33m]\u001b[0m\u001b[1;33m\u001b[0m\u001b[1;33m\u001b[0m\u001b[0m\n\u001b[0;32m   3098\u001b[0m \u001b[1;33m\u001b[0m\u001b[0m\n",
      "\u001b[1;31mMemoryError\u001b[0m: Unable to allocate 1.56 GiB for an array with shape (8, 26234010) and data type float64"
     ]
    },
    {
     "ename": "MemoryError",
     "evalue": "Unable to allocate 1.37 GiB for an array with shape (7, 26234010) and data type float64",
     "output_type": "error",
     "traceback": [
      "\u001b[1;31m---------------------------------------------------------------------------\u001b[0m",
      "\u001b[1;31mMemoryError\u001b[0m                               Traceback (most recent call last)",
      "\u001b[1;32m~\\anaconda3\\lib\\site-packages\\IPython\\core\\formatters.py\u001b[0m in \u001b[0;36m__call__\u001b[1;34m(self, obj)\u001b[0m\n\u001b[0;32m    343\u001b[0m             \u001b[0mmethod\u001b[0m \u001b[1;33m=\u001b[0m \u001b[0mget_real_method\u001b[0m\u001b[1;33m(\u001b[0m\u001b[0mobj\u001b[0m\u001b[1;33m,\u001b[0m \u001b[0mself\u001b[0m\u001b[1;33m.\u001b[0m\u001b[0mprint_method\u001b[0m\u001b[1;33m)\u001b[0m\u001b[1;33m\u001b[0m\u001b[1;33m\u001b[0m\u001b[0m\n\u001b[0;32m    344\u001b[0m             \u001b[1;32mif\u001b[0m \u001b[0mmethod\u001b[0m \u001b[1;32mis\u001b[0m \u001b[1;32mnot\u001b[0m \u001b[1;32mNone\u001b[0m\u001b[1;33m:\u001b[0m\u001b[1;33m\u001b[0m\u001b[1;33m\u001b[0m\u001b[0m\n\u001b[1;32m--> 345\u001b[1;33m                 \u001b[1;32mreturn\u001b[0m \u001b[0mmethod\u001b[0m\u001b[1;33m(\u001b[0m\u001b[1;33m)\u001b[0m\u001b[1;33m\u001b[0m\u001b[1;33m\u001b[0m\u001b[0m\n\u001b[0m\u001b[0;32m    346\u001b[0m             \u001b[1;32mreturn\u001b[0m \u001b[1;32mNone\u001b[0m\u001b[1;33m\u001b[0m\u001b[1;33m\u001b[0m\u001b[0m\n\u001b[0;32m    347\u001b[0m         \u001b[1;32melse\u001b[0m\u001b[1;33m:\u001b[0m\u001b[1;33m\u001b[0m\u001b[1;33m\u001b[0m\u001b[0m\n",
      "\u001b[1;32m~\\anaconda3\\lib\\site-packages\\pandas\\core\\frame.py\u001b[0m in \u001b[0;36m_repr_html_\u001b[1;34m(self)\u001b[0m\n\u001b[0;32m    730\u001b[0m                 \u001b[0mdecimal\u001b[0m\u001b[1;33m=\u001b[0m\u001b[1;34m\".\"\u001b[0m\u001b[1;33m,\u001b[0m\u001b[1;33m\u001b[0m\u001b[1;33m\u001b[0m\u001b[0m\n\u001b[0;32m    731\u001b[0m                 \u001b[0mtable_id\u001b[0m\u001b[1;33m=\u001b[0m\u001b[1;32mNone\u001b[0m\u001b[1;33m,\u001b[0m\u001b[1;33m\u001b[0m\u001b[1;33m\u001b[0m\u001b[0m\n\u001b[1;32m--> 732\u001b[1;33m                 \u001b[0mrender_links\u001b[0m\u001b[1;33m=\u001b[0m\u001b[1;32mFalse\u001b[0m\u001b[1;33m,\u001b[0m\u001b[1;33m\u001b[0m\u001b[1;33m\u001b[0m\u001b[0m\n\u001b[0m\u001b[0;32m    733\u001b[0m             )\n\u001b[0;32m    734\u001b[0m             \u001b[1;32mreturn\u001b[0m \u001b[0mformatter\u001b[0m\u001b[1;33m.\u001b[0m\u001b[0mto_html\u001b[0m\u001b[1;33m(\u001b[0m\u001b[0mnotebook\u001b[0m\u001b[1;33m=\u001b[0m\u001b[1;32mTrue\u001b[0m\u001b[1;33m)\u001b[0m\u001b[1;33m\u001b[0m\u001b[1;33m\u001b[0m\u001b[0m\n",
      "\u001b[1;32m~\\anaconda3\\lib\\site-packages\\pandas\\io\\formats\\format.py\u001b[0m in \u001b[0;36m__init__\u001b[1;34m(self, frame, columns, col_space, header, index, na_rep, formatters, justify, float_format, sparsify, index_names, line_width, max_rows, min_rows, max_cols, show_dimensions, decimal, table_id, render_links, bold_rows, escape)\u001b[0m\n\u001b[0;32m    612\u001b[0m             \u001b[0mself\u001b[0m\u001b[1;33m.\u001b[0m\u001b[0mcolumns\u001b[0m \u001b[1;33m=\u001b[0m \u001b[0mframe\u001b[0m\u001b[1;33m.\u001b[0m\u001b[0mcolumns\u001b[0m\u001b[1;33m\u001b[0m\u001b[1;33m\u001b[0m\u001b[0m\n\u001b[0;32m    613\u001b[0m \u001b[1;33m\u001b[0m\u001b[0m\n\u001b[1;32m--> 614\u001b[1;33m         \u001b[0mself\u001b[0m\u001b[1;33m.\u001b[0m\u001b[0m_chk_truncate\u001b[0m\u001b[1;33m(\u001b[0m\u001b[1;33m)\u001b[0m\u001b[1;33m\u001b[0m\u001b[1;33m\u001b[0m\u001b[0m\n\u001b[0m\u001b[0;32m    615\u001b[0m         \u001b[0mself\u001b[0m\u001b[1;33m.\u001b[0m\u001b[0madj\u001b[0m \u001b[1;33m=\u001b[0m \u001b[0m_get_adjustment\u001b[0m\u001b[1;33m(\u001b[0m\u001b[1;33m)\u001b[0m\u001b[1;33m\u001b[0m\u001b[1;33m\u001b[0m\u001b[0m\n\u001b[0;32m    616\u001b[0m \u001b[1;33m\u001b[0m\u001b[0m\n",
      "\u001b[1;32m~\\anaconda3\\lib\\site-packages\\pandas\\io\\formats\\format.py\u001b[0m in \u001b[0;36m_chk_truncate\u001b[1;34m(self)\u001b[0m\n\u001b[0;32m    680\u001b[0m                 \u001b[0mcol_num\u001b[0m \u001b[1;33m=\u001b[0m \u001b[0mmax_cols_adj\u001b[0m \u001b[1;33m//\u001b[0m \u001b[1;36m2\u001b[0m\u001b[1;33m\u001b[0m\u001b[1;33m\u001b[0m\u001b[0m\n\u001b[0;32m    681\u001b[0m                 frame = concat(\n\u001b[1;32m--> 682\u001b[1;33m                     \u001b[1;33m(\u001b[0m\u001b[0mframe\u001b[0m\u001b[1;33m.\u001b[0m\u001b[0miloc\u001b[0m\u001b[1;33m[\u001b[0m\u001b[1;33m:\u001b[0m\u001b[1;33m,\u001b[0m \u001b[1;33m:\u001b[0m\u001b[0mcol_num\u001b[0m\u001b[1;33m]\u001b[0m\u001b[1;33m,\u001b[0m \u001b[0mframe\u001b[0m\u001b[1;33m.\u001b[0m\u001b[0miloc\u001b[0m\u001b[1;33m[\u001b[0m\u001b[1;33m:\u001b[0m\u001b[1;33m,\u001b[0m \u001b[1;33m-\u001b[0m\u001b[0mcol_num\u001b[0m\u001b[1;33m:\u001b[0m\u001b[1;33m]\u001b[0m\u001b[1;33m)\u001b[0m\u001b[1;33m,\u001b[0m \u001b[0maxis\u001b[0m\u001b[1;33m=\u001b[0m\u001b[1;36m1\u001b[0m\u001b[1;33m\u001b[0m\u001b[1;33m\u001b[0m\u001b[0m\n\u001b[0m\u001b[0;32m    683\u001b[0m                 )\n\u001b[0;32m    684\u001b[0m                 \u001b[1;31m# truncate formatter\u001b[0m\u001b[1;33m\u001b[0m\u001b[1;33m\u001b[0m\u001b[1;33m\u001b[0m\u001b[0m\n",
      "\u001b[1;32m~\\anaconda3\\lib\\site-packages\\pandas\\core\\indexing.py\u001b[0m in \u001b[0;36m__getitem__\u001b[1;34m(self, key)\u001b[0m\n\u001b[0;32m   1759\u001b[0m                 \u001b[1;32mexcept\u001b[0m \u001b[1;33m(\u001b[0m\u001b[0mKeyError\u001b[0m\u001b[1;33m,\u001b[0m \u001b[0mIndexError\u001b[0m\u001b[1;33m,\u001b[0m \u001b[0mAttributeError\u001b[0m\u001b[1;33m)\u001b[0m\u001b[1;33m:\u001b[0m\u001b[1;33m\u001b[0m\u001b[1;33m\u001b[0m\u001b[0m\n\u001b[0;32m   1760\u001b[0m                     \u001b[1;32mpass\u001b[0m\u001b[1;33m\u001b[0m\u001b[1;33m\u001b[0m\u001b[0m\n\u001b[1;32m-> 1761\u001b[1;33m             \u001b[1;32mreturn\u001b[0m \u001b[0mself\u001b[0m\u001b[1;33m.\u001b[0m\u001b[0m_getitem_tuple\u001b[0m\u001b[1;33m(\u001b[0m\u001b[0mkey\u001b[0m\u001b[1;33m)\u001b[0m\u001b[1;33m\u001b[0m\u001b[1;33m\u001b[0m\u001b[0m\n\u001b[0m\u001b[0;32m   1762\u001b[0m         \u001b[1;32melse\u001b[0m\u001b[1;33m:\u001b[0m\u001b[1;33m\u001b[0m\u001b[1;33m\u001b[0m\u001b[0m\n\u001b[0;32m   1763\u001b[0m             \u001b[1;31m# we by definition only have the 0th axis\u001b[0m\u001b[1;33m\u001b[0m\u001b[1;33m\u001b[0m\u001b[1;33m\u001b[0m\u001b[0m\n",
      "\u001b[1;32m~\\anaconda3\\lib\\site-packages\\pandas\\core\\indexing.py\u001b[0m in \u001b[0;36m_getitem_tuple\u001b[1;34m(self, tup)\u001b[0m\n\u001b[0;32m   2066\u001b[0m         \u001b[0mself\u001b[0m\u001b[1;33m.\u001b[0m\u001b[0m_has_valid_tuple\u001b[0m\u001b[1;33m(\u001b[0m\u001b[0mtup\u001b[0m\u001b[1;33m)\u001b[0m\u001b[1;33m\u001b[0m\u001b[1;33m\u001b[0m\u001b[0m\n\u001b[0;32m   2067\u001b[0m         \u001b[1;32mtry\u001b[0m\u001b[1;33m:\u001b[0m\u001b[1;33m\u001b[0m\u001b[1;33m\u001b[0m\u001b[0m\n\u001b[1;32m-> 2068\u001b[1;33m             \u001b[1;32mreturn\u001b[0m \u001b[0mself\u001b[0m\u001b[1;33m.\u001b[0m\u001b[0m_getitem_lowerdim\u001b[0m\u001b[1;33m(\u001b[0m\u001b[0mtup\u001b[0m\u001b[1;33m)\u001b[0m\u001b[1;33m\u001b[0m\u001b[1;33m\u001b[0m\u001b[0m\n\u001b[0m\u001b[0;32m   2069\u001b[0m         \u001b[1;32mexcept\u001b[0m \u001b[0mIndexingError\u001b[0m\u001b[1;33m:\u001b[0m\u001b[1;33m\u001b[0m\u001b[1;33m\u001b[0m\u001b[0m\n\u001b[0;32m   2070\u001b[0m             \u001b[1;32mpass\u001b[0m\u001b[1;33m\u001b[0m\u001b[1;33m\u001b[0m\u001b[0m\n",
      "\u001b[1;32m~\\anaconda3\\lib\\site-packages\\pandas\\core\\indexing.py\u001b[0m in \u001b[0;36m_getitem_lowerdim\u001b[1;34m(self, tup)\u001b[0m\n\u001b[0;32m   1370\u001b[0m         \u001b[1;31m# we may have a nested tuples indexer here\u001b[0m\u001b[1;33m\u001b[0m\u001b[1;33m\u001b[0m\u001b[1;33m\u001b[0m\u001b[0m\n\u001b[0;32m   1371\u001b[0m         \u001b[1;32mif\u001b[0m \u001b[0mself\u001b[0m\u001b[1;33m.\u001b[0m\u001b[0m_is_nested_tuple_indexer\u001b[0m\u001b[1;33m(\u001b[0m\u001b[0mtup\u001b[0m\u001b[1;33m)\u001b[0m\u001b[1;33m:\u001b[0m\u001b[1;33m\u001b[0m\u001b[1;33m\u001b[0m\u001b[0m\n\u001b[1;32m-> 1372\u001b[1;33m             \u001b[1;32mreturn\u001b[0m \u001b[0mself\u001b[0m\u001b[1;33m.\u001b[0m\u001b[0m_getitem_nested_tuple\u001b[0m\u001b[1;33m(\u001b[0m\u001b[0mtup\u001b[0m\u001b[1;33m)\u001b[0m\u001b[1;33m\u001b[0m\u001b[1;33m\u001b[0m\u001b[0m\n\u001b[0m\u001b[0;32m   1373\u001b[0m \u001b[1;33m\u001b[0m\u001b[0m\n\u001b[0;32m   1374\u001b[0m         \u001b[1;31m# we maybe be using a tuple to represent multiple dimensions here\u001b[0m\u001b[1;33m\u001b[0m\u001b[1;33m\u001b[0m\u001b[1;33m\u001b[0m\u001b[0m\n",
      "\u001b[1;32m~\\anaconda3\\lib\\site-packages\\pandas\\core\\indexing.py\u001b[0m in \u001b[0;36m_getitem_nested_tuple\u001b[1;34m(self, tup)\u001b[0m\n\u001b[0;32m   1450\u001b[0m \u001b[1;33m\u001b[0m\u001b[0m\n\u001b[0;32m   1451\u001b[0m             \u001b[0mcurrent_ndim\u001b[0m \u001b[1;33m=\u001b[0m \u001b[0mobj\u001b[0m\u001b[1;33m.\u001b[0m\u001b[0mndim\u001b[0m\u001b[1;33m\u001b[0m\u001b[1;33m\u001b[0m\u001b[0m\n\u001b[1;32m-> 1452\u001b[1;33m             \u001b[0mobj\u001b[0m \u001b[1;33m=\u001b[0m \u001b[0mgetattr\u001b[0m\u001b[1;33m(\u001b[0m\u001b[0mobj\u001b[0m\u001b[1;33m,\u001b[0m \u001b[0mself\u001b[0m\u001b[1;33m.\u001b[0m\u001b[0mname\u001b[0m\u001b[1;33m)\u001b[0m\u001b[1;33m.\u001b[0m\u001b[0m_getitem_axis\u001b[0m\u001b[1;33m(\u001b[0m\u001b[0mkey\u001b[0m\u001b[1;33m,\u001b[0m \u001b[0maxis\u001b[0m\u001b[1;33m=\u001b[0m\u001b[0maxis\u001b[0m\u001b[1;33m)\u001b[0m\u001b[1;33m\u001b[0m\u001b[1;33m\u001b[0m\u001b[0m\n\u001b[0m\u001b[0;32m   1453\u001b[0m             \u001b[0maxis\u001b[0m \u001b[1;33m+=\u001b[0m \u001b[1;36m1\u001b[0m\u001b[1;33m\u001b[0m\u001b[1;33m\u001b[0m\u001b[0m\n\u001b[0;32m   1454\u001b[0m \u001b[1;33m\u001b[0m\u001b[0m\n",
      "\u001b[1;32m~\\anaconda3\\lib\\site-packages\\pandas\\core\\indexing.py\u001b[0m in \u001b[0;36m_getitem_axis\u001b[1;34m(self, key, axis)\u001b[0m\n\u001b[0;32m   2115\u001b[0m     \u001b[1;32mdef\u001b[0m \u001b[0m_getitem_axis\u001b[0m\u001b[1;33m(\u001b[0m\u001b[0mself\u001b[0m\u001b[1;33m,\u001b[0m \u001b[0mkey\u001b[0m\u001b[1;33m,\u001b[0m \u001b[0maxis\u001b[0m\u001b[1;33m:\u001b[0m \u001b[0mint\u001b[0m\u001b[1;33m)\u001b[0m\u001b[1;33m:\u001b[0m\u001b[1;33m\u001b[0m\u001b[1;33m\u001b[0m\u001b[0m\n\u001b[0;32m   2116\u001b[0m         \u001b[1;32mif\u001b[0m \u001b[0misinstance\u001b[0m\u001b[1;33m(\u001b[0m\u001b[0mkey\u001b[0m\u001b[1;33m,\u001b[0m \u001b[0mslice\u001b[0m\u001b[1;33m)\u001b[0m\u001b[1;33m:\u001b[0m\u001b[1;33m\u001b[0m\u001b[1;33m\u001b[0m\u001b[0m\n\u001b[1;32m-> 2117\u001b[1;33m             \u001b[1;32mreturn\u001b[0m \u001b[0mself\u001b[0m\u001b[1;33m.\u001b[0m\u001b[0m_get_slice_axis\u001b[0m\u001b[1;33m(\u001b[0m\u001b[0mkey\u001b[0m\u001b[1;33m,\u001b[0m \u001b[0maxis\u001b[0m\u001b[1;33m=\u001b[0m\u001b[0maxis\u001b[0m\u001b[1;33m)\u001b[0m\u001b[1;33m\u001b[0m\u001b[1;33m\u001b[0m\u001b[0m\n\u001b[0m\u001b[0;32m   2118\u001b[0m \u001b[1;33m\u001b[0m\u001b[0m\n\u001b[0;32m   2119\u001b[0m         \u001b[1;32mif\u001b[0m \u001b[0misinstance\u001b[0m\u001b[1;33m(\u001b[0m\u001b[0mkey\u001b[0m\u001b[1;33m,\u001b[0m \u001b[0mlist\u001b[0m\u001b[1;33m)\u001b[0m\u001b[1;33m:\u001b[0m\u001b[1;33m\u001b[0m\u001b[1;33m\u001b[0m\u001b[0m\n",
      "\u001b[1;32m~\\anaconda3\\lib\\site-packages\\pandas\\core\\indexing.py\u001b[0m in \u001b[0;36m_get_slice_axis\u001b[1;34m(self, slice_obj, axis)\u001b[0m\n\u001b[0;32m   1747\u001b[0m \u001b[1;33m\u001b[0m\u001b[0m\n\u001b[0;32m   1748\u001b[0m         \u001b[0mindexer\u001b[0m \u001b[1;33m=\u001b[0m \u001b[0mself\u001b[0m\u001b[1;33m.\u001b[0m\u001b[0m_convert_slice_indexer\u001b[0m\u001b[1;33m(\u001b[0m\u001b[0mslice_obj\u001b[0m\u001b[1;33m,\u001b[0m \u001b[0maxis\u001b[0m\u001b[1;33m)\u001b[0m\u001b[1;33m\u001b[0m\u001b[1;33m\u001b[0m\u001b[0m\n\u001b[1;32m-> 1749\u001b[1;33m         \u001b[1;32mreturn\u001b[0m \u001b[0mself\u001b[0m\u001b[1;33m.\u001b[0m\u001b[0m_slice\u001b[0m\u001b[1;33m(\u001b[0m\u001b[0mindexer\u001b[0m\u001b[1;33m,\u001b[0m \u001b[0maxis\u001b[0m\u001b[1;33m=\u001b[0m\u001b[0maxis\u001b[0m\u001b[1;33m,\u001b[0m \u001b[0mkind\u001b[0m\u001b[1;33m=\u001b[0m\u001b[1;34m\"iloc\"\u001b[0m\u001b[1;33m)\u001b[0m\u001b[1;33m\u001b[0m\u001b[1;33m\u001b[0m\u001b[0m\n\u001b[0m\u001b[0;32m   1750\u001b[0m \u001b[1;33m\u001b[0m\u001b[0m\n\u001b[0;32m   1751\u001b[0m \u001b[1;33m\u001b[0m\u001b[0m\n",
      "\u001b[1;32m~\\anaconda3\\lib\\site-packages\\pandas\\core\\indexing.py\u001b[0m in \u001b[0;36m_slice\u001b[1;34m(self, obj, axis, kind)\u001b[0m\n\u001b[0;32m    628\u001b[0m \u001b[1;33m\u001b[0m\u001b[0m\n\u001b[0;32m    629\u001b[0m     \u001b[1;32mdef\u001b[0m \u001b[0m_slice\u001b[0m\u001b[1;33m(\u001b[0m\u001b[0mself\u001b[0m\u001b[1;33m,\u001b[0m \u001b[0mobj\u001b[0m\u001b[1;33m,\u001b[0m \u001b[0maxis\u001b[0m\u001b[1;33m:\u001b[0m \u001b[0mint\u001b[0m\u001b[1;33m,\u001b[0m \u001b[0mkind\u001b[0m\u001b[1;33m=\u001b[0m\u001b[1;32mNone\u001b[0m\u001b[1;33m)\u001b[0m\u001b[1;33m:\u001b[0m\u001b[1;33m\u001b[0m\u001b[1;33m\u001b[0m\u001b[0m\n\u001b[1;32m--> 630\u001b[1;33m         \u001b[1;32mreturn\u001b[0m \u001b[0mself\u001b[0m\u001b[1;33m.\u001b[0m\u001b[0mobj\u001b[0m\u001b[1;33m.\u001b[0m\u001b[0m_slice\u001b[0m\u001b[1;33m(\u001b[0m\u001b[0mobj\u001b[0m\u001b[1;33m,\u001b[0m \u001b[0maxis\u001b[0m\u001b[1;33m=\u001b[0m\u001b[0maxis\u001b[0m\u001b[1;33m,\u001b[0m \u001b[0mkind\u001b[0m\u001b[1;33m=\u001b[0m\u001b[0mkind\u001b[0m\u001b[1;33m)\u001b[0m\u001b[1;33m\u001b[0m\u001b[1;33m\u001b[0m\u001b[0m\n\u001b[0m\u001b[0;32m    631\u001b[0m \u001b[1;33m\u001b[0m\u001b[0m\n\u001b[0;32m    632\u001b[0m     \u001b[1;32mdef\u001b[0m \u001b[0m_get_setitem_indexer\u001b[0m\u001b[1;33m(\u001b[0m\u001b[0mself\u001b[0m\u001b[1;33m,\u001b[0m \u001b[0mkey\u001b[0m\u001b[1;33m)\u001b[0m\u001b[1;33m:\u001b[0m\u001b[1;33m\u001b[0m\u001b[1;33m\u001b[0m\u001b[0m\n",
      "\u001b[1;32m~\\anaconda3\\lib\\site-packages\\pandas\\core\\generic.py\u001b[0m in \u001b[0;36m_slice\u001b[1;34m(self, slobj, axis, kind)\u001b[0m\n\u001b[0;32m   3612\u001b[0m         \"\"\"\n\u001b[0;32m   3613\u001b[0m         \u001b[0maxis\u001b[0m \u001b[1;33m=\u001b[0m \u001b[0mself\u001b[0m\u001b[1;33m.\u001b[0m\u001b[0m_get_block_manager_axis\u001b[0m\u001b[1;33m(\u001b[0m\u001b[0maxis\u001b[0m\u001b[1;33m)\u001b[0m\u001b[1;33m\u001b[0m\u001b[1;33m\u001b[0m\u001b[0m\n\u001b[1;32m-> 3614\u001b[1;33m         \u001b[0mresult\u001b[0m \u001b[1;33m=\u001b[0m \u001b[0mself\u001b[0m\u001b[1;33m.\u001b[0m\u001b[0m_constructor\u001b[0m\u001b[1;33m(\u001b[0m\u001b[0mself\u001b[0m\u001b[1;33m.\u001b[0m\u001b[0m_data\u001b[0m\u001b[1;33m.\u001b[0m\u001b[0mget_slice\u001b[0m\u001b[1;33m(\u001b[0m\u001b[0mslobj\u001b[0m\u001b[1;33m,\u001b[0m \u001b[0maxis\u001b[0m\u001b[1;33m=\u001b[0m\u001b[0maxis\u001b[0m\u001b[1;33m)\u001b[0m\u001b[1;33m)\u001b[0m\u001b[1;33m\u001b[0m\u001b[1;33m\u001b[0m\u001b[0m\n\u001b[0m\u001b[0;32m   3615\u001b[0m         \u001b[0mresult\u001b[0m \u001b[1;33m=\u001b[0m \u001b[0mresult\u001b[0m\u001b[1;33m.\u001b[0m\u001b[0m__finalize__\u001b[0m\u001b[1;33m(\u001b[0m\u001b[0mself\u001b[0m\u001b[1;33m)\u001b[0m\u001b[1;33m\u001b[0m\u001b[1;33m\u001b[0m\u001b[0m\n\u001b[0;32m   3616\u001b[0m \u001b[1;33m\u001b[0m\u001b[0m\n",
      "\u001b[1;32m~\\anaconda3\\lib\\site-packages\\pandas\\core\\internals\\managers.py\u001b[0m in \u001b[0;36mget_slice\u001b[1;34m(self, slobj, axis)\u001b[0m\n\u001b[0;32m    743\u001b[0m \u001b[1;33m\u001b[0m\u001b[0m\n\u001b[0;32m    744\u001b[0m         \u001b[1;32mif\u001b[0m \u001b[0maxis\u001b[0m \u001b[1;33m==\u001b[0m \u001b[1;36m0\u001b[0m\u001b[1;33m:\u001b[0m\u001b[1;33m\u001b[0m\u001b[1;33m\u001b[0m\u001b[0m\n\u001b[1;32m--> 745\u001b[1;33m             \u001b[0mnew_blocks\u001b[0m \u001b[1;33m=\u001b[0m \u001b[0mself\u001b[0m\u001b[1;33m.\u001b[0m\u001b[0m_slice_take_blocks_ax0\u001b[0m\u001b[1;33m(\u001b[0m\u001b[0mslobj\u001b[0m\u001b[1;33m)\u001b[0m\u001b[1;33m\u001b[0m\u001b[1;33m\u001b[0m\u001b[0m\n\u001b[0m\u001b[0;32m    746\u001b[0m         \u001b[1;32melse\u001b[0m\u001b[1;33m:\u001b[0m\u001b[1;33m\u001b[0m\u001b[1;33m\u001b[0m\u001b[0m\n\u001b[0;32m    747\u001b[0m             \u001b[0m_slicer\u001b[0m \u001b[1;33m=\u001b[0m \u001b[1;33m[\u001b[0m\u001b[0mslice\u001b[0m\u001b[1;33m(\u001b[0m\u001b[1;32mNone\u001b[0m\u001b[1;33m)\u001b[0m\u001b[1;33m]\u001b[0m \u001b[1;33m*\u001b[0m \u001b[1;33m(\u001b[0m\u001b[0maxis\u001b[0m \u001b[1;33m+\u001b[0m \u001b[1;36m1\u001b[0m\u001b[1;33m)\u001b[0m\u001b[1;33m\u001b[0m\u001b[1;33m\u001b[0m\u001b[0m\n",
      "\u001b[1;32m~\\anaconda3\\lib\\site-packages\\pandas\\core\\internals\\managers.py\u001b[0m in \u001b[0;36m_slice_take_blocks_ax0\u001b[1;34m(self, slice_or_indexer, fill_tuple)\u001b[0m\n\u001b[0;32m   1352\u001b[0m                             \u001b[0maxis\u001b[0m\u001b[1;33m=\u001b[0m\u001b[1;36m0\u001b[0m\u001b[1;33m,\u001b[0m\u001b[1;33m\u001b[0m\u001b[1;33m\u001b[0m\u001b[0m\n\u001b[0;32m   1353\u001b[0m                             \u001b[0mnew_mgr_locs\u001b[0m\u001b[1;33m=\u001b[0m\u001b[0mmgr_locs\u001b[0m\u001b[1;33m,\u001b[0m\u001b[1;33m\u001b[0m\u001b[1;33m\u001b[0m\u001b[0m\n\u001b[1;32m-> 1354\u001b[1;33m                             \u001b[0mfill_tuple\u001b[0m\u001b[1;33m=\u001b[0m\u001b[1;32mNone\u001b[0m\u001b[1;33m,\u001b[0m\u001b[1;33m\u001b[0m\u001b[1;33m\u001b[0m\u001b[0m\n\u001b[0m\u001b[0;32m   1355\u001b[0m                         )\n\u001b[0;32m   1356\u001b[0m                     )\n",
      "\u001b[1;32m~\\anaconda3\\lib\\site-packages\\pandas\\core\\internals\\blocks.py\u001b[0m in \u001b[0;36mtake_nd\u001b[1;34m(self, indexer, axis, new_mgr_locs, fill_tuple)\u001b[0m\n\u001b[0;32m   1289\u001b[0m \u001b[1;33m\u001b[0m\u001b[0m\n\u001b[0;32m   1290\u001b[0m         new_values = algos.take_nd(\n\u001b[1;32m-> 1291\u001b[1;33m             \u001b[0mvalues\u001b[0m\u001b[1;33m,\u001b[0m \u001b[0mindexer\u001b[0m\u001b[1;33m,\u001b[0m \u001b[0maxis\u001b[0m\u001b[1;33m=\u001b[0m\u001b[0maxis\u001b[0m\u001b[1;33m,\u001b[0m \u001b[0mallow_fill\u001b[0m\u001b[1;33m=\u001b[0m\u001b[0mallow_fill\u001b[0m\u001b[1;33m,\u001b[0m \u001b[0mfill_value\u001b[0m\u001b[1;33m=\u001b[0m\u001b[0mfill_value\u001b[0m\u001b[1;33m\u001b[0m\u001b[1;33m\u001b[0m\u001b[0m\n\u001b[0m\u001b[0;32m   1292\u001b[0m         )\n\u001b[0;32m   1293\u001b[0m \u001b[1;33m\u001b[0m\u001b[0m\n",
      "\u001b[1;32m~\\anaconda3\\lib\\site-packages\\pandas\\core\\algorithms.py\u001b[0m in \u001b[0;36mtake_nd\u001b[1;34m(arr, indexer, axis, out, fill_value, allow_fill)\u001b[0m\n\u001b[0;32m   1655\u001b[0m             \u001b[0mout\u001b[0m \u001b[1;33m=\u001b[0m \u001b[0mnp\u001b[0m\u001b[1;33m.\u001b[0m\u001b[0mempty\u001b[0m\u001b[1;33m(\u001b[0m\u001b[0mout_shape\u001b[0m\u001b[1;33m,\u001b[0m \u001b[0mdtype\u001b[0m\u001b[1;33m=\u001b[0m\u001b[0mdtype\u001b[0m\u001b[1;33m,\u001b[0m \u001b[0morder\u001b[0m\u001b[1;33m=\u001b[0m\u001b[1;34m\"F\"\u001b[0m\u001b[1;33m)\u001b[0m\u001b[1;33m\u001b[0m\u001b[1;33m\u001b[0m\u001b[0m\n\u001b[0;32m   1656\u001b[0m         \u001b[1;32melse\u001b[0m\u001b[1;33m:\u001b[0m\u001b[1;33m\u001b[0m\u001b[1;33m\u001b[0m\u001b[0m\n\u001b[1;32m-> 1657\u001b[1;33m             \u001b[0mout\u001b[0m \u001b[1;33m=\u001b[0m \u001b[0mnp\u001b[0m\u001b[1;33m.\u001b[0m\u001b[0mempty\u001b[0m\u001b[1;33m(\u001b[0m\u001b[0mout_shape\u001b[0m\u001b[1;33m,\u001b[0m \u001b[0mdtype\u001b[0m\u001b[1;33m=\u001b[0m\u001b[0mdtype\u001b[0m\u001b[1;33m)\u001b[0m\u001b[1;33m\u001b[0m\u001b[1;33m\u001b[0m\u001b[0m\n\u001b[0m\u001b[0;32m   1658\u001b[0m \u001b[1;33m\u001b[0m\u001b[0m\n\u001b[0;32m   1659\u001b[0m     func = _get_take_nd_function(\n",
      "\u001b[1;31mMemoryError\u001b[0m: Unable to allocate 1.37 GiB for an array with shape (7, 26234010) and data type float64"
     ]
    }
   ],
   "source": [
    "tree_final"
   ]
  },
  {
   "cell_type": "code",
   "execution_count": null,
   "metadata": {},
   "outputs": [],
   "source": []
  }
 ],
 "metadata": {
  "kernelspec": {
   "display_name": "Python 3",
   "language": "python",
   "name": "python3"
  },
  "language_info": {
   "codemirror_mode": {
    "name": "ipython",
    "version": 3
   },
   "file_extension": ".py",
   "mimetype": "text/x-python",
   "name": "python",
   "nbconvert_exporter": "python",
   "pygments_lexer": "ipython3",
   "version": "3.7.6"
  }
 },
 "nbformat": 4,
 "nbformat_minor": 4
}
